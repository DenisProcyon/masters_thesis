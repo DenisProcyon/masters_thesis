{
 "cells": [
  {
   "cell_type": "code",
   "execution_count": 1,
   "metadata": {},
   "outputs": [
    {
     "name": "stderr",
     "output_type": "stream",
     "text": [
      "2025-05-24 23:41:50,056 WARNING Logger Mongo was configured with True console stream\n",
      "2025-05-24 23:41:50,443 INFO Connected to thesis database on 206.81.16.39\n",
      "loading channels:   0%|          | 0/8 [00:00<?, ?it/s]"
     ]
    },
    {
     "name": "stdout",
     "output_type": "stream",
     "text": [
      "channel: elpaismexico_2020 - 0 post found\n"
     ]
    },
    {
     "name": "stderr",
     "output_type": "stream",
     "text": []
    },
    {
     "name": "stdout",
     "output_type": "stream",
     "text": [
      "channel: ElUniversalOnline_2020 - 1424 post found\n"
     ]
    },
    {
     "name": "stderr",
     "output_type": "stream",
     "text": [
      "loading channels:  25%|██▌       | 2/8 [00:01<00:03,  1.71it/s]"
     ]
    },
    {
     "name": "stdout",
     "output_type": "stream",
     "text": [
      "channel: proceso_unofficial_2020 - 0 post found\n"
     ]
    },
    {
     "name": "stderr",
     "output_type": "stream",
     "text": []
    },
    {
     "name": "stdout",
     "output_type": "stream",
     "text": [
      "channel: politicomx_2020 - 1312 post found\n"
     ]
    },
    {
     "name": "stderr",
     "output_type": "stream",
     "text": [
      "loading channels:  50%|█████     | 4/8 [00:01<00:01,  3.02it/s]"
     ]
    },
    {
     "name": "stdout",
     "output_type": "stream",
     "text": [
      "channel: lajornada_unofficial_2020 - 0 post found\n"
     ]
    },
    {
     "name": "stderr",
     "output_type": "stream",
     "text": []
    },
    {
     "name": "stdout",
     "output_type": "stream",
     "text": [
      "channel: larazondemexico_2020 - 2324 post found\n"
     ]
    },
    {
     "name": "stderr",
     "output_type": "stream",
     "text": [
      "loading channels:  75%|███████▌  | 6/8 [00:02<00:00,  3.02it/s]"
     ]
    },
    {
     "name": "stdout",
     "output_type": "stream",
     "text": [
      "channel: sinembargomx_2020 - 5576 post found\n"
     ]
    },
    {
     "name": "stderr",
     "output_type": "stream",
     "text": [
      "loading channels:  88%|████████▊ | 7/8 [00:02<00:00,  2.57it/s]"
     ]
    },
    {
     "name": "stdout",
     "output_type": "stream",
     "text": [
      "channel: elpaisamerica_2020 - 0 post found\n"
     ]
    },
    {
     "name": "stderr",
     "output_type": "stream",
     "text": [
      "loading channels: 100%|██████████| 8/8 [00:02<00:00,  2.89it/s]\n",
      "/Users/noemilucchi/miniforge3/envs/new/lib/python3.10/site-packages/huggingface_hub/file_download.py:896: FutureWarning: `resume_download` is deprecated and will be removed in version 1.0.0. Downloads always resume when possible. If you want to force a new download, use `force_download=True`.\n",
      "  warnings.warn(\n"
     ]
    },
    {
     "name": "stdout",
     "output_type": "stream",
     "text": [
      "\n",
      "analyzing Guanajuato (179 posts)...\n"
     ]
    },
    {
     "name": "stderr",
     "output_type": "stream",
     "text": [
      "Classifying Guanajuato: 100%|██████████| 179/179 [00:08<00:00, 22.35it/s]\n"
     ]
    },
    {
     "name": "stdout",
     "output_type": "stream",
     "text": [
      "\n",
      "results for Guanajuato:\n",
      "total posts: 179\n",
      "\n",
      "distribution of posts across dimensions of poverty:\n",
      "- INCOME: 34 post (19.0%)\n",
      "- ACCESS TO HEALTH SERVICES: 49 post (27.4%)\n",
      "- EDUCATIONAL_LAG: 10 post (5.6%)\n",
      "- ACCESS TO SOCIAL SECURITY: 55 post (30.7%)\n",
      "- HOUSING: 10 post (5.6%)\n",
      "- ACCESS TO FOOD: 3 post (1.7%)\n",
      "- SOCIAL_COHESION: 0 post (0.0%)\n",
      "- non-poverty posts: 18 post (10.1%)\n",
      "\n",
      "analyzing Michoacán (66 posts)...\n"
     ]
    },
    {
     "name": "stderr",
     "output_type": "stream",
     "text": [
      "Classifying Michoacán: 100%|██████████| 66/66 [00:02<00:00, 24.23it/s]\n"
     ]
    },
    {
     "name": "stdout",
     "output_type": "stream",
     "text": [
      "\n",
      "results for Michoacán:\n",
      "total posts: 66\n",
      "\n",
      "distribution of posts across dimensions of poverty:\n",
      "- INCOME: 14 post (21.2%)\n",
      "- ACCESS TO HEALTH SERVICES: 29 post (43.9%)\n",
      "- EDUCATIONAL_LAG: 5 post (7.6%)\n",
      "- ACCESS TO SOCIAL SECURITY: 14 post (21.2%)\n",
      "- HOUSING: 0 post (0.0%)\n",
      "- ACCESS TO FOOD: 0 post (0.0%)\n",
      "- SOCIAL_COHESION: 0 post (0.0%)\n",
      "- non-poverty posts: 4 post (6.1%)\n",
      "\n",
      "analyzing Sinaloa (67 posts)...\n"
     ]
    },
    {
     "name": "stderr",
     "output_type": "stream",
     "text": [
      "Classifying Sinaloa: 100%|██████████| 67/67 [00:02<00:00, 33.08it/s]\n"
     ]
    },
    {
     "name": "stdout",
     "output_type": "stream",
     "text": [
      "\n",
      "results for Sinaloa:\n",
      "total posts: 67\n",
      "\n",
      "distribution of posts across dimensions of poverty:\n",
      "- INCOME: 11 post (16.4%)\n",
      "- ACCESS TO HEALTH SERVICES: 26 post (38.8%)\n",
      "- EDUCATIONAL_LAG: 1 post (1.5%)\n",
      "- ACCESS TO SOCIAL SECURITY: 17 post (25.4%)\n",
      "- HOUSING: 1 post (1.5%)\n",
      "- ACCESS TO FOOD: 2 post (3.0%)\n",
      "- SOCIAL_COHESION: 3 post (4.5%)\n",
      "- non-poverty posts: 6 post (9.0%)\n",
      "\n",
      "analyzing Chihuahua (106 posts)...\n"
     ]
    },
    {
     "name": "stderr",
     "output_type": "stream",
     "text": [
      "Classifying Chihuahua: 100%|██████████| 106/106 [00:03<00:00, 28.41it/s]\n"
     ]
    },
    {
     "name": "stdout",
     "output_type": "stream",
     "text": [
      "\n",
      "results for Chihuahua:\n",
      "total posts: 106\n",
      "\n",
      "distribution of posts across dimensions of poverty:\n",
      "- INCOME: 13 post (12.3%)\n",
      "- ACCESS TO HEALTH SERVICES: 33 post (31.1%)\n",
      "- EDUCATIONAL_LAG: 6 post (5.7%)\n",
      "- ACCESS TO SOCIAL SECURITY: 28 post (26.4%)\n",
      "- HOUSING: 7 post (6.6%)\n",
      "- ACCESS TO FOOD: 8 post (7.5%)\n",
      "- SOCIAL_COHESION: 3 post (2.8%)\n",
      "- non-poverty posts: 8 post (7.5%)\n",
      "\n",
      "analyzing Guerrero (87 posts)...\n"
     ]
    },
    {
     "name": "stderr",
     "output_type": "stream",
     "text": [
      "Classifying Guerrero: 100%|██████████| 87/87 [00:02<00:00, 38.40it/s]\n"
     ]
    },
    {
     "name": "stdout",
     "output_type": "stream",
     "text": [
      "\n",
      "results for Guerrero:\n",
      "total posts: 87\n",
      "\n",
      "distribution of posts across dimensions of poverty:\n",
      "- INCOME: 12 post (13.8%)\n",
      "- ACCESS TO HEALTH SERVICES: 27 post (31.0%)\n",
      "- EDUCATIONAL_LAG: 6 post (6.9%)\n",
      "- ACCESS TO SOCIAL SECURITY: 28 post (32.2%)\n",
      "- HOUSING: 7 post (8.0%)\n",
      "- ACCESS TO FOOD: 1 post (1.1%)\n",
      "- SOCIAL_COHESION: 1 post (1.1%)\n",
      "- non-poverty posts: 5 post (5.7%)\n",
      "\n",
      "analyzing Tamaulipas (69 posts)...\n"
     ]
    },
    {
     "name": "stderr",
     "output_type": "stream",
     "text": [
      "Classifying Tamaulipas: 100%|██████████| 69/69 [00:01<00:00, 35.02it/s]\n"
     ]
    },
    {
     "name": "stdout",
     "output_type": "stream",
     "text": [
      "\n",
      "results for Tamaulipas:\n",
      "total posts: 69\n",
      "\n",
      "distribution of posts across dimensions of poverty:\n",
      "- INCOME: 8 post (11.6%)\n",
      "- ACCESS TO HEALTH SERVICES: 31 post (44.9%)\n",
      "- EDUCATIONAL_LAG: 4 post (5.8%)\n",
      "- ACCESS TO SOCIAL SECURITY: 18 post (26.1%)\n",
      "- HOUSING: 0 post (0.0%)\n",
      "- ACCESS TO FOOD: 5 post (7.2%)\n",
      "- SOCIAL_COHESION: 1 post (1.4%)\n",
      "- non-poverty posts: 2 post (2.9%)\n",
      "\n",
      "analyzing Baja California (31 posts)...\n"
     ]
    },
    {
     "name": "stderr",
     "output_type": "stream",
     "text": [
      "Classifying Baja California: 100%|██████████| 31/31 [00:01<00:00, 24.83it/s]\n"
     ]
    },
    {
     "name": "stdout",
     "output_type": "stream",
     "text": [
      "\n",
      "results for Baja California:\n",
      "total posts: 31\n",
      "\n",
      "distribution of posts across dimensions of poverty:\n",
      "- INCOME: 5 post (16.1%)\n",
      "- ACCESS TO HEALTH SERVICES: 12 post (38.7%)\n",
      "- EDUCATIONAL_LAG: 0 post (0.0%)\n",
      "- ACCESS TO SOCIAL SECURITY: 9 post (29.0%)\n",
      "- HOUSING: 0 post (0.0%)\n",
      "- ACCESS TO FOOD: 0 post (0.0%)\n",
      "- SOCIAL_COHESION: 0 post (0.0%)\n",
      "- non-poverty posts: 5 post (16.1%)\n",
      "\n",
      "analyzing Zacatecas (47 posts)...\n"
     ]
    },
    {
     "name": "stderr",
     "output_type": "stream",
     "text": [
      "Classifying Zacatecas: 100%|██████████| 47/47 [00:01<00:00, 34.98it/s]\n"
     ]
    },
    {
     "name": "stdout",
     "output_type": "stream",
     "text": [
      "\n",
      "results for Zacatecas:\n",
      "total posts: 47\n",
      "\n",
      "distribution of posts across dimensions of poverty:\n",
      "- INCOME: 10 post (21.3%)\n",
      "- ACCESS TO HEALTH SERVICES: 15 post (31.9%)\n",
      "- EDUCATIONAL_LAG: 5 post (10.6%)\n",
      "- ACCESS TO SOCIAL SECURITY: 12 post (25.5%)\n",
      "- HOUSING: 0 post (0.0%)\n",
      "- ACCESS TO FOOD: 2 post (4.3%)\n",
      "- SOCIAL_COHESION: 3 post (6.4%)\n",
      "- non-poverty posts: 0 post (0.0%)\n",
      "\n",
      "analyzing Colima (46 posts)...\n"
     ]
    },
    {
     "name": "stderr",
     "output_type": "stream",
     "text": [
      "Classifying Colima: 100%|██████████| 46/46 [00:01<00:00, 31.12it/s]\n"
     ]
    },
    {
     "name": "stdout",
     "output_type": "stream",
     "text": [
      "\n",
      "results for Colima:\n",
      "total posts: 46\n",
      "\n",
      "distribution of posts across dimensions of poverty:\n",
      "- INCOME: 9 post (19.6%)\n",
      "- ACCESS TO HEALTH SERVICES: 16 post (34.8%)\n",
      "- EDUCATIONAL_LAG: 0 post (0.0%)\n",
      "- ACCESS TO SOCIAL SECURITY: 12 post (26.1%)\n",
      "- HOUSING: 3 post (6.5%)\n",
      "- ACCESS TO FOOD: 1 post (2.2%)\n",
      "- SOCIAL_COHESION: 0 post (0.0%)\n",
      "- non-poverty posts: 5 post (10.9%)\n",
      "\n",
      "analyzing Jalisco (151 posts)...\n"
     ]
    },
    {
     "name": "stderr",
     "output_type": "stream",
     "text": [
      "Classifying Jalisco: 100%|██████████| 151/151 [00:04<00:00, 33.66it/s]\n"
     ]
    },
    {
     "name": "stdout",
     "output_type": "stream",
     "text": [
      "\n",
      "results for Jalisco:\n",
      "total posts: 151\n",
      "\n",
      "distribution of posts across dimensions of poverty:\n",
      "- INCOME: 27 post (17.9%)\n",
      "- ACCESS TO HEALTH SERVICES: 70 post (46.4%)\n",
      "- EDUCATIONAL_LAG: 7 post (4.6%)\n",
      "- ACCESS TO SOCIAL SECURITY: 33 post (21.9%)\n",
      "- HOUSING: 6 post (4.0%)\n",
      "- ACCESS TO FOOD: 1 post (0.7%)\n",
      "- SOCIAL_COHESION: 3 post (2.0%)\n",
      "- non-poverty posts: 4 post (2.6%)\n",
      "\n",
      "analyzing Aguascalientes (13 posts)...\n"
     ]
    },
    {
     "name": "stderr",
     "output_type": "stream",
     "text": [
      "Classifying Aguascalientes: 100%|██████████| 13/13 [00:00<00:00, 19.57it/s]\n"
     ]
    },
    {
     "name": "stdout",
     "output_type": "stream",
     "text": [
      "\n",
      "results for Aguascalientes:\n",
      "total posts: 13\n",
      "\n",
      "distribution of posts across dimensions of poverty:\n",
      "- INCOME: 1 post (7.7%)\n",
      "- ACCESS TO HEALTH SERVICES: 4 post (30.8%)\n",
      "- EDUCATIONAL_LAG: 1 post (7.7%)\n",
      "- ACCESS TO SOCIAL SECURITY: 7 post (53.8%)\n",
      "- HOUSING: 0 post (0.0%)\n",
      "- ACCESS TO FOOD: 0 post (0.0%)\n",
      "- SOCIAL_COHESION: 0 post (0.0%)\n",
      "- non-poverty posts: 0 post (0.0%)\n",
      "\n",
      "analyzing Baja California Sur (7 posts)...\n"
     ]
    },
    {
     "name": "stderr",
     "output_type": "stream",
     "text": [
      "Classifying Baja California Sur: 100%|██████████| 7/7 [00:00<00:00, 28.98it/s]\n"
     ]
    },
    {
     "name": "stdout",
     "output_type": "stream",
     "text": [
      "\n",
      "results for Baja California Sur:\n",
      "total posts: 7\n",
      "\n",
      "distribution of posts across dimensions of poverty:\n",
      "- INCOME: 0 post (0.0%)\n",
      "- ACCESS TO HEALTH SERVICES: 4 post (57.1%)\n",
      "- EDUCATIONAL_LAG: 0 post (0.0%)\n",
      "- ACCESS TO SOCIAL SECURITY: 2 post (28.6%)\n",
      "- HOUSING: 0 post (0.0%)\n",
      "- ACCESS TO FOOD: 0 post (0.0%)\n",
      "- SOCIAL_COHESION: 0 post (0.0%)\n",
      "- non-poverty posts: 1 post (14.3%)\n",
      "\n",
      "analyzing Campeche (39 posts)...\n"
     ]
    },
    {
     "name": "stderr",
     "output_type": "stream",
     "text": [
      "Classifying Campeche: 100%|██████████| 39/39 [00:01<00:00, 35.94it/s]\n"
     ]
    },
    {
     "name": "stdout",
     "output_type": "stream",
     "text": [
      "\n",
      "results for Campeche:\n",
      "total posts: 39\n",
      "\n",
      "distribution of posts across dimensions of poverty:\n",
      "- INCOME: 3 post (7.7%)\n",
      "- ACCESS TO HEALTH SERVICES: 10 post (25.6%)\n",
      "- EDUCATIONAL_LAG: 6 post (15.4%)\n",
      "- ACCESS TO SOCIAL SECURITY: 11 post (28.2%)\n",
      "- HOUSING: 0 post (0.0%)\n",
      "- ACCESS TO FOOD: 2 post (5.1%)\n",
      "- SOCIAL_COHESION: 0 post (0.0%)\n",
      "- non-poverty posts: 7 post (17.9%)\n",
      "\n",
      "analyzing Coahuila (89 posts)...\n"
     ]
    },
    {
     "name": "stderr",
     "output_type": "stream",
     "text": [
      "Classifying Coahuila: 100%|██████████| 89/89 [00:02<00:00, 31.00it/s]\n"
     ]
    },
    {
     "name": "stdout",
     "output_type": "stream",
     "text": [
      "\n",
      "results for Coahuila:\n",
      "total posts: 89\n",
      "\n",
      "distribution of posts across dimensions of poverty:\n",
      "- INCOME: 13 post (14.6%)\n",
      "- ACCESS TO HEALTH SERVICES: 33 post (37.1%)\n",
      "- EDUCATIONAL_LAG: 4 post (4.5%)\n",
      "- ACCESS TO SOCIAL SECURITY: 27 post (30.3%)\n",
      "- HOUSING: 1 post (1.1%)\n",
      "- ACCESS TO FOOD: 3 post (3.4%)\n",
      "- SOCIAL_COHESION: 4 post (4.5%)\n",
      "- non-poverty posts: 4 post (4.5%)\n",
      "\n",
      "analyzing Durango (24 posts)...\n"
     ]
    },
    {
     "name": "stderr",
     "output_type": "stream",
     "text": [
      "Classifying Durango: 100%|██████████| 24/24 [00:00<00:00, 24.59it/s]\n"
     ]
    },
    {
     "name": "stdout",
     "output_type": "stream",
     "text": [
      "\n",
      "results for Durango:\n",
      "total posts: 24\n",
      "\n",
      "distribution of posts across dimensions of poverty:\n",
      "- INCOME: 6 post (25.0%)\n",
      "- ACCESS TO HEALTH SERVICES: 9 post (37.5%)\n",
      "- EDUCATIONAL_LAG: 2 post (8.3%)\n",
      "- ACCESS TO SOCIAL SECURITY: 6 post (25.0%)\n",
      "- HOUSING: 1 post (4.2%)\n",
      "- ACCESS TO FOOD: 0 post (0.0%)\n",
      "- SOCIAL_COHESION: 0 post (0.0%)\n",
      "- non-poverty posts: 0 post (0.0%)\n",
      "\n",
      "analyzing Hidalgo (99 posts)...\n"
     ]
    },
    {
     "name": "stderr",
     "output_type": "stream",
     "text": [
      "Classifying Hidalgo: 100%|██████████| 99/99 [00:02<00:00, 39.12it/s]\n"
     ]
    },
    {
     "name": "stdout",
     "output_type": "stream",
     "text": [
      "\n",
      "results for Hidalgo:\n",
      "total posts: 99\n",
      "\n",
      "distribution of posts across dimensions of poverty:\n",
      "- INCOME: 11 post (11.1%)\n",
      "- ACCESS TO HEALTH SERVICES: 28 post (28.3%)\n",
      "- EDUCATIONAL_LAG: 1 post (1.0%)\n",
      "- ACCESS TO SOCIAL SECURITY: 46 post (46.5%)\n",
      "- HOUSING: 2 post (2.0%)\n",
      "- ACCESS TO FOOD: 2 post (2.0%)\n",
      "- SOCIAL_COHESION: 5 post (5.1%)\n",
      "- non-poverty posts: 4 post (4.0%)\n",
      "\n",
      "analyzing Estado de México (6 posts)...\n"
     ]
    },
    {
     "name": "stderr",
     "output_type": "stream",
     "text": [
      "Classifying Estado de México: 100%|██████████| 6/6 [00:00<00:00, 35.83it/s]\n"
     ]
    },
    {
     "name": "stdout",
     "output_type": "stream",
     "text": [
      "\n",
      "results for Estado de México:\n",
      "total posts: 6\n",
      "\n",
      "distribution of posts across dimensions of poverty:\n",
      "- INCOME: 0 post (0.0%)\n",
      "- ACCESS TO HEALTH SERVICES: 3 post (50.0%)\n",
      "- EDUCATIONAL_LAG: 0 post (0.0%)\n",
      "- ACCESS TO SOCIAL SECURITY: 0 post (0.0%)\n",
      "- HOUSING: 0 post (0.0%)\n",
      "- ACCESS TO FOOD: 0 post (0.0%)\n",
      "- SOCIAL_COHESION: 0 post (0.0%)\n",
      "- non-poverty posts: 3 post (50.0%)\n",
      "\n",
      "analyzing Ciudad de México (34 posts)...\n"
     ]
    },
    {
     "name": "stderr",
     "output_type": "stream",
     "text": [
      "Classifying Ciudad de México: 100%|██████████| 34/34 [00:01<00:00, 24.95it/s]\n"
     ]
    },
    {
     "name": "stdout",
     "output_type": "stream",
     "text": [
      "\n",
      "results for Ciudad de México:\n",
      "total posts: 34\n",
      "\n",
      "distribution of posts across dimensions of poverty:\n",
      "- INCOME: 5 post (14.7%)\n",
      "- ACCESS TO HEALTH SERVICES: 18 post (52.9%)\n",
      "- EDUCATIONAL_LAG: 1 post (2.9%)\n",
      "- ACCESS TO SOCIAL SECURITY: 7 post (20.6%)\n",
      "- HOUSING: 0 post (0.0%)\n",
      "- ACCESS TO FOOD: 0 post (0.0%)\n",
      "- SOCIAL_COHESION: 1 post (2.9%)\n",
      "- non-poverty posts: 2 post (5.9%)\n",
      "\n",
      "analyzing Morelos (72 posts)...\n"
     ]
    },
    {
     "name": "stderr",
     "output_type": "stream",
     "text": [
      "Classifying Morelos: 100%|██████████| 72/72 [00:01<00:00, 38.03it/s]\n"
     ]
    },
    {
     "name": "stdout",
     "output_type": "stream",
     "text": [
      "\n",
      "results for Morelos:\n",
      "total posts: 72\n",
      "\n",
      "distribution of posts across dimensions of poverty:\n",
      "- INCOME: 9 post (12.5%)\n",
      "- ACCESS TO HEALTH SERVICES: 28 post (38.9%)\n",
      "- EDUCATIONAL_LAG: 0 post (0.0%)\n",
      "- ACCESS TO SOCIAL SECURITY: 26 post (36.1%)\n",
      "- HOUSING: 2 post (2.8%)\n",
      "- ACCESS TO FOOD: 0 post (0.0%)\n",
      "- SOCIAL_COHESION: 3 post (4.2%)\n",
      "- non-poverty posts: 4 post (5.6%)\n",
      "\n",
      "analyzing Nayarit (26 posts)...\n"
     ]
    },
    {
     "name": "stderr",
     "output_type": "stream",
     "text": [
      "Classifying Nayarit: 100%|██████████| 26/26 [00:00<00:00, 38.32it/s]\n"
     ]
    },
    {
     "name": "stdout",
     "output_type": "stream",
     "text": [
      "\n",
      "results for Nayarit:\n",
      "total posts: 26\n",
      "\n",
      "distribution of posts across dimensions of poverty:\n",
      "- INCOME: 1 post (3.8%)\n",
      "- ACCESS TO HEALTH SERVICES: 9 post (34.6%)\n",
      "- EDUCATIONAL_LAG: 0 post (0.0%)\n",
      "- ACCESS TO SOCIAL SECURITY: 10 post (38.5%)\n",
      "- HOUSING: 2 post (7.7%)\n",
      "- ACCESS TO FOOD: 0 post (0.0%)\n",
      "- SOCIAL_COHESION: 0 post (0.0%)\n",
      "- non-poverty posts: 4 post (15.4%)\n",
      "\n",
      "analyzing Nuevo León (48 posts)...\n"
     ]
    },
    {
     "name": "stderr",
     "output_type": "stream",
     "text": [
      "Classifying Nuevo León: 100%|██████████| 48/48 [00:01<00:00, 28.92it/s]\n"
     ]
    },
    {
     "name": "stdout",
     "output_type": "stream",
     "text": [
      "\n",
      "results for Nuevo León:\n",
      "total posts: 48\n",
      "\n",
      "distribution of posts across dimensions of poverty:\n",
      "- INCOME: 2 post (4.2%)\n",
      "- ACCESS TO HEALTH SERVICES: 32 post (66.7%)\n",
      "- EDUCATIONAL_LAG: 1 post (2.1%)\n",
      "- ACCESS TO SOCIAL SECURITY: 11 post (22.9%)\n",
      "- HOUSING: 0 post (0.0%)\n",
      "- ACCESS TO FOOD: 1 post (2.1%)\n",
      "- SOCIAL_COHESION: 0 post (0.0%)\n",
      "- non-poverty posts: 1 post (2.1%)\n",
      "\n",
      "analyzing Oaxaca (115 posts)...\n"
     ]
    },
    {
     "name": "stderr",
     "output_type": "stream",
     "text": [
      "Classifying Oaxaca: 100%|██████████| 115/115 [00:03<00:00, 34.99it/s]\n"
     ]
    },
    {
     "name": "stdout",
     "output_type": "stream",
     "text": [
      "\n",
      "results for Oaxaca:\n",
      "total posts: 115\n",
      "\n",
      "distribution of posts across dimensions of poverty:\n",
      "- INCOME: 20 post (17.4%)\n",
      "- ACCESS TO HEALTH SERVICES: 57 post (49.6%)\n",
      "- EDUCATIONAL_LAG: 5 post (4.3%)\n",
      "- ACCESS TO SOCIAL SECURITY: 25 post (21.7%)\n",
      "- HOUSING: 3 post (2.6%)\n",
      "- ACCESS TO FOOD: 2 post (1.7%)\n",
      "- SOCIAL_COHESION: 1 post (0.9%)\n",
      "- non-poverty posts: 2 post (1.7%)\n",
      "\n",
      "analyzing Puebla (112 posts)...\n"
     ]
    },
    {
     "name": "stderr",
     "output_type": "stream",
     "text": [
      "Classifying Puebla: 100%|██████████| 112/112 [00:02<00:00, 42.21it/s]\n"
     ]
    },
    {
     "name": "stdout",
     "output_type": "stream",
     "text": [
      "\n",
      "results for Puebla:\n",
      "total posts: 112\n",
      "\n",
      "distribution of posts across dimensions of poverty:\n",
      "- INCOME: 12 post (10.7%)\n",
      "- ACCESS TO HEALTH SERVICES: 39 post (34.8%)\n",
      "- EDUCATIONAL_LAG: 8 post (7.1%)\n",
      "- ACCESS TO SOCIAL SECURITY: 31 post (27.7%)\n",
      "- HOUSING: 14 post (12.5%)\n",
      "- ACCESS TO FOOD: 0 post (0.0%)\n",
      "- SOCIAL_COHESION: 6 post (5.4%)\n",
      "- non-poverty posts: 2 post (1.8%)\n",
      "\n",
      "analyzing Querétaro (58 posts)...\n"
     ]
    },
    {
     "name": "stderr",
     "output_type": "stream",
     "text": [
      "Classifying Querétaro: 100%|██████████| 58/58 [00:01<00:00, 45.03it/s]\n"
     ]
    },
    {
     "name": "stdout",
     "output_type": "stream",
     "text": [
      "\n",
      "results for Querétaro:\n",
      "total posts: 58\n",
      "\n",
      "distribution of posts across dimensions of poverty:\n",
      "- INCOME: 7 post (12.1%)\n",
      "- ACCESS TO HEALTH SERVICES: 23 post (39.7%)\n",
      "- EDUCATIONAL_LAG: 0 post (0.0%)\n",
      "- ACCESS TO SOCIAL SECURITY: 28 post (48.3%)\n",
      "- HOUSING: 0 post (0.0%)\n",
      "- ACCESS TO FOOD: 0 post (0.0%)\n",
      "- SOCIAL_COHESION: 0 post (0.0%)\n",
      "- non-poverty posts: 0 post (0.0%)\n",
      "\n",
      "analyzing Quintana Roo (23 posts)...\n"
     ]
    },
    {
     "name": "stderr",
     "output_type": "stream",
     "text": [
      "Classifying Quintana Roo: 100%|██████████| 23/23 [00:00<00:00, 32.21it/s]\n"
     ]
    },
    {
     "name": "stdout",
     "output_type": "stream",
     "text": [
      "\n",
      "results for Quintana Roo:\n",
      "total posts: 23\n",
      "\n",
      "distribution of posts across dimensions of poverty:\n",
      "- INCOME: 4 post (17.4%)\n",
      "- ACCESS TO HEALTH SERVICES: 12 post (52.2%)\n",
      "- EDUCATIONAL_LAG: 0 post (0.0%)\n",
      "- ACCESS TO SOCIAL SECURITY: 6 post (26.1%)\n",
      "- HOUSING: 0 post (0.0%)\n",
      "- ACCESS TO FOOD: 0 post (0.0%)\n",
      "- SOCIAL_COHESION: 0 post (0.0%)\n",
      "- non-poverty posts: 1 post (4.3%)\n",
      "\n",
      "analyzing San Luis Potosí (4 posts)...\n"
     ]
    },
    {
     "name": "stderr",
     "output_type": "stream",
     "text": [
      "Classifying San Luis Potosí: 100%|██████████| 4/4 [00:00<00:00, 59.43it/s]\n"
     ]
    },
    {
     "name": "stdout",
     "output_type": "stream",
     "text": [
      "\n",
      "results for San Luis Potosí:\n",
      "total posts: 4\n",
      "\n",
      "distribution of posts across dimensions of poverty:\n",
      "- INCOME: 2 post (50.0%)\n",
      "- ACCESS TO HEALTH SERVICES: 2 post (50.0%)\n",
      "- EDUCATIONAL_LAG: 0 post (0.0%)\n",
      "- ACCESS TO SOCIAL SECURITY: 0 post (0.0%)\n",
      "- HOUSING: 0 post (0.0%)\n",
      "- ACCESS TO FOOD: 0 post (0.0%)\n",
      "- SOCIAL_COHESION: 0 post (0.0%)\n",
      "- non-poverty posts: 0 post (0.0%)\n",
      "\n",
      "analyzing Sonora (64 posts)...\n"
     ]
    },
    {
     "name": "stderr",
     "output_type": "stream",
     "text": [
      "Classifying Sonora: 100%|██████████| 64/64 [00:01<00:00, 39.27it/s]\n"
     ]
    },
    {
     "name": "stdout",
     "output_type": "stream",
     "text": [
      "\n",
      "results for Sonora:\n",
      "total posts: 64\n",
      "\n",
      "distribution of posts across dimensions of poverty:\n",
      "- INCOME: 12 post (18.8%)\n",
      "- ACCESS TO HEALTH SERVICES: 17 post (26.6%)\n",
      "- EDUCATIONAL_LAG: 1 post (1.6%)\n",
      "- ACCESS TO SOCIAL SECURITY: 26 post (40.6%)\n",
      "- HOUSING: 3 post (4.7%)\n",
      "- ACCESS TO FOOD: 0 post (0.0%)\n",
      "- SOCIAL_COHESION: 3 post (4.7%)\n",
      "- non-poverty posts: 2 post (3.1%)\n",
      "\n",
      "analyzing Tabasco (118 posts)...\n"
     ]
    },
    {
     "name": "stderr",
     "output_type": "stream",
     "text": [
      "Classifying Tabasco: 100%|██████████| 118/118 [00:03<00:00, 33.02it/s]\n"
     ]
    },
    {
     "name": "stdout",
     "output_type": "stream",
     "text": [
      "\n",
      "results for Tabasco:\n",
      "total posts: 118\n",
      "\n",
      "distribution of posts across dimensions of poverty:\n",
      "- INCOME: 31 post (26.3%)\n",
      "- ACCESS TO HEALTH SERVICES: 52 post (44.1%)\n",
      "- EDUCATIONAL_LAG: 1 post (0.8%)\n",
      "- ACCESS TO SOCIAL SECURITY: 25 post (21.2%)\n",
      "- HOUSING: 3 post (2.5%)\n",
      "- ACCESS TO FOOD: 2 post (1.7%)\n",
      "- SOCIAL_COHESION: 0 post (0.0%)\n",
      "- non-poverty posts: 4 post (3.4%)\n",
      "\n",
      "analyzing Tlaxcala (21 posts)...\n"
     ]
    },
    {
     "name": "stderr",
     "output_type": "stream",
     "text": [
      "Classifying Tlaxcala: 100%|██████████| 21/21 [00:00<00:00, 45.79it/s]\n"
     ]
    },
    {
     "name": "stdout",
     "output_type": "stream",
     "text": [
      "\n",
      "results for Tlaxcala:\n",
      "total posts: 21\n",
      "\n",
      "distribution of posts across dimensions of poverty:\n",
      "- INCOME: 3 post (14.3%)\n",
      "- ACCESS TO HEALTH SERVICES: 7 post (33.3%)\n",
      "- EDUCATIONAL_LAG: 0 post (0.0%)\n",
      "- ACCESS TO SOCIAL SECURITY: 10 post (47.6%)\n",
      "- HOUSING: 0 post (0.0%)\n",
      "- ACCESS TO FOOD: 0 post (0.0%)\n",
      "- SOCIAL_COHESION: 1 post (4.8%)\n",
      "- non-poverty posts: 0 post (0.0%)\n",
      "\n",
      "analyzing Veracruz (92 posts)...\n"
     ]
    },
    {
     "name": "stderr",
     "output_type": "stream",
     "text": [
      "Classifying Veracruz: 100%|██████████| 92/92 [00:02<00:00, 40.18it/s]\n"
     ]
    },
    {
     "name": "stdout",
     "output_type": "stream",
     "text": [
      "\n",
      "results for Veracruz:\n",
      "total posts: 92\n",
      "\n",
      "distribution of posts across dimensions of poverty:\n",
      "- INCOME: 12 post (13.0%)\n",
      "- ACCESS TO HEALTH SERVICES: 37 post (40.2%)\n",
      "- EDUCATIONAL_LAG: 5 post (5.4%)\n",
      "- ACCESS TO SOCIAL SECURITY: 32 post (34.8%)\n",
      "- HOUSING: 1 post (1.1%)\n",
      "- ACCESS TO FOOD: 2 post (2.2%)\n",
      "- SOCIAL_COHESION: 1 post (1.1%)\n",
      "- non-poverty posts: 2 post (2.2%)\n",
      "\n",
      "analyzing Yucatán (42 posts)...\n"
     ]
    },
    {
     "name": "stderr",
     "output_type": "stream",
     "text": [
      "Classifying Yucatán: 100%|██████████| 42/42 [00:01<00:00, 38.20it/s]\n"
     ]
    },
    {
     "name": "stdout",
     "output_type": "stream",
     "text": [
      "\n",
      "results for Yucatán:\n",
      "total posts: 42\n",
      "\n",
      "distribution of posts across dimensions of poverty:\n",
      "- INCOME: 7 post (16.7%)\n",
      "- ACCESS TO HEALTH SERVICES: 18 post (42.9%)\n",
      "- EDUCATIONAL_LAG: 0 post (0.0%)\n",
      "- ACCESS TO SOCIAL SECURITY: 14 post (33.3%)\n",
      "- HOUSING: 1 post (2.4%)\n",
      "- ACCESS TO FOOD: 1 post (2.4%)\n",
      "- SOCIAL_COHESION: 0 post (0.0%)\n",
      "- non-poverty posts: 1 post (2.4%)\n",
      "\n",
      "analyzing Chiapas (81 posts)...\n"
     ]
    },
    {
     "name": "stderr",
     "output_type": "stream",
     "text": [
      "Classifying Chiapas: 100%|██████████| 81/81 [00:02<00:00, 36.05it/s]\n"
     ]
    },
    {
     "name": "stdout",
     "output_type": "stream",
     "text": [
      "\n",
      "results for Chiapas:\n",
      "total posts: 81\n",
      "\n",
      "distribution of posts across dimensions of poverty:\n",
      "- INCOME: 7 post (8.6%)\n",
      "- ACCESS TO HEALTH SERVICES: 40 post (49.4%)\n",
      "- EDUCATIONAL_LAG: 9 post (11.1%)\n",
      "- ACCESS TO SOCIAL SECURITY: 17 post (21.0%)\n",
      "- HOUSING: 1 post (1.2%)\n",
      "- ACCESS TO FOOD: 3 post (3.7%)\n",
      "- SOCIAL_COHESION: 1 post (1.2%)\n",
      "- non-poverty posts: 3 post (3.7%)\n",
      "\n",
      "count of posts per dimension:\n",
      "dimension            ACCESS TO FOOD  ACCESS TO HEALTH SERVICES  \\\n",
      "state                                                            \n",
      "Aguascalientes                    0                          4   \n",
      "Baja California                   0                         12   \n",
      "Baja California Sur               0                          4   \n",
      "Campeche                          2                         10   \n",
      "Chiapas                           3                         40   \n",
      "Chihuahua                         8                         33   \n",
      "Ciudad de México                  0                         18   \n",
      "Coahuila                          3                         33   \n",
      "Colima                            1                         16   \n",
      "Durango                           0                          9   \n",
      "Estado de México                  0                          3   \n",
      "Guanajuato                        3                         49   \n",
      "Guerrero                          1                         27   \n",
      "Hidalgo                           2                         28   \n",
      "Jalisco                           1                         70   \n",
      "Michoacán                         0                         29   \n",
      "Morelos                           0                         28   \n",
      "Nayarit                           0                          9   \n",
      "Nuevo León                        1                         32   \n",
      "Oaxaca                            2                         57   \n",
      "Puebla                            0                         39   \n",
      "Querétaro                         0                         23   \n",
      "Quintana Roo                      0                         12   \n",
      "San Luis Potosí                   0                          2   \n",
      "Sinaloa                           2                         26   \n",
      "Sonora                            0                         17   \n",
      "Tabasco                           2                         52   \n",
      "Tamaulipas                        5                         31   \n",
      "Tlaxcala                          0                          7   \n",
      "Veracruz                          2                         37   \n",
      "Yucatán                           1                         18   \n",
      "Zacatecas                         2                         15   \n",
      "\n",
      "dimension            ACCESS TO SOCIAL SECURITY  EDUCATIONAL_LAG  HOUSING  \\\n",
      "state                                                                      \n",
      "Aguascalientes                               7                1        0   \n",
      "Baja California                              9                0        0   \n",
      "Baja California Sur                          2                0        0   \n",
      "Campeche                                    11                6        0   \n",
      "Chiapas                                     17                9        1   \n",
      "Chihuahua                                   28                6        7   \n",
      "Ciudad de México                             7                1        0   \n",
      "Coahuila                                    27                4        1   \n",
      "Colima                                      12                0        3   \n",
      "Durango                                      6                2        1   \n",
      "Estado de México                             0                0        0   \n",
      "Guanajuato                                  55               10       10   \n",
      "Guerrero                                    28                6        7   \n",
      "Hidalgo                                     46                1        2   \n",
      "Jalisco                                     33                7        6   \n",
      "Michoacán                                   14                5        0   \n",
      "Morelos                                     26                0        2   \n",
      "Nayarit                                     10                0        2   \n",
      "Nuevo León                                  11                1        0   \n",
      "Oaxaca                                      25                5        3   \n",
      "Puebla                                      31                8       14   \n",
      "Querétaro                                   28                0        0   \n",
      "Quintana Roo                                 6                0        0   \n",
      "San Luis Potosí                              0                0        0   \n",
      "Sinaloa                                     17                1        1   \n",
      "Sonora                                      26                1        3   \n",
      "Tabasco                                     25                1        3   \n",
      "Tamaulipas                                  18                4        0   \n",
      "Tlaxcala                                    10                0        0   \n",
      "Veracruz                                    32                5        1   \n",
      "Yucatán                                     14                0        1   \n",
      "Zacatecas                                   12                5        0   \n",
      "\n",
      "dimension            INCOME  OTHER  SOCIAL_COHESION  \n",
      "state                                                \n",
      "Aguascalientes            1      0                0  \n",
      "Baja California           5      5                0  \n",
      "Baja California Sur       0      1                0  \n",
      "Campeche                  3      7                0  \n",
      "Chiapas                   7      3                1  \n",
      "Chihuahua                13      8                3  \n",
      "Ciudad de México          5      2                1  \n",
      "Coahuila                 13      4                4  \n",
      "Colima                    9      5                0  \n",
      "Durango                   6      0                0  \n",
      "Estado de México          0      3                0  \n",
      "Guanajuato               34     18                0  \n",
      "Guerrero                 12      5                1  \n",
      "Hidalgo                  11      4                5  \n",
      "Jalisco                  27      4                3  \n",
      "Michoacán                14      4                0  \n",
      "Morelos                   9      4                3  \n",
      "Nayarit                   1      4                0  \n",
      "Nuevo León                2      1                0  \n",
      "Oaxaca                   20      2                1  \n",
      "Puebla                   12      2                6  \n",
      "Querétaro                 7      0                0  \n",
      "Quintana Roo              4      1                0  \n",
      "San Luis Potosí           2      0                0  \n",
      "Sinaloa                  11      6                3  \n",
      "Sonora                   12      2                3  \n",
      "Tabasco                  31      4                0  \n",
      "Tamaulipas                8      2                1  \n",
      "Tlaxcala                  3      0                1  \n",
      "Veracruz                 12      2                1  \n",
      "Yucatán                   7      1                0  \n",
      "Zacatecas                10      0                3  \n",
      "\n",
      "percentage of posts per dimension:\n",
      "dimension            ACCESS TO FOOD  ACCESS TO HEALTH SERVICES  \\\n",
      "state                                                            \n",
      "Aguascalientes                  0.0                       30.8   \n",
      "Baja California                 0.0                       38.7   \n",
      "Baja California Sur             0.0                       57.1   \n",
      "Campeche                        5.1                       25.6   \n",
      "Chiapas                         3.7                       49.4   \n",
      "Chihuahua                       7.5                       31.1   \n",
      "Ciudad de México                0.0                       52.9   \n",
      "Coahuila                        3.4                       37.1   \n",
      "Colima                          2.2                       34.8   \n",
      "Durango                         0.0                       37.5   \n",
      "Estado de México                0.0                       50.0   \n",
      "Guanajuato                      1.7                       27.4   \n",
      "Guerrero                        1.1                       31.0   \n",
      "Hidalgo                         2.0                       28.3   \n",
      "Jalisco                         0.7                       46.4   \n",
      "Michoacán                       0.0                       43.9   \n",
      "Morelos                         0.0                       38.9   \n",
      "Nayarit                         0.0                       34.6   \n",
      "Nuevo León                      2.1                       66.7   \n",
      "Oaxaca                          1.7                       49.6   \n",
      "Puebla                          0.0                       34.8   \n",
      "Querétaro                       0.0                       39.7   \n",
      "Quintana Roo                    0.0                       52.2   \n",
      "San Luis Potosí                 0.0                       50.0   \n",
      "Sinaloa                         3.0                       38.8   \n",
      "Sonora                          0.0                       26.6   \n",
      "Tabasco                         1.7                       44.1   \n",
      "Tamaulipas                      7.2                       44.9   \n",
      "Tlaxcala                        0.0                       33.3   \n",
      "Veracruz                        2.2                       40.2   \n",
      "Yucatán                         2.4                       42.9   \n",
      "Zacatecas                       4.3                       31.9   \n",
      "\n",
      "dimension            ACCESS TO SOCIAL SECURITY  EDUCATIONAL_LAG  HOUSING  \\\n",
      "state                                                                      \n",
      "Aguascalientes                            53.8              7.7      0.0   \n",
      "Baja California                           29.0              0.0      0.0   \n",
      "Baja California Sur                       28.6              0.0      0.0   \n",
      "Campeche                                  28.2             15.4      0.0   \n",
      "Chiapas                                   21.0             11.1      1.2   \n",
      "Chihuahua                                 26.4              5.7      6.6   \n",
      "Ciudad de México                          20.6              2.9      0.0   \n",
      "Coahuila                                  30.3              4.5      1.1   \n",
      "Colima                                    26.1              0.0      6.5   \n",
      "Durango                                   25.0              8.3      4.2   \n",
      "Estado de México                           0.0              0.0      0.0   \n",
      "Guanajuato                                30.7              5.6      5.6   \n",
      "Guerrero                                  32.2              6.9      8.0   \n",
      "Hidalgo                                   46.5              1.0      2.0   \n",
      "Jalisco                                   21.9              4.6      4.0   \n",
      "Michoacán                                 21.2              7.6      0.0   \n",
      "Morelos                                   36.1              0.0      2.8   \n",
      "Nayarit                                   38.5              0.0      7.7   \n",
      "Nuevo León                                22.9              2.1      0.0   \n",
      "Oaxaca                                    21.7              4.3      2.6   \n",
      "Puebla                                    27.7              7.1     12.5   \n",
      "Querétaro                                 48.3              0.0      0.0   \n",
      "Quintana Roo                              26.1              0.0      0.0   \n",
      "San Luis Potosí                            0.0              0.0      0.0   \n",
      "Sinaloa                                   25.4              1.5      1.5   \n",
      "Sonora                                    40.6              1.6      4.7   \n",
      "Tabasco                                   21.2              0.8      2.5   \n",
      "Tamaulipas                                26.1              5.8      0.0   \n",
      "Tlaxcala                                  47.6              0.0      0.0   \n",
      "Veracruz                                  34.8              5.4      1.1   \n",
      "Yucatán                                   33.3              0.0      2.4   \n",
      "Zacatecas                                 25.5             10.6      0.0   \n",
      "\n",
      "dimension            INCOME  OTHER  SOCIAL_COHESION  \n",
      "state                                                \n",
      "Aguascalientes          7.7    0.0              0.0  \n",
      "Baja California        16.1   16.1              0.0  \n",
      "Baja California Sur     0.0   14.3              0.0  \n",
      "Campeche                7.7   17.9              0.0  \n",
      "Chiapas                 8.6    3.7              1.2  \n",
      "Chihuahua              12.3    7.5              2.8  \n",
      "Ciudad de México       14.7    5.9              2.9  \n",
      "Coahuila               14.6    4.5              4.5  \n",
      "Colima                 19.6   10.9              0.0  \n",
      "Durango                25.0    0.0              0.0  \n",
      "Estado de México        0.0   50.0              0.0  \n",
      "Guanajuato             19.0   10.1              0.0  \n",
      "Guerrero               13.8    5.7              1.1  \n",
      "Hidalgo                11.1    4.0              5.1  \n",
      "Jalisco                17.9    2.6              2.0  \n",
      "Michoacán              21.2    6.1              0.0  \n",
      "Morelos                12.5    5.6              4.2  \n",
      "Nayarit                 3.8   15.4              0.0  \n",
      "Nuevo León              4.2    2.1              0.0  \n",
      "Oaxaca                 17.4    1.7              0.9  \n",
      "Puebla                 10.7    1.8              5.4  \n",
      "Querétaro              12.1    0.0              0.0  \n",
      "Quintana Roo           17.4    4.3              0.0  \n",
      "San Luis Potosí        50.0    0.0              0.0  \n",
      "Sinaloa                16.4    9.0              4.5  \n",
      "Sonora                 18.8    3.1              4.7  \n",
      "Tabasco                26.3    3.4              0.0  \n",
      "Tamaulipas             11.6    2.9              1.4  \n",
      "Tlaxcala               14.3    0.0              4.8  \n",
      "Veracruz               13.0    2.2              1.1  \n",
      "Yucatán                16.7    2.4              0.0  \n",
      "Zacatecas              21.3    0.0              6.4  \n"
     ]
    }
   ],
   "source": [
    "import pandas as pd\n",
    "import numpy as np\n",
    "import re\n",
    "from tqdm import tqdm\n",
    "import os\n",
    "from sentence_transformers import SentenceTransformer, util\n",
    "import torch\n",
    "from dotenv import load_dotenv\n",
    "from mongo_wrapper.mongo_wrapper import MongoWrapper\n",
    "\n",
    "# states to categorize\n",
    "STATES = [\n",
    "    \"Guanajuato\",\n",
    "    \"Michoacán\",\n",
    "    \"Sinaloa\",\n",
    "    \"Chihuahua\",\n",
    "    \"Guerrero\",\n",
    "    \"Tamaulipas\",\n",
    "    \"Baja California\",\n",
    "    \"Zacatecas\",\n",
    "    \"Colima\",\n",
    "    \"Jalisco\",\n",
    "    \"Aguascalientes\",\n",
    "    \"Baja California Sur\",\n",
    "    \"Campeche\",\n",
    "    \"Coahuila\",\n",
    "    \"Durango\",\n",
    "    \"Hidalgo\",\n",
    "    \"Estado de México\",\n",
    "    \"Ciudad de México\",\n",
    "    \"Morelos\",\n",
    "    \"Nayarit\",\n",
    "    \"Nuevo León\",\n",
    "    \"Oaxaca\",\n",
    "    \"Puebla\",\n",
    "    \"Querétaro\",\n",
    "    \"Quintana Roo\",\n",
    "    \"San Luis Potosí\",\n",
    "    \"Sonora\",\n",
    "    \"Tabasco\",\n",
    "    \"Tlaxcala\",\n",
    "    \"Veracruz\",\n",
    "    \"Yucatán\",\n",
    "    \"Chiapas\"]\n",
    "\n",
    "\n",
    "# channels to analyze \n",
    "TARGET_CHANNELS = [\n",
    "    \"elpaismexico_2020\",\n",
    "    \"ElUniversalOnline_2020\",\n",
    "    \"proceso_unofficial_2020\",\n",
    "    \"politicomx_2020\",\n",
    "    \"lajornada_unofficial_2020\",\n",
    "    \"larazondemexico_2020\",\n",
    "    \"sinembargomx_2020\",\n",
    "    \"elpaisamerica_2020\"]\n",
    "\n",
    "# define dimensions of poverty \n",
    "POVERTY_DIMENSIONS = {\n",
    "    \"INCOME\": \"\"\"\n",
    "    desempleo salario mínimo bajos ingresos deudas familiares pobreza laboral\n",
    "    pérdida de empleo ingreso insuficiente precariedad laboral empleo informal\n",
    "    falta de oportunidades laborales reducción de salario inestabilidad económica\n",
    "    recesión subempleo despidos masivos contratos temporales informalidad\n",
    "    costos de vida elevados falta de empleo formal insuficiencia salarial\n",
    "    \"\"\",\n",
    "\n",
    "    \"ACCESS TO HEALTH SERVICES\": \"\"\"\n",
    "    falta de acceso a servicios de salud hospitales saturados escasez de medicamentos \n",
    "    deficiencias en la atención médica carencia de personal médico emergencia sanitaria\n",
    "    costos elevados de tratamientos cierre de centros de salud lista de espera prolongada\n",
    "    equipos médicos inoperantes desabasto de vacunas falta de atención especializada\n",
    "    \"\"\",\n",
    "\n",
    "    \"EDUCATIONAL_LAG\": \"\"\"\n",
    "    deserción escolar suspensión de clases carencia de docentes  \n",
    "    dificultades de acceso a la educación educación interrumpida rezago académico \n",
    "    falta de recursos escolares acceso desigual a la educación deficiencias en formación \n",
    "    básica carencia de materiales educativos \n",
    "    \"\"\",\n",
    "\n",
    "    \"ACCESS TO SOCIAL SECURITY\": \"\"\"\n",
    "    empleo informal ausencia de prestaciones sociales falta de contrato laboral \n",
    "    exclusión del sistema de pensiones carencia de protección social trabajo precario \n",
    "    derechos laborales no garantizados falta de cotización al sistema desprotección estructural\n",
    "    dificultades para acceder al seguro social informalidad laboral empleo sin afiliación\n",
    "    \"\"\",\n",
    "\n",
    "    \"HOUSING\": \"\"\"\n",
    "    vivienda precaria hacinamiento falta de servicios básicos \n",
    "    infraestructura deteriorada zonas marginadas viviendas inseguras\n",
    "    \"\"\",\n",
    "    \n",
    "    \"ACCESS TO FOOD\": \"\"\"\n",
    "    inseguridad alimentaria acceso limitado a alimentos inflación precios\n",
    "    raciones insuficientes pobreza alimentaria aumento de precios comeder comunitario\n",
    "    canasta básica crisis alimentaria comida pobre ayuda alimentaria \n",
    "    insuficiencia nutricional alimentación deficiente encarecimiento de alimentos\n",
    "    inflación en alimentos carencia alimentaria productos básicos banco de alimentos\n",
    "    alimentos inaccesibles gasto alimentario elevado programas alimentarios\n",
    "    \"\"\",\n",
    "\n",
    "    \"SOCIAL_COHESION\": \"\"\"\n",
    "    discriminación étnica marginación social exclusión comunidades vulnerables\n",
    "    conflictos intercomunitarios tensiones sociales barreras sociales \n",
    "    desigualdad aislamiento social\n",
    "    \"\"\"}\n",
    "\n",
    "\n",
    "class PovertyDimensionClassifier:\n",
    "    def __init__(self):\n",
    "        # sentence embedding\n",
    "        self.model = SentenceTransformer('hiiamsid/sentence_similarity_spanish_es')\n",
    "        \n",
    "        # create embeddings for poverty dimensions\n",
    "        self.dimension_names = list(POVERTY_DIMENSIONS.keys())\n",
    "        self.dimension_embeddings = self.model.encode(list(POVERTY_DIMENSIONS.values()), convert_to_tensor=True)\n",
    "    \n",
    "    def clean_text(self, text):\n",
    "        if not isinstance(text, str):\n",
    "            return \"\"\n",
    "        text = re.sub(r'<.*?>', ' ', text)\n",
    "        text = re.sub(r'http\\S+', '', text)\n",
    "        text = re.sub(r'[^\\w\\sáéíóúüñÁÉÍÓÚÜÑ]', ' ', text)\n",
    "        return re.sub(r'\\s+', ' ', text).strip().lower()\n",
    "    \n",
    "    # classify the text into a poverty dimension using sentence embeddings\n",
    "    def classify_text(self, text, threshold=0.10):\n",
    "        if not text:\n",
    "            return None, 0.0\n",
    "        \n",
    "        cleaned_text = self.clean_text(text)\n",
    "        if len(cleaned_text) < 10:  # avoid too short texts\n",
    "            return None, 0.0\n",
    "        \n",
    "        text_embedding = self.model.encode(cleaned_text, convert_to_tensor=True)\n",
    "        \n",
    "        # compute cosine similarity\n",
    "        cosine_scores = util.cos_sim(text_embedding, self.dimension_embeddings)[0]\n",
    "        \n",
    "        # find dimension with highest similarity \n",
    "        max_idx = torch.argmax(cosine_scores).item()\n",
    "        max_score = cosine_scores[max_idx].item()\n",
    "        if max_score >= threshold:\n",
    "            return self.dimension_names[max_idx], max_score\n",
    "        else:\n",
    "            return None, max_score\n",
    "\n",
    "# load only data of interest from MongoDB\n",
    "def load_state_posts():\n",
    "    \n",
    "    MONGO_IP = os.getenv(\"MONGO_IP\")\n",
    "    MONGO_PORT = os.getenv(\"MONGO_PORT\")\n",
    "    MONGO_DB = os.getenv(\"MONGO_DB\")\n",
    "    MONGO_USERNAME = os.getenv(\"MONGO_USERNAME\")\n",
    "    MONGO_PASSWORD = os.getenv(\"MONGO_PASSWORD\")\n",
    "    \n",
    "    mongo_client = MongoWrapper(\n",
    "        db=MONGO_DB,\n",
    "        user=MONGO_USERNAME,\n",
    "        password=MONGO_PASSWORD,\n",
    "        ip=MONGO_IP,\n",
    "        port=MONGO_PORT)\n",
    "    \n",
    "    all_channels = mongo_client.get_all_collections()\n",
    "    available_target_channels = [channel for channel in TARGET_CHANNELS if channel in all_channels]\n",
    "    \n",
    "    # initialize a dictionary to store posts for each state\n",
    "    state_posts = {state: [] for state in STATES}\n",
    "    \n",
    "    # classify posts by using regex patterns - if a post contains a state name, it will be classified as that state\n",
    "    state_patterns = {state: re.compile(r'\\b' + re.escape(state) + r'\\b', re.IGNORECASE) for state in STATES}\n",
    "    \n",
    "    for channel in tqdm(available_target_channels, desc=\"loading channels\"):\n",
    "        posts = mongo_client.get_collection_entries(collection=channel)\n",
    "        \n",
    "        print(f\"channel: {channel} - {len(posts)} post found\")\n",
    "        \n",
    "        for post in tqdm(posts, desc=f\"analysis {channel}\", leave=False):\n",
    "            post_text = post.get('text', '')\n",
    "                \n",
    "            for state, pattern in state_patterns.items():\n",
    "                if pattern.search(post_text):\n",
    "                    state_posts[state].append({\n",
    "                        'text': post_text,\n",
    "                        'author': post.get('author', ''),\n",
    "                        'posting_ts': post.get('posting_ts', ''),\n",
    "                        'channel': channel})\n",
    "    \n",
    "    for state in STATES:\n",
    "        state_posts[state] = pd.DataFrame(state_posts[state])\n",
    "    \n",
    "    return state_posts\n",
    "\n",
    "# classify posts by dimensions of poverty \n",
    "def analyze_poverty_dimensions(state_posts):\n",
    "    classifier = PovertyDimensionClassifier()\n",
    "    \n",
    "    results = []\n",
    "\n",
    "    for state, df in state_posts.items():\n",
    "        print(f\"\\nanalyzing {state} ({len(df)} posts)...\")\n",
    "    \n",
    "        dimension_counts = {dim: 0 for dim in POVERTY_DIMENSIONS.keys()}\n",
    "        dimension_counts[\"OTHER\"] = 0  # other types of posts \n",
    "    \n",
    "        for idx, row in tqdm(df.iterrows(), total=len(df), desc=f\"Classifying {state}\"):\n",
    "            text = row['text']\n",
    "        \n",
    "            dimension, score = classifier.classify_text(text)\n",
    "        \n",
    "            if dimension:\n",
    "                dimension_counts[dimension] += 1\n",
    "            else:\n",
    "                dimension_counts[\"OTHER\"] += 1\n",
    "        \n",
    "        total_posts = len(df)\n",
    "        dimension_percentages = {dim: (count / total_posts) * 100 for dim, count in dimension_counts.items()}\n",
    "        \n",
    "        print(f\"\\nresults for {state}:\")\n",
    "        print(f\"total posts: {total_posts}\")\n",
    "        print(\"\\ndistribution of posts across dimensions of poverty:\")\n",
    "        \n",
    "        for dim, count in dimension_counts.items():\n",
    "            dim_name = dim if dim != \"OTHER\" else \"non-poverty posts\"\n",
    "            pct = dimension_percentages[dim]\n",
    "            print(f\"- {dim_name}: {count} post ({pct:.1f}%)\")\n",
    "        \n",
    "        for dim in list(POVERTY_DIMENSIONS.keys()) + [\"OTHER\"]:\n",
    "            results.append({\n",
    "                'state': state,\n",
    "                'dimension': dim,\n",
    "                'count': dimension_counts[dim],\n",
    "                'percentage': dimension_percentages[dim],\n",
    "                'total_posts': total_posts})\n",
    "    \n",
    "    results_df = pd.DataFrame(results)\n",
    "    return results_df\n",
    "\n",
    "def main():\n",
    "    state_posts = load_state_posts()\n",
    "    \n",
    "    results = analyze_poverty_dimensions(state_posts)\n",
    "    \n",
    "    results.to_csv(\"tg_results_2020.csv\", index=False)\n",
    "    \n",
    "    pivot_counts = results.pivot(index='state', columns='dimension', values='count')\n",
    "    print(\"\\ncount of posts per dimension:\")\n",
    "    print(pivot_counts)\n",
    "    \n",
    "    pivot_percentages = results.pivot(index='state', columns='dimension', values='percentage')\n",
    "    print(\"\\npercentage of posts per dimension:\")\n",
    "    print(pivot_percentages.round(1))\n",
    "\n",
    "if __name__ == \"__main__\":\n",
    "    main()"
   ]
  }
 ],
 "metadata": {
  "kernelspec": {
   "display_name": "new",
   "language": "python",
   "name": "python3"
  },
  "language_info": {
   "codemirror_mode": {
    "name": "ipython",
    "version": 3
   },
   "file_extension": ".py",
   "mimetype": "text/x-python",
   "name": "python",
   "nbconvert_exporter": "python",
   "pygments_lexer": "ipython3",
   "version": "3.10.9"
  }
 },
 "nbformat": 4,
 "nbformat_minor": 2
}
