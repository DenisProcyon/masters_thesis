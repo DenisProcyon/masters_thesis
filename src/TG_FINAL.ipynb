{
 "cells": [
  {
   "cell_type": "code",
   "execution_count": null,
   "metadata": {},
   "outputs": [
    {
     "name": "stderr",
     "output_type": "stream",
     "text": [
      "2025-05-13 12:38:51,503 WARNING Logger Mongo was configured with True console stream\n",
      "2025-05-13 12:38:51,902 INFO Connected to thesis database on 206.81.16.39\n",
      "loading channels:   0%|          | 0/8 [00:00<?, ?it/s]"
     ]
    },
    {
     "name": "stdout",
     "output_type": "stream",
     "text": [
      "channel: elpaismexico - 1750 post found\n"
     ]
    },
    {
     "name": "stderr",
     "output_type": "stream",
     "text": [
      "loading channels:  12%|█▎        | 1/8 [00:00<00:04,  1.71it/s]"
     ]
    },
    {
     "name": "stdout",
     "output_type": "stream",
     "text": [
      "channel: ElUniversalOnline - 2435 post found\n"
     ]
    },
    {
     "name": "stderr",
     "output_type": "stream",
     "text": [
      "loading channels:  25%|██▌       | 2/8 [00:01<00:06,  1.07s/it]"
     ]
    },
    {
     "name": "stdout",
     "output_type": "stream",
     "text": [
      "channel: proceso_unofficial - 3141 post found\n"
     ]
    },
    {
     "name": "stderr",
     "output_type": "stream",
     "text": [
      "loading channels:  38%|███▊      | 3/8 [00:02<00:03,  1.43it/s]"
     ]
    },
    {
     "name": "stdout",
     "output_type": "stream",
     "text": [
      "channel: politicomx - 5103 post found\n"
     ]
    },
    {
     "name": "stderr",
     "output_type": "stream",
     "text": [
      "loading channels:  50%|█████     | 4/8 [00:02<00:02,  1.62it/s]"
     ]
    },
    {
     "name": "stdout",
     "output_type": "stream",
     "text": [
      "channel: lajornada_unofficial - 18673 post found\n"
     ]
    },
    {
     "name": "stderr",
     "output_type": "stream",
     "text": [
      "loading channels:  62%|██████▎   | 5/8 [00:03<00:02,  1.40it/s]"
     ]
    },
    {
     "name": "stdout",
     "output_type": "stream",
     "text": [
      "channel: larazondemexico - 4248 post found\n"
     ]
    },
    {
     "name": "stderr",
     "output_type": "stream",
     "text": [
      "loading channels:  75%|███████▌  | 6/8 [00:04<00:01,  1.33it/s]"
     ]
    },
    {
     "name": "stdout",
     "output_type": "stream",
     "text": [
      "channel: sinembargomx - 9525 post found\n"
     ]
    },
    {
     "name": "stderr",
     "output_type": "stream",
     "text": [
      "loading channels:  88%|████████▊ | 7/8 [00:05<00:00,  1.28it/s]"
     ]
    },
    {
     "name": "stdout",
     "output_type": "stream",
     "text": [
      "channel: elpaisamerica - 1411 post found\n"
     ]
    },
    {
     "name": "stderr",
     "output_type": "stream",
     "text": [
      "loading channels: 100%|██████████| 8/8 [00:05<00:00,  1.41it/s]\n",
      "/Users/noemilucchi/miniforge3/envs/new/lib/python3.10/site-packages/huggingface_hub/file_download.py:896: FutureWarning: `resume_download` is deprecated and will be removed in version 1.0.0. Downloads always resume when possible. If you want to force a new download, use `force_download=True`.\n",
      "  warnings.warn(\n"
     ]
    },
    {
     "name": "stdout",
     "output_type": "stream",
     "text": [
      "\n",
      "analyzing Guanajuato (219 posts)...\n"
     ]
    },
    {
     "name": "stderr",
     "output_type": "stream",
     "text": [
      "Classifying Guanajuato: 100%|██████████| 219/219 [00:10<00:00, 20.11it/s]\n"
     ]
    },
    {
     "name": "stdout",
     "output_type": "stream",
     "text": [
      "\n",
      "results for Guanajuato:\n",
      "total posts: 219\n",
      "\n",
      "distribution of posts across dimensions of poverty:\n",
      "- INCOME: 40 post (18.3%)\n",
      "- ACCESS TO HEALTH SERVICES: 54 post (24.7%)\n",
      "- EDUCATIONAL_LAG: 15 post (6.8%)\n",
      "- ACCESS TO SOCIAL SECURITY: 60 post (27.4%)\n",
      "- HOUSING: 12 post (5.5%)\n",
      "- ACCESS TO FOOD: 8 post (3.7%)\n",
      "- SOCIAL_COHESION: 4 post (1.8%)\n",
      "- non-poverty posts: 26 post (11.9%)\n",
      "\n",
      "analyzing Michoacán (317 posts)...\n"
     ]
    },
    {
     "name": "stderr",
     "output_type": "stream",
     "text": [
      "Classifying Michoacán: 100%|██████████| 317/317 [00:11<00:00, 27.43it/s]\n"
     ]
    },
    {
     "name": "stdout",
     "output_type": "stream",
     "text": [
      "\n",
      "results for Michoacán:\n",
      "total posts: 317\n",
      "\n",
      "distribution of posts across dimensions of poverty:\n",
      "- INCOME: 88 post (27.8%)\n",
      "- ACCESS TO HEALTH SERVICES: 79 post (24.9%)\n",
      "- EDUCATIONAL_LAG: 15 post (4.7%)\n",
      "- ACCESS TO SOCIAL SECURITY: 59 post (18.6%)\n",
      "- HOUSING: 19 post (6.0%)\n",
      "- ACCESS TO FOOD: 25 post (7.9%)\n",
      "- SOCIAL_COHESION: 9 post (2.8%)\n",
      "- non-poverty posts: 23 post (7.3%)\n",
      "\n",
      "analyzing Sinaloa (265 posts)...\n"
     ]
    },
    {
     "name": "stderr",
     "output_type": "stream",
     "text": [
      "Classifying Sinaloa: 100%|██████████| 265/265 [00:08<00:00, 31.65it/s]\n"
     ]
    },
    {
     "name": "stdout",
     "output_type": "stream",
     "text": [
      "\n",
      "results for Sinaloa:\n",
      "total posts: 265\n",
      "\n",
      "distribution of posts across dimensions of poverty:\n",
      "- INCOME: 42 post (15.8%)\n",
      "- ACCESS TO HEALTH SERVICES: 62 post (23.4%)\n",
      "- EDUCATIONAL_LAG: 11 post (4.2%)\n",
      "- ACCESS TO SOCIAL SECURITY: 100 post (37.7%)\n",
      "- HOUSING: 6 post (2.3%)\n",
      "- ACCESS TO FOOD: 15 post (5.7%)\n",
      "- SOCIAL_COHESION: 5 post (1.9%)\n",
      "- non-poverty posts: 24 post (9.1%)\n",
      "\n",
      "analyzing Chihuahua (230 posts)...\n"
     ]
    },
    {
     "name": "stderr",
     "output_type": "stream",
     "text": [
      "Classifying Chihuahua: 100%|██████████| 230/230 [00:06<00:00, 37.42it/s]\n"
     ]
    },
    {
     "name": "stdout",
     "output_type": "stream",
     "text": [
      "\n",
      "results for Chihuahua:\n",
      "total posts: 230\n",
      "\n",
      "distribution of posts across dimensions of poverty:\n",
      "- INCOME: 25 post (10.9%)\n",
      "- ACCESS TO HEALTH SERVICES: 42 post (18.3%)\n",
      "- EDUCATIONAL_LAG: 29 post (12.6%)\n",
      "- ACCESS TO SOCIAL SECURITY: 59 post (25.7%)\n",
      "- HOUSING: 23 post (10.0%)\n",
      "- ACCESS TO FOOD: 13 post (5.7%)\n",
      "- SOCIAL_COHESION: 6 post (2.6%)\n",
      "- non-poverty posts: 33 post (14.3%)\n",
      "\n",
      "analyzing Guerrero (343 posts)...\n"
     ]
    },
    {
     "name": "stderr",
     "output_type": "stream",
     "text": [
      "Classifying Guerrero: 100%|██████████| 343/343 [00:10<00:00, 33.58it/s]\n"
     ]
    },
    {
     "name": "stdout",
     "output_type": "stream",
     "text": [
      "\n",
      "results for Guerrero:\n",
      "total posts: 343\n",
      "\n",
      "distribution of posts across dimensions of poverty:\n",
      "- INCOME: 71 post (20.7%)\n",
      "- ACCESS TO HEALTH SERVICES: 50 post (14.6%)\n",
      "- EDUCATIONAL_LAG: 18 post (5.2%)\n",
      "- ACCESS TO SOCIAL SECURITY: 125 post (36.4%)\n",
      "- HOUSING: 23 post (6.7%)\n",
      "- ACCESS TO FOOD: 27 post (7.9%)\n",
      "- SOCIAL_COHESION: 8 post (2.3%)\n",
      "- non-poverty posts: 21 post (6.1%)\n",
      "\n",
      "analyzing Tamaulipas (328 posts)...\n"
     ]
    },
    {
     "name": "stderr",
     "output_type": "stream",
     "text": [
      "Classifying Tamaulipas: 100%|██████████| 328/328 [00:09<00:00, 34.52it/s]\n"
     ]
    },
    {
     "name": "stdout",
     "output_type": "stream",
     "text": [
      "\n",
      "results for Tamaulipas:\n",
      "total posts: 328\n",
      "\n",
      "distribution of posts across dimensions of poverty:\n",
      "- INCOME: 69 post (21.0%)\n",
      "- ACCESS TO HEALTH SERVICES: 53 post (16.2%)\n",
      "- EDUCATIONAL_LAG: 6 post (1.8%)\n",
      "- ACCESS TO SOCIAL SECURITY: 110 post (33.5%)\n",
      "- HOUSING: 22 post (6.7%)\n",
      "- ACCESS TO FOOD: 17 post (5.2%)\n",
      "- SOCIAL_COHESION: 13 post (4.0%)\n",
      "- non-poverty posts: 38 post (11.6%)\n",
      "\n",
      "analyzing Baja California (72 posts)...\n"
     ]
    },
    {
     "name": "stderr",
     "output_type": "stream",
     "text": [
      "Classifying Baja California: 100%|██████████| 72/72 [00:01<00:00, 49.94it/s]\n"
     ]
    },
    {
     "name": "stdout",
     "output_type": "stream",
     "text": [
      "\n",
      "results for Baja California:\n",
      "total posts: 72\n",
      "\n",
      "distribution of posts across dimensions of poverty:\n",
      "- INCOME: 14 post (19.4%)\n",
      "- ACCESS TO HEALTH SERVICES: 19 post (26.4%)\n",
      "- EDUCATIONAL_LAG: 1 post (1.4%)\n",
      "- ACCESS TO SOCIAL SECURITY: 13 post (18.1%)\n",
      "- HOUSING: 4 post (5.6%)\n",
      "- ACCESS TO FOOD: 1 post (1.4%)\n",
      "- SOCIAL_COHESION: 2 post (2.8%)\n",
      "- non-poverty posts: 18 post (25.0%)\n",
      "\n",
      "analyzing Zacatecas (299 posts)...\n"
     ]
    },
    {
     "name": "stderr",
     "output_type": "stream",
     "text": [
      "Classifying Zacatecas: 100%|██████████| 299/299 [00:08<00:00, 33.32it/s]\n"
     ]
    },
    {
     "name": "stdout",
     "output_type": "stream",
     "text": [
      "\n",
      "results for Zacatecas:\n",
      "total posts: 299\n",
      "\n",
      "distribution of posts across dimensions of poverty:\n",
      "- INCOME: 89 post (29.8%)\n",
      "- ACCESS TO HEALTH SERVICES: 58 post (19.4%)\n",
      "- EDUCATIONAL_LAG: 29 post (9.7%)\n",
      "- ACCESS TO SOCIAL SECURITY: 46 post (15.4%)\n",
      "- HOUSING: 23 post (7.7%)\n",
      "- ACCESS TO FOOD: 31 post (10.4%)\n",
      "- SOCIAL_COHESION: 15 post (5.0%)\n",
      "- non-poverty posts: 8 post (2.7%)\n",
      "\n",
      "analyzing Colima (143 posts)...\n"
     ]
    },
    {
     "name": "stderr",
     "output_type": "stream",
     "text": [
      "Classifying Colima: 100%|██████████| 143/143 [00:03<00:00, 46.15it/s]\n"
     ]
    },
    {
     "name": "stdout",
     "output_type": "stream",
     "text": [
      "\n",
      "results for Colima:\n",
      "total posts: 143\n",
      "\n",
      "distribution of posts across dimensions of poverty:\n",
      "- INCOME: 29 post (20.3%)\n",
      "- ACCESS TO HEALTH SERVICES: 54 post (37.8%)\n",
      "- EDUCATIONAL_LAG: 8 post (5.6%)\n",
      "- ACCESS TO SOCIAL SECURITY: 30 post (21.0%)\n",
      "- HOUSING: 3 post (2.1%)\n",
      "- ACCESS TO FOOD: 6 post (4.2%)\n",
      "- SOCIAL_COHESION: 3 post (2.1%)\n",
      "- non-poverty posts: 10 post (7.0%)\n",
      "\n",
      "analyzing Jalisco (317 posts)...\n"
     ]
    },
    {
     "name": "stderr",
     "output_type": "stream",
     "text": [
      "Classifying Jalisco: 100%|██████████| 317/317 [00:06<00:00, 47.56it/s]\n"
     ]
    },
    {
     "name": "stdout",
     "output_type": "stream",
     "text": [
      "\n",
      "results for Jalisco:\n",
      "total posts: 317\n",
      "\n",
      "distribution of posts across dimensions of poverty:\n",
      "- INCOME: 84 post (26.5%)\n",
      "- ACCESS TO HEALTH SERVICES: 93 post (29.3%)\n",
      "- EDUCATIONAL_LAG: 24 post (7.6%)\n",
      "- ACCESS TO SOCIAL SECURITY: 57 post (18.0%)\n",
      "- HOUSING: 11 post (3.5%)\n",
      "- ACCESS TO FOOD: 18 post (5.7%)\n",
      "- SOCIAL_COHESION: 9 post (2.8%)\n",
      "- non-poverty posts: 21 post (6.6%)\n",
      "\n",
      "analyzing Aguascalientes (165 posts)...\n"
     ]
    },
    {
     "name": "stderr",
     "output_type": "stream",
     "text": [
      "Classifying Aguascalientes: 100%|██████████| 165/165 [00:03<00:00, 45.44it/s]\n"
     ]
    },
    {
     "name": "stdout",
     "output_type": "stream",
     "text": [
      "\n",
      "results for Aguascalientes:\n",
      "total posts: 165\n",
      "\n",
      "distribution of posts across dimensions of poverty:\n",
      "- INCOME: 25 post (15.2%)\n",
      "- ACCESS TO HEALTH SERVICES: 28 post (17.0%)\n",
      "- EDUCATIONAL_LAG: 5 post (3.0%)\n",
      "- ACCESS TO SOCIAL SECURITY: 61 post (37.0%)\n",
      "- HOUSING: 9 post (5.5%)\n",
      "- ACCESS TO FOOD: 7 post (4.2%)\n",
      "- SOCIAL_COHESION: 2 post (1.2%)\n",
      "- non-poverty posts: 28 post (17.0%)\n",
      "\n",
      "analyzing Baja California Sur (13 posts)...\n"
     ]
    },
    {
     "name": "stderr",
     "output_type": "stream",
     "text": [
      "Classifying Baja California Sur: 100%|██████████| 13/13 [00:00<00:00, 49.08it/s]\n"
     ]
    },
    {
     "name": "stdout",
     "output_type": "stream",
     "text": [
      "\n",
      "results for Baja California Sur:\n",
      "total posts: 13\n",
      "\n",
      "distribution of posts across dimensions of poverty:\n",
      "- INCOME: 1 post (7.7%)\n",
      "- ACCESS TO HEALTH SERVICES: 4 post (30.8%)\n",
      "- EDUCATIONAL_LAG: 0 post (0.0%)\n",
      "- ACCESS TO SOCIAL SECURITY: 5 post (38.5%)\n",
      "- HOUSING: 0 post (0.0%)\n",
      "- ACCESS TO FOOD: 0 post (0.0%)\n",
      "- SOCIAL_COHESION: 0 post (0.0%)\n",
      "- non-poverty posts: 3 post (23.1%)\n",
      "\n",
      "analyzing Campeche (81 posts)...\n"
     ]
    },
    {
     "name": "stderr",
     "output_type": "stream",
     "text": [
      "Classifying Campeche: 100%|██████████| 81/81 [00:01<00:00, 45.32it/s]\n"
     ]
    },
    {
     "name": "stdout",
     "output_type": "stream",
     "text": [
      "\n",
      "results for Campeche:\n",
      "total posts: 81\n",
      "\n",
      "distribution of posts across dimensions of poverty:\n",
      "- INCOME: 12 post (14.8%)\n",
      "- ACCESS TO HEALTH SERVICES: 21 post (25.9%)\n",
      "- EDUCATIONAL_LAG: 6 post (7.4%)\n",
      "- ACCESS TO SOCIAL SECURITY: 34 post (42.0%)\n",
      "- HOUSING: 3 post (3.7%)\n",
      "- ACCESS TO FOOD: 1 post (1.2%)\n",
      "- SOCIAL_COHESION: 0 post (0.0%)\n",
      "- non-poverty posts: 4 post (4.9%)\n",
      "\n",
      "analyzing Coahuila (396 posts)...\n"
     ]
    },
    {
     "name": "stderr",
     "output_type": "stream",
     "text": [
      "Classifying Coahuila: 100%|██████████| 396/396 [00:08<00:00, 47.15it/s]\n"
     ]
    },
    {
     "name": "stdout",
     "output_type": "stream",
     "text": [
      "\n",
      "results for Coahuila:\n",
      "total posts: 396\n",
      "\n",
      "distribution of posts across dimensions of poverty:\n",
      "- INCOME: 100 post (25.3%)\n",
      "- ACCESS TO HEALTH SERVICES: 47 post (11.9%)\n",
      "- EDUCATIONAL_LAG: 6 post (1.5%)\n",
      "- ACCESS TO SOCIAL SECURITY: 143 post (36.1%)\n",
      "- HOUSING: 12 post (3.0%)\n",
      "- ACCESS TO FOOD: 15 post (3.8%)\n",
      "- SOCIAL_COHESION: 24 post (6.1%)\n",
      "- non-poverty posts: 49 post (12.4%)\n",
      "\n",
      "analyzing Durango (184 posts)...\n"
     ]
    },
    {
     "name": "stderr",
     "output_type": "stream",
     "text": [
      "Classifying Durango: 100%|██████████| 184/184 [00:03<00:00, 50.54it/s]\n"
     ]
    },
    {
     "name": "stdout",
     "output_type": "stream",
     "text": [
      "\n",
      "results for Durango:\n",
      "total posts: 184\n",
      "\n",
      "distribution of posts across dimensions of poverty:\n",
      "- INCOME: 60 post (32.6%)\n",
      "- ACCESS TO HEALTH SERVICES: 46 post (25.0%)\n",
      "- EDUCATIONAL_LAG: 11 post (6.0%)\n",
      "- ACCESS TO SOCIAL SECURITY: 42 post (22.8%)\n",
      "- HOUSING: 6 post (3.3%)\n",
      "- ACCESS TO FOOD: 1 post (0.5%)\n",
      "- SOCIAL_COHESION: 5 post (2.7%)\n",
      "- non-poverty posts: 13 post (7.1%)\n",
      "\n",
      "analyzing Hidalgo (196 posts)...\n"
     ]
    },
    {
     "name": "stderr",
     "output_type": "stream",
     "text": [
      "Classifying Hidalgo: 100%|██████████| 196/196 [00:04<00:00, 48.15it/s]\n"
     ]
    },
    {
     "name": "stdout",
     "output_type": "stream",
     "text": [
      "\n",
      "results for Hidalgo:\n",
      "total posts: 196\n",
      "\n",
      "distribution of posts across dimensions of poverty:\n",
      "- INCOME: 42 post (21.4%)\n",
      "- ACCESS TO HEALTH SERVICES: 28 post (14.3%)\n",
      "- EDUCATIONAL_LAG: 5 post (2.6%)\n",
      "- ACCESS TO SOCIAL SECURITY: 95 post (48.5%)\n",
      "- HOUSING: 8 post (4.1%)\n",
      "- ACCESS TO FOOD: 3 post (1.5%)\n",
      "- SOCIAL_COHESION: 5 post (2.6%)\n",
      "- non-poverty posts: 10 post (5.1%)\n",
      "\n",
      "analyzing Estado de México (94 posts)...\n"
     ]
    },
    {
     "name": "stderr",
     "output_type": "stream",
     "text": [
      "Classifying Estado de México: 100%|██████████| 94/94 [00:02<00:00, 46.79it/s]\n"
     ]
    },
    {
     "name": "stdout",
     "output_type": "stream",
     "text": [
      "\n",
      "results for Estado de México:\n",
      "total posts: 94\n",
      "\n",
      "distribution of posts across dimensions of poverty:\n",
      "- INCOME: 24 post (25.5%)\n",
      "- ACCESS TO HEALTH SERVICES: 18 post (19.1%)\n",
      "- EDUCATIONAL_LAG: 3 post (3.2%)\n",
      "- ACCESS TO SOCIAL SECURITY: 23 post (24.5%)\n",
      "- HOUSING: 4 post (4.3%)\n",
      "- ACCESS TO FOOD: 5 post (5.3%)\n",
      "- SOCIAL_COHESION: 3 post (3.2%)\n",
      "- non-poverty posts: 14 post (14.9%)\n",
      "\n",
      "analyzing Ciudad de México (275 posts)...\n"
     ]
    },
    {
     "name": "stderr",
     "output_type": "stream",
     "text": [
      "Classifying Ciudad de México: 100%|██████████| 275/275 [00:06<00:00, 43.53it/s]\n"
     ]
    },
    {
     "name": "stdout",
     "output_type": "stream",
     "text": [
      "\n",
      "results for Ciudad de México:\n",
      "total posts: 275\n",
      "\n",
      "distribution of posts across dimensions of poverty:\n",
      "- INCOME: 59 post (21.5%)\n",
      "- ACCESS TO HEALTH SERVICES: 106 post (38.5%)\n",
      "- EDUCATIONAL_LAG: 13 post (4.7%)\n",
      "- ACCESS TO SOCIAL SECURITY: 44 post (16.0%)\n",
      "- HOUSING: 14 post (5.1%)\n",
      "- ACCESS TO FOOD: 11 post (4.0%)\n",
      "- SOCIAL_COHESION: 7 post (2.5%)\n",
      "- non-poverty posts: 21 post (7.6%)\n",
      "\n",
      "analyzing Morelos (228 posts)...\n"
     ]
    },
    {
     "name": "stderr",
     "output_type": "stream",
     "text": [
      "Classifying Morelos: 100%|██████████| 228/228 [00:05<00:00, 42.01it/s]\n"
     ]
    },
    {
     "name": "stdout",
     "output_type": "stream",
     "text": [
      "\n",
      "results for Morelos:\n",
      "total posts: 228\n",
      "\n",
      "distribution of posts across dimensions of poverty:\n",
      "- INCOME: 41 post (18.0%)\n",
      "- ACCESS TO HEALTH SERVICES: 45 post (19.7%)\n",
      "- EDUCATIONAL_LAG: 7 post (3.1%)\n",
      "- ACCESS TO SOCIAL SECURITY: 89 post (39.0%)\n",
      "- HOUSING: 20 post (8.8%)\n",
      "- ACCESS TO FOOD: 5 post (2.2%)\n",
      "- SOCIAL_COHESION: 7 post (3.1%)\n",
      "- non-poverty posts: 14 post (6.1%)\n",
      "\n",
      "analyzing Nayarit (79 posts)...\n"
     ]
    },
    {
     "name": "stderr",
     "output_type": "stream",
     "text": [
      "Classifying Nayarit: 100%|██████████| 79/79 [00:01<00:00, 50.24it/s]\n"
     ]
    },
    {
     "name": "stdout",
     "output_type": "stream",
     "text": [
      "\n",
      "results for Nayarit:\n",
      "total posts: 79\n",
      "\n",
      "distribution of posts across dimensions of poverty:\n",
      "- INCOME: 19 post (24.1%)\n",
      "- ACCESS TO HEALTH SERVICES: 25 post (31.6%)\n",
      "- EDUCATIONAL_LAG: 6 post (7.6%)\n",
      "- ACCESS TO SOCIAL SECURITY: 18 post (22.8%)\n",
      "- HOUSING: 4 post (5.1%)\n",
      "- ACCESS TO FOOD: 3 post (3.8%)\n",
      "- SOCIAL_COHESION: 1 post (1.3%)\n",
      "- non-poverty posts: 3 post (3.8%)\n",
      "\n",
      "analyzing Nuevo León (179 posts)...\n"
     ]
    },
    {
     "name": "stderr",
     "output_type": "stream",
     "text": [
      "Classifying Nuevo León: 100%|██████████| 179/179 [00:04<00:00, 43.71it/s]\n"
     ]
    },
    {
     "name": "stdout",
     "output_type": "stream",
     "text": [
      "\n",
      "results for Nuevo León:\n",
      "total posts: 179\n",
      "\n",
      "distribution of posts across dimensions of poverty:\n",
      "- INCOME: 34 post (19.0%)\n",
      "- ACCESS TO HEALTH SERVICES: 40 post (22.3%)\n",
      "- EDUCATIONAL_LAG: 4 post (2.2%)\n",
      "- ACCESS TO SOCIAL SECURITY: 74 post (41.3%)\n",
      "- HOUSING: 14 post (7.8%)\n",
      "- ACCESS TO FOOD: 12 post (6.7%)\n",
      "- SOCIAL_COHESION: 0 post (0.0%)\n",
      "- non-poverty posts: 1 post (0.6%)\n",
      "\n",
      "analyzing Oaxaca (330 posts)...\n"
     ]
    },
    {
     "name": "stderr",
     "output_type": "stream",
     "text": [
      "Classifying Oaxaca: 100%|██████████| 330/330 [00:06<00:00, 48.74it/s]\n"
     ]
    },
    {
     "name": "stdout",
     "output_type": "stream",
     "text": [
      "\n",
      "results for Oaxaca:\n",
      "total posts: 330\n",
      "\n",
      "distribution of posts across dimensions of poverty:\n",
      "- INCOME: 67 post (20.3%)\n",
      "- ACCESS TO HEALTH SERVICES: 81 post (24.5%)\n",
      "- EDUCATIONAL_LAG: 16 post (4.8%)\n",
      "- ACCESS TO SOCIAL SECURITY: 102 post (30.9%)\n",
      "- HOUSING: 14 post (4.2%)\n",
      "- ACCESS TO FOOD: 8 post (2.4%)\n",
      "- SOCIAL_COHESION: 16 post (4.8%)\n",
      "- non-poverty posts: 26 post (7.9%)\n",
      "\n",
      "analyzing Puebla (315 posts)...\n"
     ]
    },
    {
     "name": "stderr",
     "output_type": "stream",
     "text": [
      "Classifying Puebla: 100%|██████████| 315/315 [00:06<00:00, 48.66it/s]\n"
     ]
    },
    {
     "name": "stdout",
     "output_type": "stream",
     "text": [
      "\n",
      "results for Puebla:\n",
      "total posts: 315\n",
      "\n",
      "distribution of posts across dimensions of poverty:\n",
      "- INCOME: 58 post (18.4%)\n",
      "- ACCESS TO HEALTH SERVICES: 60 post (19.0%)\n",
      "- EDUCATIONAL_LAG: 28 post (8.9%)\n",
      "- ACCESS TO SOCIAL SECURITY: 92 post (29.2%)\n",
      "- HOUSING: 29 post (9.2%)\n",
      "- ACCESS TO FOOD: 15 post (4.8%)\n",
      "- SOCIAL_COHESION: 7 post (2.2%)\n",
      "- non-poverty posts: 26 post (8.3%)\n",
      "\n",
      "analyzing Querétaro (181 posts)...\n"
     ]
    },
    {
     "name": "stderr",
     "output_type": "stream",
     "text": [
      "Classifying Querétaro: 100%|██████████| 181/181 [00:03<00:00, 53.73it/s]\n"
     ]
    },
    {
     "name": "stdout",
     "output_type": "stream",
     "text": [
      "\n",
      "results for Querétaro:\n",
      "total posts: 181\n",
      "\n",
      "distribution of posts across dimensions of poverty:\n",
      "- INCOME: 26 post (14.4%)\n",
      "- ACCESS TO HEALTH SERVICES: 52 post (28.7%)\n",
      "- EDUCATIONAL_LAG: 31 post (17.1%)\n",
      "- ACCESS TO SOCIAL SECURITY: 42 post (23.2%)\n",
      "- HOUSING: 5 post (2.8%)\n",
      "- ACCESS TO FOOD: 6 post (3.3%)\n",
      "- SOCIAL_COHESION: 7 post (3.9%)\n",
      "- non-poverty posts: 12 post (6.6%)\n",
      "\n",
      "analyzing Quintana Roo (136 posts)...\n"
     ]
    },
    {
     "name": "stderr",
     "output_type": "stream",
     "text": [
      "Classifying Quintana Roo: 100%|██████████| 136/136 [00:03<00:00, 37.18it/s]\n"
     ]
    },
    {
     "name": "stdout",
     "output_type": "stream",
     "text": [
      "\n",
      "results for Quintana Roo:\n",
      "total posts: 136\n",
      "\n",
      "distribution of posts across dimensions of poverty:\n",
      "- INCOME: 28 post (20.6%)\n",
      "- ACCESS TO HEALTH SERVICES: 24 post (17.6%)\n",
      "- EDUCATIONAL_LAG: 5 post (3.7%)\n",
      "- ACCESS TO SOCIAL SECURITY: 60 post (44.1%)\n",
      "- HOUSING: 5 post (3.7%)\n",
      "- ACCESS TO FOOD: 3 post (2.2%)\n",
      "- SOCIAL_COHESION: 1 post (0.7%)\n",
      "- non-poverty posts: 10 post (7.4%)\n",
      "\n",
      "analyzing San Luis Potosí (32 posts)...\n"
     ]
    },
    {
     "name": "stderr",
     "output_type": "stream",
     "text": [
      "Classifying San Luis Potosí: 100%|██████████| 32/32 [00:00<00:00, 35.13it/s]\n"
     ]
    },
    {
     "name": "stdout",
     "output_type": "stream",
     "text": [
      "\n",
      "results for San Luis Potosí:\n",
      "total posts: 32\n",
      "\n",
      "distribution of posts across dimensions of poverty:\n",
      "- INCOME: 1 post (3.1%)\n",
      "- ACCESS TO HEALTH SERVICES: 16 post (50.0%)\n",
      "- EDUCATIONAL_LAG: 2 post (6.2%)\n",
      "- ACCESS TO SOCIAL SECURITY: 7 post (21.9%)\n",
      "- HOUSING: 0 post (0.0%)\n",
      "- ACCESS TO FOOD: 2 post (6.2%)\n",
      "- SOCIAL_COHESION: 0 post (0.0%)\n",
      "- non-poverty posts: 4 post (12.5%)\n",
      "\n",
      "analyzing Sonora (241 posts)...\n"
     ]
    },
    {
     "name": "stderr",
     "output_type": "stream",
     "text": [
      "Classifying Sonora: 100%|██████████| 241/241 [00:09<00:00, 25.17it/s]\n"
     ]
    },
    {
     "name": "stdout",
     "output_type": "stream",
     "text": [
      "\n",
      "results for Sonora:\n",
      "total posts: 241\n",
      "\n",
      "distribution of posts across dimensions of poverty:\n",
      "- INCOME: 44 post (18.3%)\n",
      "- ACCESS TO HEALTH SERVICES: 39 post (16.2%)\n",
      "- EDUCATIONAL_LAG: 12 post (5.0%)\n",
      "- ACCESS TO SOCIAL SECURITY: 105 post (43.6%)\n",
      "- HOUSING: 10 post (4.1%)\n",
      "- ACCESS TO FOOD: 10 post (4.1%)\n",
      "- SOCIAL_COHESION: 2 post (0.8%)\n",
      "- non-poverty posts: 19 post (7.9%)\n",
      "\n",
      "analyzing Tabasco (79 posts)...\n"
     ]
    },
    {
     "name": "stderr",
     "output_type": "stream",
     "text": [
      "Classifying Tabasco: 100%|██████████| 79/79 [00:01<00:00, 43.09it/s]\n"
     ]
    },
    {
     "name": "stdout",
     "output_type": "stream",
     "text": [
      "\n",
      "results for Tabasco:\n",
      "total posts: 79\n",
      "\n",
      "distribution of posts across dimensions of poverty:\n",
      "- INCOME: 26 post (32.9%)\n",
      "- ACCESS TO HEALTH SERVICES: 13 post (16.5%)\n",
      "- EDUCATIONAL_LAG: 4 post (5.1%)\n",
      "- ACCESS TO SOCIAL SECURITY: 22 post (27.8%)\n",
      "- HOUSING: 3 post (3.8%)\n",
      "- ACCESS TO FOOD: 2 post (2.5%)\n",
      "- SOCIAL_COHESION: 3 post (3.8%)\n",
      "- non-poverty posts: 6 post (7.6%)\n",
      "\n",
      "analyzing Tlaxcala (39 posts)...\n"
     ]
    },
    {
     "name": "stderr",
     "output_type": "stream",
     "text": [
      "Classifying Tlaxcala: 100%|██████████| 39/39 [00:01<00:00, 35.50it/s]\n"
     ]
    },
    {
     "name": "stdout",
     "output_type": "stream",
     "text": [
      "\n",
      "results for Tlaxcala:\n",
      "total posts: 39\n",
      "\n",
      "distribution of posts across dimensions of poverty:\n",
      "- INCOME: 4 post (10.3%)\n",
      "- ACCESS TO HEALTH SERVICES: 10 post (25.6%)\n",
      "- EDUCATIONAL_LAG: 2 post (5.1%)\n",
      "- ACCESS TO SOCIAL SECURITY: 7 post (17.9%)\n",
      "- HOUSING: 3 post (7.7%)\n",
      "- ACCESS TO FOOD: 1 post (2.6%)\n",
      "- SOCIAL_COHESION: 5 post (12.8%)\n",
      "- non-poverty posts: 7 post (17.9%)\n",
      "\n",
      "analyzing Veracruz (264 posts)...\n"
     ]
    },
    {
     "name": "stderr",
     "output_type": "stream",
     "text": [
      "Classifying Veracruz: 100%|██████████| 264/264 [00:05<00:00, 51.96it/s]\n"
     ]
    },
    {
     "name": "stdout",
     "output_type": "stream",
     "text": [
      "\n",
      "results for Veracruz:\n",
      "total posts: 264\n",
      "\n",
      "distribution of posts across dimensions of poverty:\n",
      "- INCOME: 57 post (21.6%)\n",
      "- ACCESS TO HEALTH SERVICES: 50 post (18.9%)\n",
      "- EDUCATIONAL_LAG: 17 post (6.4%)\n",
      "- ACCESS TO SOCIAL SECURITY: 92 post (34.8%)\n",
      "- HOUSING: 16 post (6.1%)\n",
      "- ACCESS TO FOOD: 2 post (0.8%)\n",
      "- SOCIAL_COHESION: 8 post (3.0%)\n",
      "- non-poverty posts: 22 post (8.3%)\n",
      "\n",
      "analyzing Yucatán (74 posts)...\n"
     ]
    },
    {
     "name": "stderr",
     "output_type": "stream",
     "text": [
      "Classifying Yucatán: 100%|██████████| 74/74 [00:01<00:00, 52.51it/s]\n"
     ]
    },
    {
     "name": "stdout",
     "output_type": "stream",
     "text": [
      "\n",
      "results for Yucatán:\n",
      "total posts: 74\n",
      "\n",
      "distribution of posts across dimensions of poverty:\n",
      "- INCOME: 20 post (27.0%)\n",
      "- ACCESS TO HEALTH SERVICES: 9 post (12.2%)\n",
      "- EDUCATIONAL_LAG: 5 post (6.8%)\n",
      "- ACCESS TO SOCIAL SECURITY: 18 post (24.3%)\n",
      "- HOUSING: 5 post (6.8%)\n",
      "- ACCESS TO FOOD: 8 post (10.8%)\n",
      "- SOCIAL_COHESION: 3 post (4.1%)\n",
      "- non-poverty posts: 6 post (8.1%)\n",
      "\n",
      "analyzing Chiapas (219 posts)...\n"
     ]
    },
    {
     "name": "stderr",
     "output_type": "stream",
     "text": [
      "Classifying Chiapas: 100%|██████████| 219/219 [00:04<00:00, 45.46it/s]\n"
     ]
    },
    {
     "name": "stdout",
     "output_type": "stream",
     "text": [
      "\n",
      "results for Chiapas:\n",
      "total posts: 219\n",
      "\n",
      "distribution of posts across dimensions of poverty:\n",
      "- INCOME: 42 post (19.2%)\n",
      "- ACCESS TO HEALTH SERVICES: 60 post (27.4%)\n",
      "- EDUCATIONAL_LAG: 30 post (13.7%)\n",
      "- ACCESS TO SOCIAL SECURITY: 30 post (13.7%)\n",
      "- HOUSING: 20 post (9.1%)\n",
      "- ACCESS TO FOOD: 9 post (4.1%)\n",
      "- SOCIAL_COHESION: 18 post (8.2%)\n",
      "- non-poverty posts: 10 post (4.6%)\n",
      "\n",
      "count of posts per dimension:\n",
      "dimension            ACCESS TO FOOD  ACCESS TO HEALTH SERVICES  \\\n",
      "state                                                            \n",
      "Aguascalientes                    7                         28   \n",
      "Baja California                   1                         19   \n",
      "Baja California Sur               0                          4   \n",
      "Campeche                          1                         21   \n",
      "Chiapas                           9                         60   \n",
      "Chihuahua                        13                         42   \n",
      "Ciudad de México                 11                        106   \n",
      "Coahuila                         15                         47   \n",
      "Colima                            6                         54   \n",
      "Durango                           1                         46   \n",
      "Estado de México                  5                         18   \n",
      "Guanajuato                        8                         54   \n",
      "Guerrero                         27                         50   \n",
      "Hidalgo                           3                         28   \n",
      "Jalisco                          18                         93   \n",
      "Michoacán                        25                         79   \n",
      "Morelos                           5                         45   \n",
      "Nayarit                           3                         25   \n",
      "Nuevo León                       12                         40   \n",
      "Oaxaca                            8                         81   \n",
      "Puebla                           15                         60   \n",
      "Querétaro                         6                         52   \n",
      "Quintana Roo                      3                         24   \n",
      "San Luis Potosí                   2                         16   \n",
      "Sinaloa                          15                         62   \n",
      "Sonora                           10                         39   \n",
      "Tabasco                           2                         13   \n",
      "Tamaulipas                       17                         53   \n",
      "Tlaxcala                          1                         10   \n",
      "Veracruz                          2                         50   \n",
      "Yucatán                           8                          9   \n",
      "Zacatecas                        31                         58   \n",
      "\n",
      "dimension            ACCESS TO SOCIAL SECURITY  EDUCATIONAL_LAG  HOUSING  \\\n",
      "state                                                                      \n",
      "Aguascalientes                              61                5        9   \n",
      "Baja California                             13                1        4   \n",
      "Baja California Sur                          5                0        0   \n",
      "Campeche                                    34                6        3   \n",
      "Chiapas                                     30               30       20   \n",
      "Chihuahua                                   59               29       23   \n",
      "Ciudad de México                            44               13       14   \n",
      "Coahuila                                   143                6       12   \n",
      "Colima                                      30                8        3   \n",
      "Durango                                     42               11        6   \n",
      "Estado de México                            23                3        4   \n",
      "Guanajuato                                  60               15       12   \n",
      "Guerrero                                   125               18       23   \n",
      "Hidalgo                                     95                5        8   \n",
      "Jalisco                                     57               24       11   \n",
      "Michoacán                                   59               15       19   \n",
      "Morelos                                     89                7       20   \n",
      "Nayarit                                     18                6        4   \n",
      "Nuevo León                                  74                4       14   \n",
      "Oaxaca                                     102               16       14   \n",
      "Puebla                                      92               28       29   \n",
      "Querétaro                                   42               31        5   \n",
      "Quintana Roo                                60                5        5   \n",
      "San Luis Potosí                              7                2        0   \n",
      "Sinaloa                                    100               11        6   \n",
      "Sonora                                     105               12       10   \n",
      "Tabasco                                     22                4        3   \n",
      "Tamaulipas                                 110                6       22   \n",
      "Tlaxcala                                     7                2        3   \n",
      "Veracruz                                    92               17       16   \n",
      "Yucatán                                     18                5        5   \n",
      "Zacatecas                                   46               29       23   \n",
      "\n",
      "dimension            INCOME  OTHER  SOCIAL_COHESION  \n",
      "state                                                \n",
      "Aguascalientes           25     28                2  \n",
      "Baja California          14     18                2  \n",
      "Baja California Sur       1      3                0  \n",
      "Campeche                 12      4                0  \n",
      "Chiapas                  42     10               18  \n",
      "Chihuahua                25     33                6  \n",
      "Ciudad de México         59     21                7  \n",
      "Coahuila                100     49               24  \n",
      "Colima                   29     10                3  \n",
      "Durango                  60     13                5  \n",
      "Estado de México         24     14                3  \n",
      "Guanajuato               40     26                4  \n",
      "Guerrero                 71     21                8  \n",
      "Hidalgo                  42     10                5  \n",
      "Jalisco                  84     21                9  \n",
      "Michoacán                88     23                9  \n",
      "Morelos                  41     14                7  \n",
      "Nayarit                  19      3                1  \n",
      "Nuevo León               34      1                0  \n",
      "Oaxaca                   67     26               16  \n",
      "Puebla                   58     26                7  \n",
      "Querétaro                26     12                7  \n",
      "Quintana Roo             28     10                1  \n",
      "San Luis Potosí           1      4                0  \n",
      "Sinaloa                  42     24                5  \n",
      "Sonora                   44     19                2  \n",
      "Tabasco                  26      6                3  \n",
      "Tamaulipas               69     38               13  \n",
      "Tlaxcala                  4      7                5  \n",
      "Veracruz                 57     22                8  \n",
      "Yucatán                  20      6                3  \n",
      "Zacatecas                89      8               15  \n",
      "\n",
      "percentage of posts per dimension:\n",
      "dimension            ACCESS TO FOOD  ACCESS TO HEALTH SERVICES  \\\n",
      "state                                                            \n",
      "Aguascalientes                  4.2                       17.0   \n",
      "Baja California                 1.4                       26.4   \n",
      "Baja California Sur             0.0                       30.8   \n",
      "Campeche                        1.2                       25.9   \n",
      "Chiapas                         4.1                       27.4   \n",
      "Chihuahua                       5.7                       18.3   \n",
      "Ciudad de México                4.0                       38.5   \n",
      "Coahuila                        3.8                       11.9   \n",
      "Colima                          4.2                       37.8   \n",
      "Durango                         0.5                       25.0   \n",
      "Estado de México                5.3                       19.1   \n",
      "Guanajuato                      3.7                       24.7   \n",
      "Guerrero                        7.9                       14.6   \n",
      "Hidalgo                         1.5                       14.3   \n",
      "Jalisco                         5.7                       29.3   \n",
      "Michoacán                       7.9                       24.9   \n",
      "Morelos                         2.2                       19.7   \n",
      "Nayarit                         3.8                       31.6   \n",
      "Nuevo León                      6.7                       22.3   \n",
      "Oaxaca                          2.4                       24.5   \n",
      "Puebla                          4.8                       19.0   \n",
      "Querétaro                       3.3                       28.7   \n",
      "Quintana Roo                    2.2                       17.6   \n",
      "San Luis Potosí                 6.2                       50.0   \n",
      "Sinaloa                         5.7                       23.4   \n",
      "Sonora                          4.1                       16.2   \n",
      "Tabasco                         2.5                       16.5   \n",
      "Tamaulipas                      5.2                       16.2   \n",
      "Tlaxcala                        2.6                       25.6   \n",
      "Veracruz                        0.8                       18.9   \n",
      "Yucatán                        10.8                       12.2   \n",
      "Zacatecas                      10.4                       19.4   \n",
      "\n",
      "dimension            ACCESS TO SOCIAL SECURITY  EDUCATIONAL_LAG  HOUSING  \\\n",
      "state                                                                      \n",
      "Aguascalientes                            37.0              3.0      5.5   \n",
      "Baja California                           18.1              1.4      5.6   \n",
      "Baja California Sur                       38.5              0.0      0.0   \n",
      "Campeche                                  42.0              7.4      3.7   \n",
      "Chiapas                                   13.7             13.7      9.1   \n",
      "Chihuahua                                 25.7             12.6     10.0   \n",
      "Ciudad de México                          16.0              4.7      5.1   \n",
      "Coahuila                                  36.1              1.5      3.0   \n",
      "Colima                                    21.0              5.6      2.1   \n",
      "Durango                                   22.8              6.0      3.3   \n",
      "Estado de México                          24.5              3.2      4.3   \n",
      "Guanajuato                                27.4              6.8      5.5   \n",
      "Guerrero                                  36.4              5.2      6.7   \n",
      "Hidalgo                                   48.5              2.6      4.1   \n",
      "Jalisco                                   18.0              7.6      3.5   \n",
      "Michoacán                                 18.6              4.7      6.0   \n",
      "Morelos                                   39.0              3.1      8.8   \n",
      "Nayarit                                   22.8              7.6      5.1   \n",
      "Nuevo León                                41.3              2.2      7.8   \n",
      "Oaxaca                                    30.9              4.8      4.2   \n",
      "Puebla                                    29.2              8.9      9.2   \n",
      "Querétaro                                 23.2             17.1      2.8   \n",
      "Quintana Roo                              44.1              3.7      3.7   \n",
      "San Luis Potosí                           21.9              6.2      0.0   \n",
      "Sinaloa                                   37.7              4.2      2.3   \n",
      "Sonora                                    43.6              5.0      4.1   \n",
      "Tabasco                                   27.8              5.1      3.8   \n",
      "Tamaulipas                                33.5              1.8      6.7   \n",
      "Tlaxcala                                  17.9              5.1      7.7   \n",
      "Veracruz                                  34.8              6.4      6.1   \n",
      "Yucatán                                   24.3              6.8      6.8   \n",
      "Zacatecas                                 15.4              9.7      7.7   \n",
      "\n",
      "dimension            INCOME  OTHER  SOCIAL_COHESION  \n",
      "state                                                \n",
      "Aguascalientes         15.2   17.0              1.2  \n",
      "Baja California        19.4   25.0              2.8  \n",
      "Baja California Sur     7.7   23.1              0.0  \n",
      "Campeche               14.8    4.9              0.0  \n",
      "Chiapas                19.2    4.6              8.2  \n",
      "Chihuahua              10.9   14.3              2.6  \n",
      "Ciudad de México       21.5    7.6              2.5  \n",
      "Coahuila               25.3   12.4              6.1  \n",
      "Colima                 20.3    7.0              2.1  \n",
      "Durango                32.6    7.1              2.7  \n",
      "Estado de México       25.5   14.9              3.2  \n",
      "Guanajuato             18.3   11.9              1.8  \n",
      "Guerrero               20.7    6.1              2.3  \n",
      "Hidalgo                21.4    5.1              2.6  \n",
      "Jalisco                26.5    6.6              2.8  \n",
      "Michoacán              27.8    7.3              2.8  \n",
      "Morelos                18.0    6.1              3.1  \n",
      "Nayarit                24.1    3.8              1.3  \n",
      "Nuevo León             19.0    0.6              0.0  \n",
      "Oaxaca                 20.3    7.9              4.8  \n",
      "Puebla                 18.4    8.3              2.2  \n",
      "Querétaro              14.4    6.6              3.9  \n",
      "Quintana Roo           20.6    7.4              0.7  \n",
      "San Luis Potosí         3.1   12.5              0.0  \n",
      "Sinaloa                15.8    9.1              1.9  \n",
      "Sonora                 18.3    7.9              0.8  \n",
      "Tabasco                32.9    7.6              3.8  \n",
      "Tamaulipas             21.0   11.6              4.0  \n",
      "Tlaxcala               10.3   17.9             12.8  \n",
      "Veracruz               21.6    8.3              3.0  \n",
      "Yucatán                27.0    8.1              4.1  \n",
      "Zacatecas              29.8    2.7              5.0  \n"
     ]
    }
   ],
   "source": [
    "import pandas as pd\n",
    "import numpy as np\n",
    "import re\n",
    "from tqdm import tqdm\n",
    "import os\n",
    "from sentence_transformers import SentenceTransformer, util\n",
    "import torch\n",
    "from dotenv import load_dotenv\n",
    "from mongo_wrapper.mongo_wrapper import MongoWrapper\n",
    "\n",
    "# states to categorize\n",
    "STATES = [\n",
    "    \"Guanajuato\",\n",
    "    \"Michoacán\",\n",
    "    \"Sinaloa\",\n",
    "    \"Chihuahua\",\n",
    "    \"Guerrero\",\n",
    "    \"Tamaulipas\",\n",
    "    \"Baja California\",\n",
    "    \"Zacatecas\",\n",
    "    \"Colima\",\n",
    "    \"Jalisco\",\n",
    "    \"Aguascalientes\",\n",
    "    \"Baja California Sur\",\n",
    "    \"Campeche\",\n",
    "    \"Coahuila\",\n",
    "    \"Durango\",\n",
    "    \"Hidalgo\",\n",
    "    \"Estado de México\",\n",
    "    \"Ciudad de México\",\n",
    "    \"Morelos\",\n",
    "    \"Nayarit\",\n",
    "    \"Nuevo León\",\n",
    "    \"Oaxaca\",\n",
    "    \"Puebla\",\n",
    "    \"Querétaro\",\n",
    "    \"Quintana Roo\",\n",
    "    \"San Luis Potosí\",\n",
    "    \"Sonora\",\n",
    "    \"Tabasco\",\n",
    "    \"Tlaxcala\",\n",
    "    \"Veracruz\",\n",
    "    \"Yucatán\",\n",
    "    \"Chiapas\"]\n",
    "\n",
    "\n",
    "# channels to analyze \n",
    "TARGET_CHANNELS = [\n",
    "    \"elpaismexico\",\n",
    "    \"ElUniversalOnline\",\n",
    "    \"proceso_unofficial\",\n",
    "    \"politicomx\",\n",
    "    \"lajornada_unofficial\",\n",
    "    \"larazondemexico\",\n",
    "    \"sinembargomx\",\n",
    "    \"elpaisamerica\"]\n",
    "\n",
    "# define dimensions of poverty \n",
    "POVERTY_DIMENSIONS = {\n",
    "    \"INCOME\": \"\"\"\n",
    "    desempleo salario mínimo bajos ingresos deudas familiares pobreza laboral\n",
    "    pérdida de empleo ingreso insuficiente precariedad laboral empleo informal\n",
    "    falta de oportunidades laborales reducción de salario inestabilidad económica\n",
    "    recesión subempleo despidos masivos contratos temporales informalidad\n",
    "    costos de vida elevados falta de empleo formal insuficiencia salarial\n",
    "    \"\"\",\n",
    "\n",
    "    \"ACCESS TO HEALTH SERVICES\": \"\"\"\n",
    "    falta de acceso a servicios de salud hospitales saturados escasez de medicamentos \n",
    "    deficiencias en la atención médica carencia de personal médico emergencia sanitaria\n",
    "    costos elevados de tratamientos cierre de centros de salud lista de espera prolongada\n",
    "    equipos médicos inoperantes desabasto de vacunas falta de atención especializada\n",
    "    \"\"\",\n",
    "\n",
    "    \"EDUCATIONAL_LAG\": \"\"\"\n",
    "    deserción escolar suspensión de clases carencia de docentes  \n",
    "    dificultades de acceso a la educación educación interrumpida rezago académico \n",
    "    falta de recursos escolares acceso desigual a la educación deficiencias en formación \n",
    "    básica carencia de materiales educativos \n",
    "    \"\"\",\n",
    "\n",
    "    \"ACCESS TO SOCIAL SECURITY\": \"\"\"\n",
    "    empleo informal ausencia de prestaciones sociales falta de contrato laboral \n",
    "    exclusión del sistema de pensiones carencia de protección social trabajo precario \n",
    "    derechos laborales no garantizados falta de cotización al sistema desprotección estructural\n",
    "    dificultades para acceder al seguro social informalidad laboral empleo sin afiliación\n",
    "    \"\"\",\n",
    "\n",
    "    \"HOUSING\": \"\"\"\n",
    "    vivienda precaria hacinamiento falta de servicios básicos \n",
    "    infraestructura deteriorada zonas marginadas viviendas inseguras\n",
    "    \"\"\",\n",
    "    \n",
    "    \"ACCESS TO FOOD\": \"\"\"\n",
    "    inseguridad alimentaria acceso limitado a alimentos inflación precios\n",
    "    raciones insuficientes pobreza alimentaria aumento de precios comeder comunitario\n",
    "    canasta básica crisis alimentaria comida pobre ayuda alimentaria \n",
    "    insuficiencia nutricional alimentación deficiente encarecimiento de alimentos\n",
    "    inflación en alimentos carencia alimentaria productos básicos banco de alimentos\n",
    "    alimentos inaccesibles gasto alimentario elevado programas alimentarios\n",
    "    \"\"\",\n",
    "\n",
    "    \"SOCIAL_COHESION\": \"\"\"\n",
    "    discriminación étnica marginación social exclusión comunidades vulnerables\n",
    "    conflictos intercomunitarios tensiones sociales barreras sociales \n",
    "    desigualdad aislamiento social\n",
    "    \"\"\"}\n",
    "\n",
    "\n",
    "class PovertyDimensionClassifier:\n",
    "    def __init__(self):\n",
    "        # sentence embedding\n",
    "        self.model = SentenceTransformer('hiiamsid/sentence_similarity_spanish_es')\n",
    "        \n",
    "        # create embeddings for poverty dimensions\n",
    "        self.dimension_names = list(POVERTY_DIMENSIONS.keys())\n",
    "        self.dimension_embeddings = self.model.encode(list(POVERTY_DIMENSIONS.values()), convert_to_tensor=True)\n",
    "    \n",
    "    def clean_text(self, text):\n",
    "        if not isinstance(text, str):\n",
    "            return \"\"\n",
    "        text = re.sub(r'<.*?>', ' ', text)\n",
    "        text = re.sub(r'http\\S+', '', text)\n",
    "        text = re.sub(r'[^\\w\\sáéíóúüñÁÉÍÓÚÜÑ]', ' ', text)\n",
    "        return re.sub(r'\\s+', ' ', text).strip().lower()\n",
    "    \n",
    "    # classify the text into a poverty dimension using sentence embeddings\n",
    "    def classify_text(self, text, threshold=0.10):\n",
    "        if not text:\n",
    "            return None, 0.0\n",
    "        \n",
    "        cleaned_text = self.clean_text(text)\n",
    "        if len(cleaned_text) < 10:  # avoid too short texts\n",
    "            return None, 0.0\n",
    "        \n",
    "        text_embedding = self.model.encode(cleaned_text, convert_to_tensor=True)\n",
    "        \n",
    "        # compute cosine similarity\n",
    "        cosine_scores = util.cos_sim(text_embedding, self.dimension_embeddings)[0]\n",
    "        \n",
    "        # find dimension with highest similarity \n",
    "        max_idx = torch.argmax(cosine_scores).item()\n",
    "        max_score = cosine_scores[max_idx].item()\n",
    "        if max_score >= threshold:\n",
    "            return self.dimension_names[max_idx], max_score\n",
    "        else:\n",
    "            return None, max_score\n",
    "\n",
    "# load only data of interest from MongoDB\n",
    "def load_state_posts():\n",
    "    \n",
    "    MONGO_IP = os.getenv(\"MONGO_IP\")\n",
    "    MONGO_PORT = os.getenv(\"MONGO_PORT\")\n",
    "    MONGO_DB = os.getenv(\"MONGO_DB\")\n",
    "    MONGO_USERNAME = os.getenv(\"MONGO_USERNAME\")\n",
    "    MONGO_PASSWORD = os.getenv(\"MONGO_PASSWORD\")\n",
    "    \n",
    "    mongo_client = MongoWrapper(\n",
    "        db=MONGO_DB,\n",
    "        user=MONGO_USERNAME,\n",
    "        password=MONGO_PASSWORD,\n",
    "        ip=MONGO_IP,\n",
    "        port=MONGO_PORT)\n",
    "    \n",
    "    all_channels = mongo_client.get_all_collections()\n",
    "    available_target_channels = [channel for channel in TARGET_CHANNELS if channel in all_channels]\n",
    "    \n",
    "    # initialize a dictionary to store posts for each state\n",
    "    state_posts = {state: [] for state in STATES}\n",
    "    \n",
    "    # classify posts by using regex patterns - if a post contains a state name, it will be classified as that state\n",
    "    state_patterns = {state: re.compile(r'\\b' + re.escape(state) + r'\\b', re.IGNORECASE) for state in STATES}\n",
    "    \n",
    "    for channel in tqdm(available_target_channels, desc=\"loading channels\"):\n",
    "        posts = mongo_client.get_collection_entries(collection=channel)\n",
    "        \n",
    "        print(f\"channel: {channel} - {len(posts)} post found\")\n",
    "        \n",
    "        for post in tqdm(posts, desc=f\"analysis {channel}\", leave=False):\n",
    "            post_text = post.get('text', '')\n",
    "                \n",
    "            for state, pattern in state_patterns.items():\n",
    "                if pattern.search(post_text):\n",
    "                    state_posts[state].append({\n",
    "                        'text': post_text,\n",
    "                        'author': post.get('author', ''),\n",
    "                        'posting_ts': post.get('posting_ts', ''),\n",
    "                        'channel': channel})\n",
    "    \n",
    "    for state in STATES:\n",
    "        state_posts[state] = pd.DataFrame(state_posts[state])\n",
    "    \n",
    "    return state_posts\n",
    "\n",
    "# classify posts by dimensions of poverty \n",
    "def analyze_poverty_dimensions(state_posts):\n",
    "    classifier = PovertyDimensionClassifier()\n",
    "    \n",
    "    results = []\n",
    "\n",
    "    for state, df in state_posts.items():\n",
    "        print(f\"\\nanalyzing {state} ({len(df)} posts)...\")\n",
    "    \n",
    "        dimension_counts = {dim: 0 for dim in POVERTY_DIMENSIONS.keys()}\n",
    "        dimension_counts[\"OTHER\"] = 0  # other types of posts \n",
    "    \n",
    "        for idx, row in tqdm(df.iterrows(), total=len(df), desc=f\"Classifying {state}\"):\n",
    "            text = row['text']\n",
    "        \n",
    "            dimension, score = classifier.classify_text(text)\n",
    "        \n",
    "            if dimension:\n",
    "                dimension_counts[dimension] += 1\n",
    "            else:\n",
    "                dimension_counts[\"OTHER\"] += 1\n",
    "        \n",
    "        total_posts = len(df)\n",
    "        dimension_percentages = {dim: (count / total_posts) * 100 for dim, count in dimension_counts.items()}\n",
    "        \n",
    "        print(f\"\\nresults for {state}:\")\n",
    "        print(f\"total posts: {total_posts}\")\n",
    "        print(\"\\ndistribution of posts across dimensions of poverty:\")\n",
    "        \n",
    "        for dim, count in dimension_counts.items():\n",
    "            dim_name = dim if dim != \"OTHER\" else \"non-poverty posts\"\n",
    "            pct = dimension_percentages[dim]\n",
    "            print(f\"- {dim_name}: {count} post ({pct:.1f}%)\")\n",
    "        \n",
    "        for dim in list(POVERTY_DIMENSIONS.keys()) + [\"OTHER\"]:\n",
    "            results.append({\n",
    "                'state': state,\n",
    "                'dimension': dim,\n",
    "                'count': dimension_counts[dim],\n",
    "                'percentage': dimension_percentages[dim],\n",
    "                'total_posts': total_posts})\n",
    "    \n",
    "    results_df = pd.DataFrame(results)\n",
    "    return results_df\n",
    "\n",
    "def main():\n",
    "    state_posts = load_state_posts()\n",
    "    \n",
    "    results = analyze_poverty_dimensions(state_posts)\n",
    "    \n",
    "    results.to_csv(\"tg_results.csv\", index=False)\n",
    "    \n",
    "    pivot_counts = results.pivot(index='state', columns='dimension', values='count')\n",
    "    print(\"\\ncount of posts per dimension:\")\n",
    "    print(pivot_counts)\n",
    "    \n",
    "    pivot_percentages = results.pivot(index='state', columns='dimension', values='percentage')\n",
    "    print(\"\\npercentage of posts per dimension:\")\n",
    "    print(pivot_percentages.round(1))\n",
    "\n",
    "if __name__ == \"__main__\":\n",
    "    main()"
   ]
  }
 ],
 "metadata": {
  "kernelspec": {
   "display_name": "new",
   "language": "python",
   "name": "python3"
  },
  "language_info": {
   "codemirror_mode": {
    "name": "ipython",
    "version": 3
   },
   "file_extension": ".py",
   "mimetype": "text/x-python",
   "name": "python",
   "nbconvert_exporter": "python",
   "pygments_lexer": "ipython3",
   "version": "3.10.9"
  }
 },
 "nbformat": 4,
 "nbformat_minor": 2
}
