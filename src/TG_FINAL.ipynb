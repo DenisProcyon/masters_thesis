{
 "cells": [
  {
   "cell_type": "code",
   "execution_count": 1,
   "metadata": {},
   "outputs": [
    {
     "name": "stderr",
     "output_type": "stream",
     "text": [
      "2025-05-10 22:24:15,779 WARNING Logger Mongo was configured with True console stream\n",
      "2025-05-10 22:24:16,105 INFO Connected to thesis database on 206.81.16.39\n",
      "loading channels:   0%|          | 0/8 [00:00<?, ?it/s]"
     ]
    },
    {
     "name": "stdout",
     "output_type": "stream",
     "text": [
      "channel: elpaismexico - 1750 post found\n"
     ]
    },
    {
     "name": "stderr",
     "output_type": "stream",
     "text": [
      "loading channels:  12%|█▎        | 1/8 [00:00<00:04,  1.68it/s]"
     ]
    },
    {
     "name": "stdout",
     "output_type": "stream",
     "text": [
      "channel: ElUniversalOnline - 2435 post found\n"
     ]
    },
    {
     "name": "stderr",
     "output_type": "stream",
     "text": [
      "loading channels:  25%|██▌       | 2/8 [00:02<00:06,  1.14s/it]"
     ]
    },
    {
     "name": "stdout",
     "output_type": "stream",
     "text": [
      "channel: proceso_unofficial - 3141 post found\n"
     ]
    },
    {
     "name": "stderr",
     "output_type": "stream",
     "text": [
      "loading channels:  38%|███▊      | 3/8 [00:02<00:03,  1.33it/s]"
     ]
    },
    {
     "name": "stdout",
     "output_type": "stream",
     "text": [
      "channel: politicomx - 5103 post found\n"
     ]
    },
    {
     "name": "stderr",
     "output_type": "stream",
     "text": [
      "loading channels:  50%|█████     | 4/8 [00:02<00:02,  1.57it/s]"
     ]
    },
    {
     "name": "stdout",
     "output_type": "stream",
     "text": [
      "channel: lajornada_unofficial - 18673 post found\n"
     ]
    },
    {
     "name": "stderr",
     "output_type": "stream",
     "text": [
      "loading channels:  62%|██████▎   | 5/8 [00:03<00:02,  1.28it/s]"
     ]
    },
    {
     "name": "stdout",
     "output_type": "stream",
     "text": [
      "channel: larazondemexico - 4248 post found\n"
     ]
    },
    {
     "name": "stderr",
     "output_type": "stream",
     "text": [
      "loading channels:  75%|███████▌  | 6/8 [00:04<00:01,  1.19it/s]"
     ]
    },
    {
     "name": "stdout",
     "output_type": "stream",
     "text": [
      "channel: sinembargomx - 9525 post found\n"
     ]
    },
    {
     "name": "stderr",
     "output_type": "stream",
     "text": [
      "loading channels:  88%|████████▊ | 7/8 [00:05<00:00,  1.13it/s]"
     ]
    },
    {
     "name": "stdout",
     "output_type": "stream",
     "text": [
      "channel: elpaisamerica - 1411 post found\n"
     ]
    },
    {
     "name": "stderr",
     "output_type": "stream",
     "text": [
      "loading channels: 100%|██████████| 8/8 [00:06<00:00,  1.28it/s]\n",
      "/Users/noemilucchi/miniforge3/envs/new/lib/python3.10/site-packages/huggingface_hub/file_download.py:896: FutureWarning: `resume_download` is deprecated and will be removed in version 1.0.0. Downloads always resume when possible. If you want to force a new download, use `force_download=True`.\n",
      "  warnings.warn(\n"
     ]
    },
    {
     "name": "stdout",
     "output_type": "stream",
     "text": [
      "\n",
      "analyzing Guanajuato (219 posts)...\n"
     ]
    },
    {
     "name": "stderr",
     "output_type": "stream",
     "text": [
      "Classifying Guanajuato: 100%|██████████| 219/219 [00:20<00:00, 10.58it/s]\n"
     ]
    },
    {
     "name": "stdout",
     "output_type": "stream",
     "text": [
      "\n",
      "results for Guanajuato:\n",
      "total posts: 219\n",
      "\n",
      "distribution of posts across dimensions of poverty:\n",
      "- INCOME: 77 post (35.2%)\n",
      "- ACCESS TO HEALTH SERVICES: 11 post (5.0%)\n",
      "- EDUCATIONAL_LAG: 15 post (6.8%)\n",
      "- ACCESS TO SOCIAL SECURITY: 33 post (15.1%)\n",
      "- HOUSING: 73 post (33.3%)\n",
      "- ACCESS TO FOOD: 2 post (0.9%)\n",
      "- SOCIAL_COHESION: 2 post (0.9%)\n",
      "- non-poverty posts: 6 post (2.7%)\n",
      "\n",
      "analyzing Michoacán (317 posts)...\n"
     ]
    },
    {
     "name": "stderr",
     "output_type": "stream",
     "text": [
      "Classifying Michoacán: 100%|██████████| 317/317 [00:31<00:00,  9.98it/s]\n"
     ]
    },
    {
     "name": "stdout",
     "output_type": "stream",
     "text": [
      "\n",
      "results for Michoacán:\n",
      "total posts: 317\n",
      "\n",
      "distribution of posts across dimensions of poverty:\n",
      "- INCOME: 75 post (23.7%)\n",
      "- ACCESS TO HEALTH SERVICES: 31 post (9.8%)\n",
      "- EDUCATIONAL_LAG: 19 post (6.0%)\n",
      "- ACCESS TO SOCIAL SECURITY: 97 post (30.6%)\n",
      "- HOUSING: 68 post (21.5%)\n",
      "- ACCESS TO FOOD: 7 post (2.2%)\n",
      "- SOCIAL_COHESION: 9 post (2.8%)\n",
      "- non-poverty posts: 11 post (3.5%)\n",
      "\n",
      "analyzing Sinaloa (265 posts)...\n"
     ]
    },
    {
     "name": "stderr",
     "output_type": "stream",
     "text": [
      "Classifying Sinaloa: 100%|██████████| 265/265 [00:35<00:00,  7.56it/s]\n"
     ]
    },
    {
     "name": "stdout",
     "output_type": "stream",
     "text": [
      "\n",
      "results for Sinaloa:\n",
      "total posts: 265\n",
      "\n",
      "distribution of posts across dimensions of poverty:\n",
      "- INCOME: 93 post (35.1%)\n",
      "- ACCESS TO HEALTH SERVICES: 23 post (8.7%)\n",
      "- EDUCATIONAL_LAG: 12 post (4.5%)\n",
      "- ACCESS TO SOCIAL SECURITY: 99 post (37.4%)\n",
      "- HOUSING: 26 post (9.8%)\n",
      "- ACCESS TO FOOD: 3 post (1.1%)\n",
      "- SOCIAL_COHESION: 3 post (1.1%)\n",
      "- non-poverty posts: 6 post (2.3%)\n",
      "\n",
      "analyzing Chihuahua (230 posts)...\n"
     ]
    },
    {
     "name": "stderr",
     "output_type": "stream",
     "text": [
      "Classifying Chihuahua: 100%|██████████| 230/230 [00:26<00:00,  8.83it/s]\n"
     ]
    },
    {
     "name": "stdout",
     "output_type": "stream",
     "text": [
      "\n",
      "results for Chihuahua:\n",
      "total posts: 230\n",
      "\n",
      "distribution of posts across dimensions of poverty:\n",
      "- INCOME: 44 post (19.1%)\n",
      "- ACCESS TO HEALTH SERVICES: 11 post (4.8%)\n",
      "- EDUCATIONAL_LAG: 39 post (17.0%)\n",
      "- ACCESS TO SOCIAL SECURITY: 69 post (30.0%)\n",
      "- HOUSING: 35 post (15.2%)\n",
      "- ACCESS TO FOOD: 15 post (6.5%)\n",
      "- SOCIAL_COHESION: 8 post (3.5%)\n",
      "- non-poverty posts: 9 post (3.9%)\n",
      "\n",
      "analyzing Guerrero (343 posts)...\n"
     ]
    },
    {
     "name": "stderr",
     "output_type": "stream",
     "text": [
      "Classifying Guerrero: 100%|██████████| 343/343 [00:41<00:00,  8.33it/s]\n"
     ]
    },
    {
     "name": "stdout",
     "output_type": "stream",
     "text": [
      "\n",
      "results for Guerrero:\n",
      "total posts: 343\n",
      "\n",
      "distribution of posts across dimensions of poverty:\n",
      "- INCOME: 80 post (23.3%)\n",
      "- ACCESS TO HEALTH SERVICES: 17 post (5.0%)\n",
      "- EDUCATIONAL_LAG: 22 post (6.4%)\n",
      "- ACCESS TO SOCIAL SECURITY: 124 post (36.2%)\n",
      "- HOUSING: 68 post (19.8%)\n",
      "- ACCESS TO FOOD: 16 post (4.7%)\n",
      "- SOCIAL_COHESION: 7 post (2.0%)\n",
      "- non-poverty posts: 9 post (2.6%)\n",
      "\n",
      "analyzing Tamaulipas (328 posts)...\n"
     ]
    },
    {
     "name": "stderr",
     "output_type": "stream",
     "text": [
      "Classifying Tamaulipas: 100%|██████████| 328/328 [00:33<00:00,  9.67it/s]\n"
     ]
    },
    {
     "name": "stdout",
     "output_type": "stream",
     "text": [
      "\n",
      "results for Tamaulipas:\n",
      "total posts: 328\n",
      "\n",
      "distribution of posts across dimensions of poverty:\n",
      "- INCOME: 76 post (23.2%)\n",
      "- ACCESS TO HEALTH SERVICES: 17 post (5.2%)\n",
      "- EDUCATIONAL_LAG: 16 post (4.9%)\n",
      "- ACCESS TO SOCIAL SECURITY: 123 post (37.5%)\n",
      "- HOUSING: 67 post (20.4%)\n",
      "- ACCESS TO FOOD: 14 post (4.3%)\n",
      "- SOCIAL_COHESION: 3 post (0.9%)\n",
      "- non-poverty posts: 12 post (3.7%)\n",
      "\n",
      "analyzing Baja California (72 posts)...\n"
     ]
    },
    {
     "name": "stderr",
     "output_type": "stream",
     "text": [
      "Classifying Baja California: 100%|██████████| 72/72 [00:03<00:00, 23.98it/s]\n"
     ]
    },
    {
     "name": "stdout",
     "output_type": "stream",
     "text": [
      "\n",
      "results for Baja California:\n",
      "total posts: 72\n",
      "\n",
      "distribution of posts across dimensions of poverty:\n",
      "- INCOME: 14 post (19.4%)\n",
      "- ACCESS TO HEALTH SERVICES: 8 post (11.1%)\n",
      "- EDUCATIONAL_LAG: 4 post (5.6%)\n",
      "- ACCESS TO SOCIAL SECURITY: 19 post (26.4%)\n",
      "- HOUSING: 19 post (26.4%)\n",
      "- ACCESS TO FOOD: 3 post (4.2%)\n",
      "- SOCIAL_COHESION: 0 post (0.0%)\n",
      "- non-poverty posts: 5 post (6.9%)\n",
      "\n",
      "analyzing Zacatecas (299 posts)...\n"
     ]
    },
    {
     "name": "stderr",
     "output_type": "stream",
     "text": [
      "Classifying Zacatecas: 100%|██████████| 299/299 [00:39<00:00,  7.50it/s]\n"
     ]
    },
    {
     "name": "stdout",
     "output_type": "stream",
     "text": [
      "\n",
      "results for Zacatecas:\n",
      "total posts: 299\n",
      "\n",
      "distribution of posts across dimensions of poverty:\n",
      "- INCOME: 70 post (23.4%)\n",
      "- ACCESS TO HEALTH SERVICES: 15 post (5.0%)\n",
      "- EDUCATIONAL_LAG: 37 post (12.4%)\n",
      "- ACCESS TO SOCIAL SECURITY: 75 post (25.1%)\n",
      "- HOUSING: 91 post (30.4%)\n",
      "- ACCESS TO FOOD: 4 post (1.3%)\n",
      "- SOCIAL_COHESION: 1 post (0.3%)\n",
      "- non-poverty posts: 6 post (2.0%)\n",
      "\n",
      "analyzing Colima (143 posts)...\n"
     ]
    },
    {
     "name": "stderr",
     "output_type": "stream",
     "text": [
      "Classifying Colima: 100%|██████████| 143/143 [00:05<00:00, 26.96it/s]\n"
     ]
    },
    {
     "name": "stdout",
     "output_type": "stream",
     "text": [
      "\n",
      "results for Colima:\n",
      "total posts: 143\n",
      "\n",
      "distribution of posts across dimensions of poverty:\n",
      "- INCOME: 45 post (31.5%)\n",
      "- ACCESS TO HEALTH SERVICES: 29 post (20.3%)\n",
      "- EDUCATIONAL_LAG: 8 post (5.6%)\n",
      "- ACCESS TO SOCIAL SECURITY: 26 post (18.2%)\n",
      "- HOUSING: 19 post (13.3%)\n",
      "- ACCESS TO FOOD: 4 post (2.8%)\n",
      "- SOCIAL_COHESION: 4 post (2.8%)\n",
      "- non-poverty posts: 8 post (5.6%)\n",
      "\n",
      "analyzing Jalisco (317 posts)...\n"
     ]
    },
    {
     "name": "stderr",
     "output_type": "stream",
     "text": [
      "Classifying Jalisco: 100%|██████████| 317/317 [00:14<00:00, 22.28it/s]\n"
     ]
    },
    {
     "name": "stdout",
     "output_type": "stream",
     "text": [
      "\n",
      "results for Jalisco:\n",
      "total posts: 317\n",
      "\n",
      "distribution of posts across dimensions of poverty:\n",
      "- INCOME: 100 post (31.5%)\n",
      "- ACCESS TO HEALTH SERVICES: 31 post (9.8%)\n",
      "- EDUCATIONAL_LAG: 23 post (7.3%)\n",
      "- ACCESS TO SOCIAL SECURITY: 83 post (26.2%)\n",
      "- HOUSING: 59 post (18.6%)\n",
      "- ACCESS TO FOOD: 2 post (0.6%)\n",
      "- SOCIAL_COHESION: 6 post (1.9%)\n",
      "- non-poverty posts: 13 post (4.1%)\n",
      "\n",
      "analyzing Aguascalientes (165 posts)...\n"
     ]
    },
    {
     "name": "stderr",
     "output_type": "stream",
     "text": [
      "Classifying Aguascalientes: 100%|██████████| 165/165 [00:07<00:00, 22.51it/s]\n"
     ]
    },
    {
     "name": "stdout",
     "output_type": "stream",
     "text": [
      "\n",
      "results for Aguascalientes:\n",
      "total posts: 165\n",
      "\n",
      "distribution of posts across dimensions of poverty:\n",
      "- INCOME: 49 post (29.7%)\n",
      "- ACCESS TO HEALTH SERVICES: 6 post (3.6%)\n",
      "- EDUCATIONAL_LAG: 6 post (3.6%)\n",
      "- ACCESS TO SOCIAL SECURITY: 51 post (30.9%)\n",
      "- HOUSING: 46 post (27.9%)\n",
      "- ACCESS TO FOOD: 2 post (1.2%)\n",
      "- SOCIAL_COHESION: 2 post (1.2%)\n",
      "- non-poverty posts: 3 post (1.8%)\n",
      "\n",
      "analyzing Baja California Sur (13 posts)...\n"
     ]
    },
    {
     "name": "stderr",
     "output_type": "stream",
     "text": [
      "Classifying Baja California Sur: 100%|██████████| 13/13 [00:00<00:00, 37.06it/s]\n"
     ]
    },
    {
     "name": "stdout",
     "output_type": "stream",
     "text": [
      "\n",
      "results for Baja California Sur:\n",
      "total posts: 13\n",
      "\n",
      "distribution of posts across dimensions of poverty:\n",
      "- INCOME: 3 post (23.1%)\n",
      "- ACCESS TO HEALTH SERVICES: 2 post (15.4%)\n",
      "- EDUCATIONAL_LAG: 1 post (7.7%)\n",
      "- ACCESS TO SOCIAL SECURITY: 4 post (30.8%)\n",
      "- HOUSING: 0 post (0.0%)\n",
      "- ACCESS TO FOOD: 1 post (7.7%)\n",
      "- SOCIAL_COHESION: 0 post (0.0%)\n",
      "- non-poverty posts: 2 post (15.4%)\n",
      "\n",
      "analyzing Campeche (81 posts)...\n"
     ]
    },
    {
     "name": "stderr",
     "output_type": "stream",
     "text": [
      "Classifying Campeche: 100%|██████████| 81/81 [00:05<00:00, 14.64it/s]\n"
     ]
    },
    {
     "name": "stdout",
     "output_type": "stream",
     "text": [
      "\n",
      "results for Campeche:\n",
      "total posts: 81\n",
      "\n",
      "distribution of posts across dimensions of poverty:\n",
      "- INCOME: 24 post (29.6%)\n",
      "- ACCESS TO HEALTH SERVICES: 3 post (3.7%)\n",
      "- EDUCATIONAL_LAG: 6 post (7.4%)\n",
      "- ACCESS TO SOCIAL SECURITY: 23 post (28.4%)\n",
      "- HOUSING: 22 post (27.2%)\n",
      "- ACCESS TO FOOD: 1 post (1.2%)\n",
      "- SOCIAL_COHESION: 0 post (0.0%)\n",
      "- non-poverty posts: 2 post (2.5%)\n",
      "\n",
      "analyzing Coahuila (396 posts)...\n"
     ]
    },
    {
     "name": "stderr",
     "output_type": "stream",
     "text": [
      "Classifying Coahuila: 100%|██████████| 396/396 [00:17<00:00, 22.42it/s]\n"
     ]
    },
    {
     "name": "stdout",
     "output_type": "stream",
     "text": [
      "\n",
      "results for Coahuila:\n",
      "total posts: 396\n",
      "\n",
      "distribution of posts across dimensions of poverty:\n",
      "- INCOME: 73 post (18.4%)\n",
      "- ACCESS TO HEALTH SERVICES: 13 post (3.3%)\n",
      "- EDUCATIONAL_LAG: 8 post (2.0%)\n",
      "- ACCESS TO SOCIAL SECURITY: 170 post (42.9%)\n",
      "- HOUSING: 86 post (21.7%)\n",
      "- ACCESS TO FOOD: 6 post (1.5%)\n",
      "- SOCIAL_COHESION: 15 post (3.8%)\n",
      "- non-poverty posts: 25 post (6.3%)\n",
      "\n",
      "analyzing Durango (184 posts)...\n"
     ]
    },
    {
     "name": "stderr",
     "output_type": "stream",
     "text": [
      "Classifying Durango: 100%|██████████| 184/184 [00:04<00:00, 37.90it/s]\n"
     ]
    },
    {
     "name": "stdout",
     "output_type": "stream",
     "text": [
      "\n",
      "results for Durango:\n",
      "total posts: 184\n",
      "\n",
      "distribution of posts across dimensions of poverty:\n",
      "- INCOME: 59 post (32.1%)\n",
      "- ACCESS TO HEALTH SERVICES: 24 post (13.0%)\n",
      "- EDUCATIONAL_LAG: 12 post (6.5%)\n",
      "- ACCESS TO SOCIAL SECURITY: 63 post (34.2%)\n",
      "- HOUSING: 19 post (10.3%)\n",
      "- ACCESS TO FOOD: 4 post (2.2%)\n",
      "- SOCIAL_COHESION: 0 post (0.0%)\n",
      "- non-poverty posts: 3 post (1.6%)\n",
      "\n",
      "analyzing Hidalgo (196 posts)...\n"
     ]
    },
    {
     "name": "stderr",
     "output_type": "stream",
     "text": [
      "Classifying Hidalgo: 100%|██████████| 196/196 [00:06<00:00, 28.72it/s]\n"
     ]
    },
    {
     "name": "stdout",
     "output_type": "stream",
     "text": [
      "\n",
      "results for Hidalgo:\n",
      "total posts: 196\n",
      "\n",
      "distribution of posts across dimensions of poverty:\n",
      "- INCOME: 44 post (22.4%)\n",
      "- ACCESS TO HEALTH SERVICES: 11 post (5.6%)\n",
      "- EDUCATIONAL_LAG: 9 post (4.6%)\n",
      "- ACCESS TO SOCIAL SECURITY: 94 post (48.0%)\n",
      "- HOUSING: 36 post (18.4%)\n",
      "- ACCESS TO FOOD: 0 post (0.0%)\n",
      "- SOCIAL_COHESION: 0 post (0.0%)\n",
      "- non-poverty posts: 2 post (1.0%)\n",
      "\n",
      "analyzing Estado de México (94 posts)...\n"
     ]
    },
    {
     "name": "stderr",
     "output_type": "stream",
     "text": [
      "Classifying Estado de México: 100%|██████████| 94/94 [00:08<00:00, 11.59it/s]\n"
     ]
    },
    {
     "name": "stdout",
     "output_type": "stream",
     "text": [
      "\n",
      "results for Estado de México:\n",
      "total posts: 94\n",
      "\n",
      "distribution of posts across dimensions of poverty:\n",
      "- INCOME: 19 post (20.2%)\n",
      "- ACCESS TO HEALTH SERVICES: 11 post (11.7%)\n",
      "- EDUCATIONAL_LAG: 4 post (4.3%)\n",
      "- ACCESS TO SOCIAL SECURITY: 27 post (28.7%)\n",
      "- HOUSING: 21 post (22.3%)\n",
      "- ACCESS TO FOOD: 4 post (4.3%)\n",
      "- SOCIAL_COHESION: 0 post (0.0%)\n",
      "- non-poverty posts: 8 post (8.5%)\n",
      "\n",
      "analyzing Ciudad de México (275 posts)...\n"
     ]
    },
    {
     "name": "stderr",
     "output_type": "stream",
     "text": [
      "Classifying Ciudad de México: 100%|██████████| 275/275 [00:09<00:00, 29.52it/s]\n"
     ]
    },
    {
     "name": "stdout",
     "output_type": "stream",
     "text": [
      "\n",
      "results for Ciudad de México:\n",
      "total posts: 275\n",
      "\n",
      "distribution of posts across dimensions of poverty:\n",
      "- INCOME: 33 post (12.0%)\n",
      "- ACCESS TO HEALTH SERVICES: 63 post (22.9%)\n",
      "- EDUCATIONAL_LAG: 16 post (5.8%)\n",
      "- ACCESS TO SOCIAL SECURITY: 59 post (21.5%)\n",
      "- HOUSING: 91 post (33.1%)\n",
      "- ACCESS TO FOOD: 5 post (1.8%)\n",
      "- SOCIAL_COHESION: 3 post (1.1%)\n",
      "- non-poverty posts: 5 post (1.8%)\n",
      "\n",
      "analyzing Morelos (228 posts)...\n"
     ]
    },
    {
     "name": "stderr",
     "output_type": "stream",
     "text": [
      "Classifying Morelos: 100%|██████████| 228/228 [00:10<00:00, 22.05it/s]\n"
     ]
    },
    {
     "name": "stdout",
     "output_type": "stream",
     "text": [
      "\n",
      "results for Morelos:\n",
      "total posts: 228\n",
      "\n",
      "distribution of posts across dimensions of poverty:\n",
      "- INCOME: 53 post (23.2%)\n",
      "- ACCESS TO HEALTH SERVICES: 3 post (1.3%)\n",
      "- EDUCATIONAL_LAG: 12 post (5.3%)\n",
      "- ACCESS TO SOCIAL SECURITY: 82 post (36.0%)\n",
      "- HOUSING: 70 post (30.7%)\n",
      "- ACCESS TO FOOD: 4 post (1.8%)\n",
      "- SOCIAL_COHESION: 2 post (0.9%)\n",
      "- non-poverty posts: 2 post (0.9%)\n",
      "\n",
      "analyzing Nayarit (79 posts)...\n"
     ]
    },
    {
     "name": "stderr",
     "output_type": "stream",
     "text": [
      "Classifying Nayarit: 100%|██████████| 79/79 [00:02<00:00, 39.43it/s]\n"
     ]
    },
    {
     "name": "stdout",
     "output_type": "stream",
     "text": [
      "\n",
      "results for Nayarit:\n",
      "total posts: 79\n",
      "\n",
      "distribution of posts across dimensions of poverty:\n",
      "- INCOME: 15 post (19.0%)\n",
      "- ACCESS TO HEALTH SERVICES: 11 post (13.9%)\n",
      "- EDUCATIONAL_LAG: 4 post (5.1%)\n",
      "- ACCESS TO SOCIAL SECURITY: 27 post (34.2%)\n",
      "- HOUSING: 16 post (20.3%)\n",
      "- ACCESS TO FOOD: 3 post (3.8%)\n",
      "- SOCIAL_COHESION: 0 post (0.0%)\n",
      "- non-poverty posts: 3 post (3.8%)\n",
      "\n",
      "analyzing Nuevo León (179 posts)...\n"
     ]
    },
    {
     "name": "stderr",
     "output_type": "stream",
     "text": [
      "Classifying Nuevo León: 100%|██████████| 179/179 [00:08<00:00, 20.55it/s]\n"
     ]
    },
    {
     "name": "stdout",
     "output_type": "stream",
     "text": [
      "\n",
      "results for Nuevo León:\n",
      "total posts: 179\n",
      "\n",
      "distribution of posts across dimensions of poverty:\n",
      "- INCOME: 61 post (34.1%)\n",
      "- ACCESS TO HEALTH SERVICES: 15 post (8.4%)\n",
      "- EDUCATIONAL_LAG: 8 post (4.5%)\n",
      "- ACCESS TO SOCIAL SECURITY: 53 post (29.6%)\n",
      "- HOUSING: 37 post (20.7%)\n",
      "- ACCESS TO FOOD: 4 post (2.2%)\n",
      "- SOCIAL_COHESION: 1 post (0.6%)\n",
      "- non-poverty posts: 0 post (0.0%)\n",
      "\n",
      "analyzing Oaxaca (330 posts)...\n"
     ]
    },
    {
     "name": "stderr",
     "output_type": "stream",
     "text": [
      "Classifying Oaxaca: 100%|██████████| 330/330 [00:16<00:00, 19.55it/s]\n"
     ]
    },
    {
     "name": "stdout",
     "output_type": "stream",
     "text": [
      "\n",
      "results for Oaxaca:\n",
      "total posts: 330\n",
      "\n",
      "distribution of posts across dimensions of poverty:\n",
      "- INCOME: 66 post (20.0%)\n",
      "- ACCESS TO HEALTH SERVICES: 36 post (10.9%)\n",
      "- EDUCATIONAL_LAG: 31 post (9.4%)\n",
      "- ACCESS TO SOCIAL SECURITY: 113 post (34.2%)\n",
      "- HOUSING: 54 post (16.4%)\n",
      "- ACCESS TO FOOD: 10 post (3.0%)\n",
      "- SOCIAL_COHESION: 9 post (2.7%)\n",
      "- non-poverty posts: 11 post (3.3%)\n",
      "\n",
      "analyzing Puebla (315 posts)...\n"
     ]
    },
    {
     "name": "stderr",
     "output_type": "stream",
     "text": [
      "Classifying Puebla: 100%|██████████| 315/315 [00:16<00:00, 18.73it/s]\n"
     ]
    },
    {
     "name": "stdout",
     "output_type": "stream",
     "text": [
      "\n",
      "results for Puebla:\n",
      "total posts: 315\n",
      "\n",
      "distribution of posts across dimensions of poverty:\n",
      "- INCOME: 87 post (27.6%)\n",
      "- ACCESS TO HEALTH SERVICES: 21 post (6.7%)\n",
      "- EDUCATIONAL_LAG: 37 post (11.7%)\n",
      "- ACCESS TO SOCIAL SECURITY: 72 post (22.9%)\n",
      "- HOUSING: 85 post (27.0%)\n",
      "- ACCESS TO FOOD: 3 post (1.0%)\n",
      "- SOCIAL_COHESION: 3 post (1.0%)\n",
      "- non-poverty posts: 7 post (2.2%)\n",
      "\n",
      "analyzing Querétaro (181 posts)...\n"
     ]
    },
    {
     "name": "stderr",
     "output_type": "stream",
     "text": [
      "Classifying Querétaro: 100%|██████████| 181/181 [00:04<00:00, 37.76it/s]\n"
     ]
    },
    {
     "name": "stdout",
     "output_type": "stream",
     "text": [
      "\n",
      "results for Querétaro:\n",
      "total posts: 181\n",
      "\n",
      "distribution of posts across dimensions of poverty:\n",
      "- INCOME: 49 post (27.1%)\n",
      "- ACCESS TO HEALTH SERVICES: 22 post (12.2%)\n",
      "- EDUCATIONAL_LAG: 26 post (14.4%)\n",
      "- ACCESS TO SOCIAL SECURITY: 39 post (21.5%)\n",
      "- HOUSING: 28 post (15.5%)\n",
      "- ACCESS TO FOOD: 4 post (2.2%)\n",
      "- SOCIAL_COHESION: 2 post (1.1%)\n",
      "- non-poverty posts: 11 post (6.1%)\n",
      "\n",
      "analyzing Quintana Roo (136 posts)...\n"
     ]
    },
    {
     "name": "stderr",
     "output_type": "stream",
     "text": [
      "Classifying Quintana Roo: 100%|██████████| 136/136 [00:05<00:00, 22.97it/s]\n"
     ]
    },
    {
     "name": "stdout",
     "output_type": "stream",
     "text": [
      "\n",
      "results for Quintana Roo:\n",
      "total posts: 136\n",
      "\n",
      "distribution of posts across dimensions of poverty:\n",
      "- INCOME: 56 post (41.2%)\n",
      "- ACCESS TO HEALTH SERVICES: 13 post (9.6%)\n",
      "- EDUCATIONAL_LAG: 5 post (3.7%)\n",
      "- ACCESS TO SOCIAL SECURITY: 39 post (28.7%)\n",
      "- HOUSING: 21 post (15.4%)\n",
      "- ACCESS TO FOOD: 0 post (0.0%)\n",
      "- SOCIAL_COHESION: 0 post (0.0%)\n",
      "- non-poverty posts: 2 post (1.5%)\n",
      "\n",
      "analyzing San Luis Potosí (32 posts)...\n"
     ]
    },
    {
     "name": "stderr",
     "output_type": "stream",
     "text": [
      "Classifying San Luis Potosí: 100%|██████████| 32/32 [00:00<00:00, 32.14it/s]\n"
     ]
    },
    {
     "name": "stdout",
     "output_type": "stream",
     "text": [
      "\n",
      "results for San Luis Potosí:\n",
      "total posts: 32\n",
      "\n",
      "distribution of posts across dimensions of poverty:\n",
      "- INCOME: 12 post (37.5%)\n",
      "- ACCESS TO HEALTH SERVICES: 5 post (15.6%)\n",
      "- EDUCATIONAL_LAG: 2 post (6.2%)\n",
      "- ACCESS TO SOCIAL SECURITY: 6 post (18.8%)\n",
      "- HOUSING: 7 post (21.9%)\n",
      "- ACCESS TO FOOD: 0 post (0.0%)\n",
      "- SOCIAL_COHESION: 0 post (0.0%)\n",
      "- non-poverty posts: 0 post (0.0%)\n",
      "\n",
      "analyzing Sonora (241 posts)...\n"
     ]
    },
    {
     "name": "stderr",
     "output_type": "stream",
     "text": [
      "Classifying Sonora: 100%|██████████| 241/241 [00:24<00:00, 10.01it/s]\n"
     ]
    },
    {
     "name": "stdout",
     "output_type": "stream",
     "text": [
      "\n",
      "results for Sonora:\n",
      "total posts: 241\n",
      "\n",
      "distribution of posts across dimensions of poverty:\n",
      "- INCOME: 99 post (41.1%)\n",
      "- ACCESS TO HEALTH SERVICES: 11 post (4.6%)\n",
      "- EDUCATIONAL_LAG: 15 post (6.2%)\n",
      "- ACCESS TO SOCIAL SECURITY: 63 post (26.1%)\n",
      "- HOUSING: 43 post (17.8%)\n",
      "- ACCESS TO FOOD: 5 post (2.1%)\n",
      "- SOCIAL_COHESION: 1 post (0.4%)\n",
      "- non-poverty posts: 4 post (1.7%)\n",
      "\n",
      "analyzing Tabasco (79 posts)...\n"
     ]
    },
    {
     "name": "stderr",
     "output_type": "stream",
     "text": [
      "Classifying Tabasco: 100%|██████████| 79/79 [00:03<00:00, 22.21it/s]\n"
     ]
    },
    {
     "name": "stdout",
     "output_type": "stream",
     "text": [
      "\n",
      "results for Tabasco:\n",
      "total posts: 79\n",
      "\n",
      "distribution of posts across dimensions of poverty:\n",
      "- INCOME: 26 post (32.9%)\n",
      "- ACCESS TO HEALTH SERVICES: 14 post (17.7%)\n",
      "- EDUCATIONAL_LAG: 2 post (2.5%)\n",
      "- ACCESS TO SOCIAL SECURITY: 18 post (22.8%)\n",
      "- HOUSING: 14 post (17.7%)\n",
      "- ACCESS TO FOOD: 1 post (1.3%)\n",
      "- SOCIAL_COHESION: 0 post (0.0%)\n",
      "- non-poverty posts: 4 post (5.1%)\n",
      "\n",
      "analyzing Tlaxcala (39 posts)...\n"
     ]
    },
    {
     "name": "stderr",
     "output_type": "stream",
     "text": [
      "Classifying Tlaxcala: 100%|██████████| 39/39 [00:07<00:00,  5.22it/s]\n"
     ]
    },
    {
     "name": "stdout",
     "output_type": "stream",
     "text": [
      "\n",
      "results for Tlaxcala:\n",
      "total posts: 39\n",
      "\n",
      "distribution of posts across dimensions of poverty:\n",
      "- INCOME: 4 post (10.3%)\n",
      "- ACCESS TO HEALTH SERVICES: 4 post (10.3%)\n",
      "- EDUCATIONAL_LAG: 5 post (12.8%)\n",
      "- ACCESS TO SOCIAL SECURITY: 12 post (30.8%)\n",
      "- HOUSING: 6 post (15.4%)\n",
      "- ACCESS TO FOOD: 0 post (0.0%)\n",
      "- SOCIAL_COHESION: 3 post (7.7%)\n",
      "- non-poverty posts: 5 post (12.8%)\n",
      "\n",
      "analyzing Veracruz (264 posts)...\n"
     ]
    },
    {
     "name": "stderr",
     "output_type": "stream",
     "text": [
      "Classifying Veracruz: 100%|██████████| 264/264 [00:10<00:00, 26.03it/s]\n"
     ]
    },
    {
     "name": "stdout",
     "output_type": "stream",
     "text": [
      "\n",
      "results for Veracruz:\n",
      "total posts: 264\n",
      "\n",
      "distribution of posts across dimensions of poverty:\n",
      "- INCOME: 78 post (29.5%)\n",
      "- ACCESS TO HEALTH SERVICES: 30 post (11.4%)\n",
      "- EDUCATIONAL_LAG: 17 post (6.4%)\n",
      "- ACCESS TO SOCIAL SECURITY: 93 post (35.2%)\n",
      "- HOUSING: 40 post (15.2%)\n",
      "- ACCESS TO FOOD: 0 post (0.0%)\n",
      "- SOCIAL_COHESION: 0 post (0.0%)\n",
      "- non-poverty posts: 6 post (2.3%)\n",
      "\n",
      "analyzing Yucatán (74 posts)...\n"
     ]
    },
    {
     "name": "stderr",
     "output_type": "stream",
     "text": [
      "Classifying Yucatán: 100%|██████████| 74/74 [00:02<00:00, 25.18it/s]\n"
     ]
    },
    {
     "name": "stdout",
     "output_type": "stream",
     "text": [
      "\n",
      "results for Yucatán:\n",
      "total posts: 74\n",
      "\n",
      "distribution of posts across dimensions of poverty:\n",
      "- INCOME: 22 post (29.7%)\n",
      "- ACCESS TO HEALTH SERVICES: 6 post (8.1%)\n",
      "- EDUCATIONAL_LAG: 5 post (6.8%)\n",
      "- ACCESS TO SOCIAL SECURITY: 24 post (32.4%)\n",
      "- HOUSING: 10 post (13.5%)\n",
      "- ACCESS TO FOOD: 4 post (5.4%)\n",
      "- SOCIAL_COHESION: 2 post (2.7%)\n",
      "- non-poverty posts: 1 post (1.4%)\n",
      "\n",
      "analyzing Chiapas (219 posts)...\n"
     ]
    },
    {
     "name": "stderr",
     "output_type": "stream",
     "text": [
      "Classifying Chiapas: 100%|██████████| 219/219 [00:12<00:00, 16.85it/s]\n"
     ]
    },
    {
     "name": "stdout",
     "output_type": "stream",
     "text": [
      "\n",
      "results for Chiapas:\n",
      "total posts: 219\n",
      "\n",
      "distribution of posts across dimensions of poverty:\n",
      "- INCOME: 32 post (14.6%)\n",
      "- ACCESS TO HEALTH SERVICES: 21 post (9.6%)\n",
      "- EDUCATIONAL_LAG: 47 post (21.5%)\n",
      "- ACCESS TO SOCIAL SECURITY: 54 post (24.7%)\n",
      "- HOUSING: 38 post (17.4%)\n",
      "- ACCESS TO FOOD: 11 post (5.0%)\n",
      "- SOCIAL_COHESION: 13 post (5.9%)\n",
      "- non-poverty posts: 3 post (1.4%)\n",
      "\n",
      "count of posts per dimension:\n",
      "dimension            ACCESS TO FOOD  ACCESS TO HEALTH SERVICES  \\\n",
      "state                                                            \n",
      "Aguascalientes                    2                          6   \n",
      "Baja California                   3                          8   \n",
      "Baja California Sur               1                          2   \n",
      "Campeche                          1                          3   \n",
      "Chiapas                          11                         21   \n",
      "Chihuahua                        15                         11   \n",
      "Ciudad de México                  5                         63   \n",
      "Coahuila                          6                         13   \n",
      "Colima                            4                         29   \n",
      "Durango                           4                         24   \n",
      "Estado de México                  4                         11   \n",
      "Guanajuato                        2                         11   \n",
      "Guerrero                         16                         17   \n",
      "Hidalgo                           0                         11   \n",
      "Jalisco                           2                         31   \n",
      "Michoacán                         7                         31   \n",
      "Morelos                           4                          3   \n",
      "Nayarit                           3                         11   \n",
      "Nuevo León                        4                         15   \n",
      "Oaxaca                           10                         36   \n",
      "Puebla                            3                         21   \n",
      "Querétaro                         4                         22   \n",
      "Quintana Roo                      0                         13   \n",
      "San Luis Potosí                   0                          5   \n",
      "Sinaloa                           3                         23   \n",
      "Sonora                            5                         11   \n",
      "Tabasco                           1                         14   \n",
      "Tamaulipas                       14                         17   \n",
      "Tlaxcala                          0                          4   \n",
      "Veracruz                          0                         30   \n",
      "Yucatán                           4                          6   \n",
      "Zacatecas                         4                         15   \n",
      "\n",
      "dimension            ACCESS TO SOCIAL SECURITY  EDUCATIONAL_LAG  HOUSING  \\\n",
      "state                                                                      \n",
      "Aguascalientes                              51                6       46   \n",
      "Baja California                             19                4       19   \n",
      "Baja California Sur                          4                1        0   \n",
      "Campeche                                    23                6       22   \n",
      "Chiapas                                     54               47       38   \n",
      "Chihuahua                                   69               39       35   \n",
      "Ciudad de México                            59               16       91   \n",
      "Coahuila                                   170                8       86   \n",
      "Colima                                      26                8       19   \n",
      "Durango                                     63               12       19   \n",
      "Estado de México                            27                4       21   \n",
      "Guanajuato                                  33               15       73   \n",
      "Guerrero                                   124               22       68   \n",
      "Hidalgo                                     94                9       36   \n",
      "Jalisco                                     83               23       59   \n",
      "Michoacán                                   97               19       68   \n",
      "Morelos                                     82               12       70   \n",
      "Nayarit                                     27                4       16   \n",
      "Nuevo León                                  53                8       37   \n",
      "Oaxaca                                     113               31       54   \n",
      "Puebla                                      72               37       85   \n",
      "Querétaro                                   39               26       28   \n",
      "Quintana Roo                                39                5       21   \n",
      "San Luis Potosí                              6                2        7   \n",
      "Sinaloa                                     99               12       26   \n",
      "Sonora                                      63               15       43   \n",
      "Tabasco                                     18                2       14   \n",
      "Tamaulipas                                 123               16       67   \n",
      "Tlaxcala                                    12                5        6   \n",
      "Veracruz                                    93               17       40   \n",
      "Yucatán                                     24                5       10   \n",
      "Zacatecas                                   75               37       91   \n",
      "\n",
      "dimension            INCOME  OTHER  SOCIAL_COHESION  \n",
      "state                                                \n",
      "Aguascalientes           49      3                2  \n",
      "Baja California          14      5                0  \n",
      "Baja California Sur       3      2                0  \n",
      "Campeche                 24      2                0  \n",
      "Chiapas                  32      3               13  \n",
      "Chihuahua                44      9                8  \n",
      "Ciudad de México         33      5                3  \n",
      "Coahuila                 73     25               15  \n",
      "Colima                   45      8                4  \n",
      "Durango                  59      3                0  \n",
      "Estado de México         19      8                0  \n",
      "Guanajuato               77      6                2  \n",
      "Guerrero                 80      9                7  \n",
      "Hidalgo                  44      2                0  \n",
      "Jalisco                 100     13                6  \n",
      "Michoacán                75     11                9  \n",
      "Morelos                  53      2                2  \n",
      "Nayarit                  15      3                0  \n",
      "Nuevo León               61      0                1  \n",
      "Oaxaca                   66     11                9  \n",
      "Puebla                   87      7                3  \n",
      "Querétaro                49     11                2  \n",
      "Quintana Roo             56      2                0  \n",
      "San Luis Potosí          12      0                0  \n",
      "Sinaloa                  93      6                3  \n",
      "Sonora                   99      4                1  \n",
      "Tabasco                  26      4                0  \n",
      "Tamaulipas               76     12                3  \n",
      "Tlaxcala                  4      5                3  \n",
      "Veracruz                 78      6                0  \n",
      "Yucatán                  22      1                2  \n",
      "Zacatecas                70      6                1  \n",
      "\n",
      "percentage of posts per dimension:\n",
      "dimension            ACCESS TO FOOD  ACCESS TO HEALTH SERVICES  \\\n",
      "state                                                            \n",
      "Aguascalientes                  1.2                        3.6   \n",
      "Baja California                 4.2                       11.1   \n",
      "Baja California Sur             7.7                       15.4   \n",
      "Campeche                        1.2                        3.7   \n",
      "Chiapas                         5.0                        9.6   \n",
      "Chihuahua                       6.5                        4.8   \n",
      "Ciudad de México                1.8                       22.9   \n",
      "Coahuila                        1.5                        3.3   \n",
      "Colima                          2.8                       20.3   \n",
      "Durango                         2.2                       13.0   \n",
      "Estado de México                4.3                       11.7   \n",
      "Guanajuato                      0.9                        5.0   \n",
      "Guerrero                        4.7                        5.0   \n",
      "Hidalgo                         0.0                        5.6   \n",
      "Jalisco                         0.6                        9.8   \n",
      "Michoacán                       2.2                        9.8   \n",
      "Morelos                         1.8                        1.3   \n",
      "Nayarit                         3.8                       13.9   \n",
      "Nuevo León                      2.2                        8.4   \n",
      "Oaxaca                          3.0                       10.9   \n",
      "Puebla                          1.0                        6.7   \n",
      "Querétaro                       2.2                       12.2   \n",
      "Quintana Roo                    0.0                        9.6   \n",
      "San Luis Potosí                 0.0                       15.6   \n",
      "Sinaloa                         1.1                        8.7   \n",
      "Sonora                          2.1                        4.6   \n",
      "Tabasco                         1.3                       17.7   \n",
      "Tamaulipas                      4.3                        5.2   \n",
      "Tlaxcala                        0.0                       10.3   \n",
      "Veracruz                        0.0                       11.4   \n",
      "Yucatán                         5.4                        8.1   \n",
      "Zacatecas                       1.3                        5.0   \n",
      "\n",
      "dimension            ACCESS TO SOCIAL SECURITY  EDUCATIONAL_LAG  HOUSING  \\\n",
      "state                                                                      \n",
      "Aguascalientes                            30.9              3.6     27.9   \n",
      "Baja California                           26.4              5.6     26.4   \n",
      "Baja California Sur                       30.8              7.7      0.0   \n",
      "Campeche                                  28.4              7.4     27.2   \n",
      "Chiapas                                   24.7             21.5     17.4   \n",
      "Chihuahua                                 30.0             17.0     15.2   \n",
      "Ciudad de México                          21.5              5.8     33.1   \n",
      "Coahuila                                  42.9              2.0     21.7   \n",
      "Colima                                    18.2              5.6     13.3   \n",
      "Durango                                   34.2              6.5     10.3   \n",
      "Estado de México                          28.7              4.3     22.3   \n",
      "Guanajuato                                15.1              6.8     33.3   \n",
      "Guerrero                                  36.2              6.4     19.8   \n",
      "Hidalgo                                   48.0              4.6     18.4   \n",
      "Jalisco                                   26.2              7.3     18.6   \n",
      "Michoacán                                 30.6              6.0     21.5   \n",
      "Morelos                                   36.0              5.3     30.7   \n",
      "Nayarit                                   34.2              5.1     20.3   \n",
      "Nuevo León                                29.6              4.5     20.7   \n",
      "Oaxaca                                    34.2              9.4     16.4   \n",
      "Puebla                                    22.9             11.7     27.0   \n",
      "Querétaro                                 21.5             14.4     15.5   \n",
      "Quintana Roo                              28.7              3.7     15.4   \n",
      "San Luis Potosí                           18.8              6.2     21.9   \n",
      "Sinaloa                                   37.4              4.5      9.8   \n",
      "Sonora                                    26.1              6.2     17.8   \n",
      "Tabasco                                   22.8              2.5     17.7   \n",
      "Tamaulipas                                37.5              4.9     20.4   \n",
      "Tlaxcala                                  30.8             12.8     15.4   \n",
      "Veracruz                                  35.2              6.4     15.2   \n",
      "Yucatán                                   32.4              6.8     13.5   \n",
      "Zacatecas                                 25.1             12.4     30.4   \n",
      "\n",
      "dimension            INCOME  OTHER  SOCIAL_COHESION  \n",
      "state                                                \n",
      "Aguascalientes         29.7    1.8              1.2  \n",
      "Baja California        19.4    6.9              0.0  \n",
      "Baja California Sur    23.1   15.4              0.0  \n",
      "Campeche               29.6    2.5              0.0  \n",
      "Chiapas                14.6    1.4              5.9  \n",
      "Chihuahua              19.1    3.9              3.5  \n",
      "Ciudad de México       12.0    1.8              1.1  \n",
      "Coahuila               18.4    6.3              3.8  \n",
      "Colima                 31.5    5.6              2.8  \n",
      "Durango                32.1    1.6              0.0  \n",
      "Estado de México       20.2    8.5              0.0  \n",
      "Guanajuato             35.2    2.7              0.9  \n",
      "Guerrero               23.3    2.6              2.0  \n",
      "Hidalgo                22.4    1.0              0.0  \n",
      "Jalisco                31.5    4.1              1.9  \n",
      "Michoacán              23.7    3.5              2.8  \n",
      "Morelos                23.2    0.9              0.9  \n",
      "Nayarit                19.0    3.8              0.0  \n",
      "Nuevo León             34.1    0.0              0.6  \n",
      "Oaxaca                 20.0    3.3              2.7  \n",
      "Puebla                 27.6    2.2              1.0  \n",
      "Querétaro              27.1    6.1              1.1  \n",
      "Quintana Roo           41.2    1.5              0.0  \n",
      "San Luis Potosí        37.5    0.0              0.0  \n",
      "Sinaloa                35.1    2.3              1.1  \n",
      "Sonora                 41.1    1.7              0.4  \n",
      "Tabasco                32.9    5.1              0.0  \n",
      "Tamaulipas             23.2    3.7              0.9  \n",
      "Tlaxcala               10.3   12.8              7.7  \n",
      "Veracruz               29.5    2.3              0.0  \n",
      "Yucatán                29.7    1.4              2.7  \n",
      "Zacatecas              23.4    2.0              0.3  \n"
     ]
    }
   ],
   "source": [
    "import pandas as pd\n",
    "import numpy as np\n",
    "import re\n",
    "from tqdm import tqdm\n",
    "import os\n",
    "from sentence_transformers import SentenceTransformer, util\n",
    "import torch\n",
    "from dotenv import load_dotenv\n",
    "from mongo_wrapper.mongo_wrapper import MongoWrapper\n",
    "\n",
    "# states to categorize\n",
    "STATES = [\n",
    "    \"Guanajuato\",\n",
    "    \"Michoacán\",\n",
    "    \"Sinaloa\",\n",
    "    \"Chihuahua\",\n",
    "    \"Guerrero\",\n",
    "    \"Tamaulipas\",\n",
    "    \"Baja California\",\n",
    "    \"Zacatecas\",\n",
    "    \"Colima\",\n",
    "    \"Jalisco\",\n",
    "    \"Aguascalientes\",\n",
    "    \"Baja California Sur\",\n",
    "    \"Campeche\",\n",
    "    \"Coahuila\",\n",
    "    \"Durango\",\n",
    "    \"Hidalgo\",\n",
    "    \"Estado de México\",\n",
    "    \"Ciudad de México\",\n",
    "    \"Morelos\",\n",
    "    \"Nayarit\",\n",
    "    \"Nuevo León\",\n",
    "    \"Oaxaca\",\n",
    "    \"Puebla\",\n",
    "    \"Querétaro\",\n",
    "    \"Quintana Roo\",\n",
    "    \"San Luis Potosí\",\n",
    "    \"Sonora\",\n",
    "    \"Tabasco\",\n",
    "    \"Tlaxcala\",\n",
    "    \"Veracruz\",\n",
    "    \"Yucatán\",\n",
    "    \"Chiapas\"]\n",
    "\n",
    "\n",
    "# channels to analyze \n",
    "TARGET_CHANNELS = [\n",
    "    \"elpaismexico\",\n",
    "    \"ElUniversalOnline\",\n",
    "    \"proceso_unofficial\",\n",
    "    \"politicomx\",\n",
    "    \"lajornada_unofficial\",\n",
    "    \"larazondemexico\",\n",
    "    \"sinembargomx\",\n",
    "    \"elpaisamerica\"]\n",
    "\n",
    "# define dimensions of poverty \n",
    "POVERTY_DIMENSIONS = {\n",
    "    \"INCOME\": \"\"\"\n",
    "    desempleo, sueldo mínimo, salario bajo, deudas, pobreza, falta de chamba, \n",
    "    pérdida de empleo, no hay trabajo, sin chamba, jobless, salario miserable, \n",
    "    jodido, quedarse sin trabajo, sin dinero, poco dinero, ingreso insuficiente, \n",
    "    no alcanza, dinero no alcanza, trabajo mal pagado, subempleo, bajos ingresos, \n",
    "    vivir al día, sustento familiar, ganar poco, sin ahorros, trabajo informal, \n",
    "    trabajo precario, dificultad para pagar \n",
    "    \"\"\",\n",
    "\n",
    "    \"ACCESS TO HEALTH SERVICES\": \"\"\"\n",
    "    sin medicinas, hospital lejano, sin seguro, mala atención, enfermedad crónica, \n",
    "    rechazado, sin tratamiento, medicinas caras, sin doctores, seguro médico, \n",
    "    sistema de salud deficiente, falta de médicos, hospitales saturados, \n",
    "    emergencias médicas, clínicas rurales, falta de especialistas, citas médicas, \n",
    "    tratamientos costosos, sin acceso a medicamentos, sin posibilidad de tratamiento, \n",
    "    colapso hospitalario, saturación médica, falta de camas, desabastecimiento de medicinas,\n",
    "    atención médica, falta de atención, salud pública, servicio médico malo, \n",
    "    no hay doctores, no hay medicina, atención deficiente, centro de salud cerrado, \n",
    "    consultorio cerrado, urgencias sin cupo, hospital sin personal, médicos ausentes, \n",
    "    morir esperando, negligencia médica, hospital sin insumos, no hay ambulancias\n",
    "    \"\"\",\n",
    "\n",
    "    \"EDUCATIONAL_LAG\": \"\"\"\n",
    "    sin escuela, analfabetismo, deserción, escuela lejana, sin útiles, ausentismo, \n",
    "    sin maestros, rezago escolar, bachillerato incompleto, primaria incompleta, \n",
    "    baja escolaridad, educación deficiente, escuelas sin recursos, sin materiales escolares, \n",
    "    fracaso escolar, repetir curso, escuelas rurales, transporte escolar, sin computadoras, \n",
    "    sin internet, brecha digital, sin educación, alfabetización, estudiantes vulnerables,\n",
    "    no puede estudiar, abandono escolar, escuela cerrada, maestros faltantes, \n",
    "    escuela sin luz, escuela sin agua, escuela insegura, clases suspendidas, \n",
    "    educación interrumpida, niños sin clases, jóvenes sin estudio, no hay educación, \n",
    "    falta de acceso a la educación, no terminé la escuela, no pude estudiar\n",
    "    \"\"\",\n",
    "\n",
    "    \"ACCESS TO SOCIAL SECURITY\": \"\"\"\n",
    "    sin contrato, economía informal, sin pensión, sin derechos, sin ahorro, \n",
    "    sin prestaciones, desprotección, trabajo ilegal, sin seguro, IMSS, \n",
    "    informal job, desprotección social, trabajo sin contrato, empleo informal, \n",
    "    sin cotizar, sin jubilación, sistema de pensiones, derechos laborales, \n",
    "    protección laboral, trabajo en negro, trabajo sin seguridad social, \n",
    "    precariedad laboral, aportes sociales, trabajadores vulnerables\n",
    "    \"\"\",\n",
    "    \n",
    "    \"HOUSING\": \"\"\"\n",
    "    vivienda precaria, sin techo, casa insegura, sin baño, techos de lámina, cuartos de cartón, \n",
    "    viviendas improvisadas, viviendas informales, vivienda inadecuada, vivienda indigna,\n",
    "    barrios marginales, asentamientos irregulares, colonias populares, \n",
    "    terrenos irregulares, viviendas sin servicios básicos, casas abandonadas, \n",
    "    desalojos forzosos, ocupación ilegal, chabolas, tugurios, slum, bad housing\n",
    "    \"\"\",\n",
    "\n",
    "    \"ACCESS TO FOOD\": \"\"\"\n",
    "    hambre, desnutrición, comida escasa, sin alimentos, comida cara, ayuda alimentaria, \n",
    "    dieta pobre, inseguridad alimentaria, canasta básica, acceso a alimentos, nutrición infantil,\n",
    "    desnutrición crónica, malnutrición, hambruna, bancos de alimentos, comedores sociales,\n",
    "    comedores populares, comedores comunitarios, programas alimentarios, despensas,\n",
    "    ayuda alimenticia, costo de alimentos, suministro de alimentos, canasta alimentaria,\n",
    "    seguridad alimentaria, crisis alimentaria, hambre infantil, falta de comida,\n",
    "    no hay comida, no alcanza para comer, solo arroz y frijoles, sin cena, sin desayuno,\n",
    "    comer una vez al día, raciones reducidas, niños con hambre, pasar hambre, \n",
    "    no puedo comprar comida, sobrevivir con poco, falta de leche, comida vencida,\n",
    "    comida donada, filas por comida, buscar comida en la basura, mendigar comida,\n",
    "    pedir comida, trueque por comida, robar por hambre, sin acceso a comida nutritiva\n",
    "    \"\"\",\n",
    "\n",
    "    \"SOCIAL_COHESION\": \"\"\"\n",
    "    exclusión social, discriminación, conflicto, desconfianza, marginalización, \n",
    "    estigmatización, segregación, grupos vulnerables, minorías, sentido de comunidad, \n",
    "    cohesión comunitaria, aislamiento social, marginación, racismo, clasismo, xenofobia, \n",
    "    discriminación étnica, discriminación racial, pueblos indígenas, afrodescendientes, \n",
    "    migrantes, desplazados, refugiados\n",
    "    \"\"\"}\n",
    "\n",
    "\n",
    "class PovertyDimensionClassifier:\n",
    "    def __init__(self):\n",
    "        # sentence embedding\n",
    "        self.model = SentenceTransformer('hiiamsid/sentence_similarity_spanish_es')\n",
    "        \n",
    "        # create embeddings for poverty dimensions\n",
    "        self.dimension_names = list(POVERTY_DIMENSIONS.keys())\n",
    "        self.dimension_embeddings = self.model.encode(list(POVERTY_DIMENSIONS.values()), convert_to_tensor=True)\n",
    "    \n",
    "    def clean_text(self, text):\n",
    "        if not isinstance(text, str):\n",
    "            return \"\"\n",
    "        text = re.sub(r'<.*?>', ' ', text)\n",
    "        text = re.sub(r'http\\S+', '', text)\n",
    "        text = re.sub(r'[^\\w\\sáéíóúüñÁÉÍÓÚÜÑ]', ' ', text)\n",
    "        return re.sub(r'\\s+', ' ', text).strip().lower()\n",
    "    \n",
    "    # classify the text into a poverty dimension using sentence embeddings\n",
    "    def classify_text(self, text, threshold=0.10):\n",
    "        if not text:\n",
    "            return None, 0.0\n",
    "        \n",
    "        cleaned_text = self.clean_text(text)\n",
    "        if len(cleaned_text) < 10:  # avoid too short texts\n",
    "            return None, 0.0\n",
    "        \n",
    "        text_embedding = self.model.encode(cleaned_text, convert_to_tensor=True)\n",
    "        \n",
    "        # compute cosine similarity\n",
    "        cosine_scores = util.cos_sim(text_embedding, self.dimension_embeddings)[0]\n",
    "        \n",
    "        # find dimension with highest similarity \n",
    "        max_idx = torch.argmax(cosine_scores).item()\n",
    "        max_score = cosine_scores[max_idx].item()\n",
    "        if max_score >= threshold:\n",
    "            return self.dimension_names[max_idx], max_score\n",
    "        else:\n",
    "            return None, max_score\n",
    "\n",
    "# load only data of interest from MongoDB\n",
    "def load_state_posts():\n",
    "    \n",
    "    MONGO_IP = os.getenv(\"MONGO_IP\")\n",
    "    MONGO_PORT = os.getenv(\"MONGO_PORT\")\n",
    "    MONGO_DB = os.getenv(\"MONGO_DB\")\n",
    "    MONGO_USERNAME = os.getenv(\"MONGO_USERNAME\")\n",
    "    MONGO_PASSWORD = os.getenv(\"MONGO_PASSWORD\")\n",
    "    \n",
    "    mongo_client = MongoWrapper(\n",
    "        db=MONGO_DB,\n",
    "        user=MONGO_USERNAME,\n",
    "        password=MONGO_PASSWORD,\n",
    "        ip=MONGO_IP,\n",
    "        port=MONGO_PORT)\n",
    "    \n",
    "    all_channels = mongo_client.get_all_collections()\n",
    "    available_target_channels = [channel for channel in TARGET_CHANNELS if channel in all_channels]\n",
    "    \n",
    "    # initialize a dictionary to store posts for each state\n",
    "    state_posts = {state: [] for state in STATES}\n",
    "    \n",
    "    # classify posts by using regex patterns - if a post contains a state name, it will be classified as that state\n",
    "    state_patterns = {state: re.compile(r'\\b' + re.escape(state) + r'\\b', re.IGNORECASE) for state in STATES}\n",
    "    \n",
    "    for channel in tqdm(available_target_channels, desc=\"loading channels\"):\n",
    "        posts = mongo_client.get_collection_entries(collection=channel)\n",
    "        \n",
    "        print(f\"channel: {channel} - {len(posts)} post found\")\n",
    "        \n",
    "        for post in tqdm(posts, desc=f\"analysis {channel}\", leave=False):\n",
    "            post_text = post.get('text', '')\n",
    "                \n",
    "            for state, pattern in state_patterns.items():\n",
    "                if pattern.search(post_text):\n",
    "                    state_posts[state].append({\n",
    "                        'text': post_text,\n",
    "                        'author': post.get('author', ''),\n",
    "                        'posting_ts': post.get('posting_ts', ''),\n",
    "                        'channel': channel})\n",
    "    \n",
    "    for state in STATES:\n",
    "        state_posts[state] = pd.DataFrame(state_posts[state])\n",
    "    \n",
    "    return state_posts\n",
    "\n",
    "# classify posts by dimensions of poverty \n",
    "def analyze_poverty_dimensions(state_posts):\n",
    "    classifier = PovertyDimensionClassifier()\n",
    "    \n",
    "    results = []\n",
    "\n",
    "    for state, df in state_posts.items():\n",
    "        print(f\"\\nanalyzing {state} ({len(df)} posts)...\")\n",
    "    \n",
    "        dimension_counts = {dim: 0 for dim in POVERTY_DIMENSIONS.keys()}\n",
    "        dimension_counts[\"OTHER\"] = 0  # other types of posts \n",
    "    \n",
    "        for idx, row in tqdm(df.iterrows(), total=len(df), desc=f\"Classifying {state}\"):\n",
    "            text = row['text']\n",
    "        \n",
    "            dimension, score = classifier.classify_text(text)\n",
    "        \n",
    "            if dimension:\n",
    "                dimension_counts[dimension] += 1\n",
    "            else:\n",
    "                dimension_counts[\"OTHER\"] += 1\n",
    "        \n",
    "        total_posts = len(df)\n",
    "        dimension_percentages = {dim: (count / total_posts) * 100 for dim, count in dimension_counts.items()}\n",
    "        \n",
    "        print(f\"\\nresults for {state}:\")\n",
    "        print(f\"total posts: {total_posts}\")\n",
    "        print(\"\\ndistribution of posts across dimensions of poverty:\")\n",
    "        \n",
    "        for dim, count in dimension_counts.items():\n",
    "            dim_name = dim if dim != \"OTHER\" else \"non-poverty posts\"\n",
    "            pct = dimension_percentages[dim]\n",
    "            print(f\"- {dim_name}: {count} post ({pct:.1f}%)\")\n",
    "        \n",
    "        for dim in list(POVERTY_DIMENSIONS.keys()) + [\"OTHER\"]:\n",
    "            results.append({\n",
    "                'state': state,\n",
    "                'dimension': dim,\n",
    "                'count': dimension_counts[dim],\n",
    "                'percentage': dimension_percentages[dim],\n",
    "                'total_posts': total_posts})\n",
    "    \n",
    "    results_df = pd.DataFrame(results)\n",
    "    return results_df\n",
    "\n",
    "def main():\n",
    "    state_posts = load_state_posts()\n",
    "    \n",
    "    results = analyze_poverty_dimensions(state_posts)\n",
    "    \n",
    "    results.to_csv(\"telegram_results2.csv\", index=False)\n",
    "    \n",
    "    pivot_counts = results.pivot(index='state', columns='dimension', values='count')\n",
    "    print(\"\\ncount of posts per dimension:\")\n",
    "    print(pivot_counts)\n",
    "    \n",
    "    pivot_percentages = results.pivot(index='state', columns='dimension', values='percentage')\n",
    "    print(\"\\npercentage of posts per dimension:\")\n",
    "    print(pivot_percentages.round(1))\n",
    "\n",
    "if __name__ == \"__main__\":\n",
    "    main()"
   ]
  }
 ],
 "metadata": {
  "kernelspec": {
   "display_name": "new",
   "language": "python",
   "name": "python3"
  },
  "language_info": {
   "codemirror_mode": {
    "name": "ipython",
    "version": 3
   },
   "file_extension": ".py",
   "mimetype": "text/x-python",
   "name": "python",
   "nbconvert_exporter": "python",
   "pygments_lexer": "ipython3",
   "version": "3.10.9"
  }
 },
 "nbformat": 4,
 "nbformat_minor": 2
}
