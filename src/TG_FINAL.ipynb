{
 "cells": [
  {
   "cell_type": "markdown",
   "metadata": {},
   "source": [
    "# Telegram Analysis for Multidimensional Poverty Classification in Mexico\n",
    "\n",
    "This notebook implements a text classification system to analyze Telegram posts from Mexican news channels and categorize their content according to the seven dimensions of multidimensional poverty we are considering. The dimensions of poverty we consider are those identified by CONEVAL (Consejo Nacional de Evaluación de la Política de Desarrollo Social), with some minor modifications. \n",
    "\n",
    "Precisely, we consider:\n",
    "   - **Income**: Employment, wages, economic instability\n",
    "   - **Access to Health Services**: Healthcare availability, medical infrastructure\n",
    "   - **Educational Lag**: School dropout, educational access, academic delays\n",
    "   - **Access to Social Security**: Labor protection, social benefits, pension systems\n",
    "   - **Housing**: Living conditions, basic services, housing quality\n",
    "   - **Access to Food**: Food security, nutrition, food prices\n",
    "   - **Social Cohesion**: Discrimination, social exclusion, community tensions\n",
    "\n",
    "## Methodology Implemented\n",
    "\n",
    "The analysis follows these key steps:\n",
    "\n",
    "1. **Data Collection**: Extract posts from 10 major Mexican news channels on Telegram for a given year,\n",
    "2. **Geographic Classification**: Assign posts to Mexican states based on textual mentions of state names,\n",
    "3. **Poverty Dimension Classification**: Use sentence embeddings and cosine similarity to classify posts into the corresponding dimension,\n",
    "4. **Output Generation**: Produce counts and percentages of posts per poverty dimension for each of the 32 Mexican states.\n",
    "\n",
    "## Technical Approach\n",
    "\n",
    "### Text Preprocessing \n",
    "\n",
    "- **HTML/Markup Removal**: Strip HTML tags and web links from Telegram posts\n",
    "- **Character Normalization**: Keep only letters, numbers, and Spanish accented characters\n",
    "- **Whitespace Normalization**: Clean extra spaces and convert to lowercase\n",
    "- **Length Filtering**: Exclude very short texts (< 10 characters)\n",
    "\n",
    "### Embeddings and Classification\n",
    "\n",
    "We used the pre-trained model `hiiamsid/sentence_similarity_spanish_es`, which is a sentence transformer suited for Spanish language. This model converts each text (both posts and poverty dimension definitions) into a 768-dimensional numerical vector that captures the semantic meaning of the text, so similar concepts have similar vector representations. \n",
    "\n",
    "So we create embeddings for each of the 7 poverty dimension definition and for each Telegram post, and we compute cosine similarity between the post embedding and each dimension embedding. After, each post is assigned to the dimension with highest similarity score, but only if the score exceeds 0.10 threshold. If a post does not meet this requirement, it falls into the 'other' category, meaning that the post is not talking about any of the poverty dimension. \n",
    "\n",
    "We believe this approach is adapt to our classification task since considers the full context of the text, not just individual words (like as simple word matching would do). Also, having the 0.10 threshold ensures we only classify posts that are actually related to poverty topics, avoiding missclassifications due to pure noise. \n",
    "\n",
    "### Geographic Classification\n",
    "\n",
    "We use regex to find exact state name mentions in post text, and so to assign posts to their state. Posts mentioning multiple states are counted for each mentioned state.\n",
    "\n",
    "### Extracted Components \n",
    "\n",
    "The final output provides quantitative measures of how frequently each poverty dimension is discussed in relation to each Mexican state, serving as a real-time indicator for multidimensional poverty analysis."
   ]
  },
  {
   "cell_type": "code",
   "execution_count": null,
   "metadata": {},
   "outputs": [],
   "source": [
    "# load necessary libraries\n",
    "import pandas as pd\n",
    "import numpy as np\n",
    "import re\n",
    "from tqdm import tqdm\n",
    "import os\n",
    "from sentence_transformers import SentenceTransformer, util\n",
    "import torch\n",
    "from dotenv import load_dotenv\n",
    "from mongo_wrapper.mongo_wrapper import MongoWrapper\n",
    "load_dotenv()"
   ]
  },
  {
   "cell_type": "code",
   "execution_count": 2,
   "metadata": {},
   "outputs": [],
   "source": [
    "# define states to categorize\n",
    "STATES = [\n",
    "    \"Aguascalientes\", \"Baja California\", \"Baja California Sur\", \"Campeche\", \"Chiapas\", \"Chihuahua\",\n",
    "    \"Ciudad de México\", \"Coahuila\", \"Colima\", \"Durango\", \"Estado de México\", \"Guanajuato\", \n",
    "    \"Guerrero\", \"Hidalgo\", \"Jalisco\", \"Michoacán\", \"Morelos\", \"Nayarit\", \"Nuevo León\", \"Oaxaca\", \n",
    "    \"Puebla\", \"Querétaro\", \"Quintana Roo\", \"San Luis Potosí\", \"Sinaloa\", \"Sonora\", \"Tabasco\", \n",
    "    \"Tamaulipas\", \"Tlaxcala\", \"Veracruz\", \"Yucatán\", \"Zacatecas\"]"
   ]
  },
  {
   "cell_type": "code",
   "execution_count": 3,
   "metadata": {},
   "outputs": [],
   "source": [
    "# channels to analyze - these are the channels that have been previosly scraped and stored in Mongo database \n",
    "# the collecctions name is the channel name and the year of the scrape\n",
    "TARGET_CHANNELS = [\n",
    "    \"elpaismexico_2020\",\n",
    "    \"ElUniversalOnline_2020\",\n",
    "    \"proceso_unofficial_2020\",\n",
    "    \"politicomx_2020\",\n",
    "    \"lajornada_unofficial_2020\",\n",
    "    \"larazondemexico_2020\",\n",
    "    \"sinembargomx_2020\",\n",
    "    \"elpaisamerica_2020\",\n",
    "    \"animalpolitico_2020\",\n",
    "    \"ElEconomista_MTY_2020\"]"
   ]
  },
  {
   "cell_type": "markdown",
   "metadata": {},
   "source": [
    "We start by definying the seven poverty dimensions using carefully selected Spanish keywords and phrases that capture the linguistic patterns associated with discussions about each particular aspect of poverty. These serve as semantic anchors for the classification algorithm.\n",
    "Given the nature of the data we are analyzing, we maintained formal journalistic jargon, including only standard words and phrases in Spanish rather than colloquial expressions.\n",
    "\n",
    "We extensively worked on building these lists, as initially some dimensions were overrepresented while others were underrepresented. We found that in some cases (for example, the housing dimension) it was optimal to include fewer words, as otherwise an unrealistic percentage of posts would fall into this dimension.\n",
    "\n",
    "Through different analyses, we discovered that dimensions need to be handled differently, in the sense that some are easier to capture linguistically while others prove more challenging. Regardless of the specific analysis conducted, a crucial component is properly defining these word lists, since they largely determine the quality of the classification results."
   ]
  },
  {
   "cell_type": "code",
   "execution_count": 4,
   "metadata": {},
   "outputs": [],
   "source": [
    "# define dimensions of poverty \n",
    "POVERTY_DIMENSIONS = {\n",
    "    \"INCOME\": \"\"\"\n",
    "    desempleo salario mínimo bajos ingresos deudas familiares pobreza laboral\n",
    "    pérdida de empleo ingreso insuficiente precariedad laboral empleo informal\n",
    "    falta de oportunidades laborales reducción de salario inestabilidad económica\n",
    "    recesión subempleo despidos masivos contratos temporales informalidad\n",
    "    costos de vida elevados falta de empleo formal insuficiencia salarial\n",
    "    \"\"\",\n",
    "\n",
    "    \"ACCESS TO HEALTH SERVICES\": \"\"\"\n",
    "    falta de acceso a servicios de salud hospitales saturados escasez de medicamentos \n",
    "    deficiencias en la atención médica carencia de personal médico emergencia sanitaria\n",
    "    costos elevados de tratamientos cierre de centros de salud lista de espera prolongada\n",
    "    equipos médicos inoperantes desabasto de vacunas falta de atención especializada\n",
    "    \"\"\",\n",
    "\n",
    "    \"EDUCATIONAL_LAG\": \"\"\"\n",
    "    deserción escolar suspensión de clases carencia de docentes  \n",
    "    dificultades de acceso a la educación educación interrumpida rezago académico \n",
    "    falta de recursos escolares acceso desigual a la educación deficiencias en formación \n",
    "    básica carencia de materiales educativos \n",
    "    \"\"\",\n",
    "\n",
    "    \"ACCESS TO SOCIAL SECURITY\": \"\"\"\n",
    "    empleo informal ausencia de prestaciones sociales falta de contrato laboral \n",
    "    exclusión del sistema de pensiones carencia de protección social trabajo precario \n",
    "    derechos laborales no garantizados falta de cotización al sistema desprotección estructural\n",
    "    dificultades para acceder al seguro social informalidad laboral empleo sin afiliación\n",
    "    \"\"\",\n",
    "\n",
    "    \"HOUSING\": \"\"\"\n",
    "    vivienda precaria hacinamiento falta de servicios básicos \n",
    "    infraestructura deteriorada zonas marginadas viviendas inseguras\n",
    "    \"\"\",\n",
    "    \n",
    "    \"ACCESS TO FOOD\": \"\"\"\n",
    "    inseguridad alimentaria acceso limitado a alimentos inflación precios\n",
    "    raciones insuficientes pobreza alimentaria aumento de precios comeder comunitario\n",
    "    canasta básica crisis alimentaria comida pobre ayuda alimentaria \n",
    "    insuficiencia nutricional alimentación deficiente encarecimiento de alimentos\n",
    "    inflación en alimentos carencia alimentaria productos básicos banco de alimentos\n",
    "    alimentos inaccesibles gasto alimentario elevado programas alimentarios\n",
    "    \"\"\",\n",
    "\n",
    "    \"SOCIAL_COHESION\": \"\"\"\n",
    "    discriminación étnica marginación social exclusión comunidades vulnerables\n",
    "    conflictos intercomunitarios tensiones sociales barreras sociales \n",
    "    desigualdad aislamiento social\n",
    "    \"\"\"}"
   ]
  },
  {
   "cell_type": "markdown",
   "metadata": {},
   "source": [
    "The `PovertyDimensionClassifier` class implements the core classification task through three steps:\n",
    "\n",
    "**Initialization:**\n",
    "- Loads a Spanish-optimized sentence transformer model (`hiiamsid/sentence_similarity_spanish_es`)\n",
    "- Precomputes embeddings for all seven poverty dimension definitions\n",
    "- Represents each poverty concept in a 768-dimensional vector space\n",
    "\n",
    "**Text Preprocessing:**\n",
    "- Removes HTML tags, URLs, and special characters\n",
    "- Converts to lowercase and normalize whitespaces\n",
    "- Filters out posts shorter than 10 characters \n",
    "\n",
    "**Classification Process:**\n",
    "- Converts cleaned text into a 768-dimensional embedding vector \n",
    "- Computes cosine similarity between the post embedding and each pre-computed dimension embedding\n",
    "- Selects the dimension with highest similarity score\n",
    "- Applies a 0.10 threshold to only classify posts with meaningful semantic overlap, and so to reduce the false positives \n",
    "- Classifies posts below the threshold as unrelated to poverty topics, falling into the 'other' category"
   ]
  },
  {
   "cell_type": "code",
   "execution_count": 5,
   "metadata": {},
   "outputs": [],
   "source": [
    "# initialize the classifier with Spanish sentence embeddings model and precompute embeddings for all poverty dimensions\n",
    "class PovertyDimensionClassifier:\n",
    "    def __init__(self):\n",
    "        # load Spanish sentence transformer model optimized for semantic similarity\n",
    "        self.model = SentenceTransformer('hiiamsid/sentence_similarity_spanish_es')\n",
    "        \n",
    "        # store dimension names for easy reference\n",
    "        self.dimension_names = list(POVERTY_DIMENSIONS.keys())\n",
    "        \n",
    "        # precompute embeddings for all poverty dimension descriptions\n",
    "        self.dimension_embeddings = self.model.encode(\n",
    "            list(POVERTY_DIMENSIONS.values()), \n",
    "            convert_to_tensor=True)\n",
    "    \n",
    "    # clean and preprocess text for better embedding quality\n",
    "    def clean_text(self, text):\n",
    "        if not isinstance(text, str):\n",
    "            return \"\"\n",
    "        \n",
    "        # remove HTML tags that might appear in Telegram posts\n",
    "        text = re.sub(r'<.*?>', ' ', text)\n",
    "        \n",
    "        # remove URLs and links\n",
    "        text = re.sub(r'http\\S+', '', text)\n",
    "        \n",
    "        # keep only alphanumeric characters and Spanish accented letters\n",
    "        text = re.sub(r'[^\\w\\sáéíóúüñÁÉÍÓÚÜÑ]', ' ', text)\n",
    "        \n",
    "        # normalize whitespace and convert to lowercase\n",
    "        return re.sub(r'\\s+', ' ', text).strip().lower()\n",
    "    \n",
    "    # classify text into poverty dimensions using semantic similarity\n",
    "    def classify_text(self, text, threshold=0.10):\n",
    "        if not text:\n",
    "            return None, 0.0\n",
    "        \n",
    "        # clean the input text\n",
    "        cleaned_text = self.clean_text(text)\n",
    "        \n",
    "        # skip very short texts as they might lack semantic content\n",
    "        if len(cleaned_text) < 10:\n",
    "            return None, 0.0\n",
    "        \n",
    "        # generate embedding for the input text\n",
    "        text_embedding = self.model.encode(cleaned_text, convert_to_tensor=True)\n",
    "        \n",
    "        # compute cosine similarity between text and all poverty dimensions\n",
    "        cosine_scores = util.cos_sim(text_embedding, self.dimension_embeddings)[0]\n",
    "        \n",
    "        # find the dimension with highest similarity score\n",
    "        max_idx = torch.argmax(cosine_scores).item()\n",
    "        max_score = cosine_scores[max_idx].item()\n",
    "        \n",
    "        # classify into one of the dimension only if similarity exceeds threshold\n",
    "        if max_score >= threshold:\n",
    "            return self.dimension_names[max_idx], max_score\n",
    "        else:\n",
    "            return None, max_score"
   ]
  },
  {
   "cell_type": "markdown",
   "metadata": {},
   "source": [
    "This function handles the data extraction and geographic classification pipeline:\n",
    "\n",
    "- **Database Connection:** Connects to MongoDB and filter from all available collections only those of interest (i.e., target channels and year)\n",
    "\n",
    "- **Geographic Classification:** Creates regex patterns, with word boundaries (`\\b`) to prevent partial matches, to classify posts depending on the State they talk about. \n",
    "\n",
    "**Pipeline and Output:**\n",
    "- Iterates through each channel\n",
    "- Retrieves all posts from MongoDB collections\n",
    "- Searches each post for state name mentions using regex patterns\n",
    "- Stores posts for each mentioned state\n",
    "- Returns dictionary with state names as keys\n",
    "- Each value is a DataFrame containing posts mentioning that state\n",
    "- Single posts can appear in multiple states if they mention multiple locations"
   ]
  },
  {
   "cell_type": "code",
   "execution_count": 6,
   "metadata": {},
   "outputs": [],
   "source": [
    "# load Telegram posts from MongoDB and classify them by Mexican states\n",
    "def load_state_posts():\n",
    "    # connect to MongoDB\n",
    "    mongo_client = MongoWrapper(\n",
    "        db=os.getenv(\"MONGO_DB\"),\n",
    "        user=os.getenv(\"MONGO_USERNAME\"),\n",
    "        password=os.getenv(\"MONGO_PASSWORD\"),\n",
    "        ip=os.getenv(\"MONGO_IP\"),\n",
    "        port=os.getenv(\"MONGO_PORT\"))\n",
    "    \n",
    "    # get all available collections and filter for those of interest\n",
    "    all_channels = mongo_client.get_all_collections()\n",
    "    available_target_channels = [\n",
    "        channel for channel in TARGET_CHANNELS \n",
    "        if channel in all_channels]\n",
    "    \n",
    "    # initialize dictionary to store posts categorized by state\n",
    "    state_posts = {state: [] for state in STATES}\n",
    "    \n",
    "    # create regex patterns for each state to identify mentions in posts - match complete state names, not partial matches\n",
    "    state_patterns = {\n",
    "        state: re.compile(r'\\b' + re.escape(state) + r'\\b', re.IGNORECASE) \n",
    "        for state in STATES}\n",
    "    \n",
    "    # process each available target channel\n",
    "    for channel in tqdm(available_target_channels, desc=\"Loading channels\"):\n",
    "        # retrieve all posts from the current channel\n",
    "        posts = mongo_client.get_collection_entries(collection=channel)\n",
    "        print(f\"Channel: {channel} - {len(posts)} posts found\")\n",
    "        # process each post in the channel\n",
    "        for post in tqdm(posts, desc=f\"Analyzing {channel}\", leave=False):\n",
    "            post_text = post.get('text', '')\n",
    "            # check if post mentions any of the Mexican states   \n",
    "            for state, pattern in state_patterns.items():\n",
    "                if pattern.search(post_text):\n",
    "                    # store post if state is mentioned\n",
    "                    state_posts[state].append(post_text)  \n",
    "    \n",
    "    # convert to df \n",
    "    for state in STATES:\n",
    "        if state_posts[state]:\n",
    "            state_posts[state] = pd.DataFrame(state_posts[state], columns=['text'])\n",
    "        else:\n",
    "            state_posts[state] = pd.DataFrame(columns=['text'])\n",
    "    \n",
    "    return state_posts"
   ]
  },
  {
   "cell_type": "markdown",
   "metadata": {},
   "source": [
    "This function classifies posts into multidimensional poverty categories, across Mexican states. \n",
    "\n",
    "- The process begins by initializing the classifier to processe posts on a state-by-state basis, classifying each one according to its semantic similarity to predefined poverty dimension categories. As said before, posts having a similarity score lower than 0.10 are labeled as \"other\".\n",
    "\n",
    "- As it runs, the function tracks the number of posts classified under each dimension, to calculate both the absolute counts and the percentage distribution of posts across dimensions.\n",
    "\n",
    "- The output is a dataframe, where each row corresponds to a single poverty dimension for a given state. It includes the number of matching posts, their percentage share, and the total number of posts analyzed. "
   ]
  },
  {
   "cell_type": "code",
   "execution_count": 7,
   "metadata": {},
   "outputs": [],
   "source": [
    "# analyze all posts for each state and classify them into poverty dimensions\n",
    "def analyze_poverty_dimensions(state_posts):\n",
    "    # initialize the classifier\n",
    "    classifier = PovertyDimensionClassifier()\n",
    "    \n",
    "    # store results for all states and dimensions\n",
    "    results = []\n",
    "\n",
    "    # process each state individually\n",
    "    for state, df in state_posts.items():\n",
    "        print(f\"\\nAnalyzing {state} ({len(df)} posts)...\")\n",
    "    \n",
    "        # initialize counters for each poverty dimension plus the \"other\" category - fallback for posts not related to \n",
    "        # any dimension or posts that do not exceed the threshold\n",
    "        dimension_counts = {dim: 0 for dim in POVERTY_DIMENSIONS.keys()}\n",
    "        dimension_counts[\"OTHER\"] = 0  \n",
    "    \n",
    "        # classify each post in the current state\n",
    "        for idx, row in tqdm(df.iterrows(), total=len(df), desc=f\"Classifying {state}\"):\n",
    "            text = row['text']\n",
    "        \n",
    "            # get classification result from the classifier\n",
    "            dimension, score = classifier.classify_text(text)\n",
    "        \n",
    "            # increment counter for the identified dimension or \"other\"\n",
    "            if dimension:\n",
    "                dimension_counts[dimension] += 1\n",
    "            else:\n",
    "                dimension_counts[\"OTHER\"] += 1\n",
    "        \n",
    "        # calculate statistics and print statistics\n",
    "        total_posts = len(df)\n",
    "        dimension_percentages = {\n",
    "            dim: (count / total_posts) * 100 \n",
    "            for dim, count in dimension_counts.items()}\n",
    "        print(f\"\\nResults for {state}:\")\n",
    "        print(f\"Total posts: {total_posts}\")\n",
    "        print(\"\\nDistribution of posts across poverty dimensions:\")\n",
    "        \n",
    "        for dim, count in dimension_counts.items():\n",
    "            dim_name = dim if dim != \"OTHER\" else \"Non-poverty posts\"\n",
    "            pct = dimension_percentages[dim]\n",
    "            print(f\"- {dim_name}: {count} posts ({pct:.1f}%)\")\n",
    "        \n",
    "        # store results \n",
    "        for dim in list(POVERTY_DIMENSIONS.keys()) + [\"OTHER\"]:\n",
    "            results.append({\n",
    "                'state': state,\n",
    "                'dimension': dim,\n",
    "                'count': dimension_counts[dim],\n",
    "                'percentage': dimension_percentages[dim],\n",
    "                'total_posts': total_posts})\n",
    "    \n",
    "    # convert to df \n",
    "    results_df = pd.DataFrame(results)\n",
    "    return results_df"
   ]
  },
  {
   "cell_type": "code",
   "execution_count": null,
   "metadata": {},
   "outputs": [
    {
     "name": "stderr",
     "output_type": "stream",
     "text": [
      "2025-05-29 18:18:04,647 WARNING Logger Mongo was configured with True console stream\n",
      "2025-05-29 18:18:04,987 INFO Connected to thesis database on 206.81.16.39\n",
      "Loading channels:   0%|          | 0/10 [00:00<?, ?it/s]"
     ]
    },
    {
     "name": "stdout",
     "output_type": "stream",
     "text": [
      "Channel: elpaismexico_2020 - 0 posts found\n"
     ]
    },
    {
     "name": "stderr",
     "output_type": "stream",
     "text": []
    },
    {
     "name": "stdout",
     "output_type": "stream",
     "text": [
      "Channel: ElUniversalOnline_2020 - 1424 posts found\n"
     ]
    },
    {
     "name": "stderr",
     "output_type": "stream",
     "text": [
      "Loading channels:  20%|██        | 2/10 [00:01<00:04,  1.64it/s]"
     ]
    },
    {
     "name": "stdout",
     "output_type": "stream",
     "text": [
      "Channel: proceso_unofficial_2020 - 0 posts found\n"
     ]
    },
    {
     "name": "stderr",
     "output_type": "stream",
     "text": []
    },
    {
     "name": "stdout",
     "output_type": "stream",
     "text": [
      "Channel: politicomx_2020 - 1312 posts found\n"
     ]
    },
    {
     "name": "stderr",
     "output_type": "stream",
     "text": [
      "Loading channels:  40%|████      | 4/10 [00:01<00:02,  2.88it/s]"
     ]
    },
    {
     "name": "stdout",
     "output_type": "stream",
     "text": [
      "Channel: lajornada_unofficial_2020 - 0 posts found\n"
     ]
    },
    {
     "name": "stderr",
     "output_type": "stream",
     "text": []
    },
    {
     "name": "stdout",
     "output_type": "stream",
     "text": [
      "Channel: larazondemexico_2020 - 2324 posts found\n"
     ]
    },
    {
     "name": "stderr",
     "output_type": "stream",
     "text": [
      "Loading channels:  60%|██████    | 6/10 [00:02<00:01,  2.45it/s]"
     ]
    },
    {
     "name": "stdout",
     "output_type": "stream",
     "text": [
      "Channel: sinembargomx_2020 - 5576 posts found\n"
     ]
    },
    {
     "name": "stderr",
     "output_type": "stream",
     "text": [
      "Loading channels:  70%|███████   | 7/10 [00:03<00:01,  2.02it/s]"
     ]
    },
    {
     "name": "stdout",
     "output_type": "stream",
     "text": [
      "Channel: elpaisamerica_2020 - 0 posts found\n"
     ]
    },
    {
     "name": "stderr",
     "output_type": "stream",
     "text": []
    },
    {
     "name": "stdout",
     "output_type": "stream",
     "text": [
      "Channel: animalpolitico_2020 - 799 posts found\n"
     ]
    },
    {
     "name": "stderr",
     "output_type": "stream",
     "text": [
      "Loading channels:  90%|█████████ | 9/10 [00:03<00:00,  2.50it/s]"
     ]
    },
    {
     "name": "stdout",
     "output_type": "stream",
     "text": [
      "Channel: ElEconomista_MTY_2020 - 3287 posts found\n"
     ]
    },
    {
     "name": "stderr",
     "output_type": "stream",
     "text": [
      "Loading channels: 100%|██████████| 10/10 [00:04<00:00,  2.21it/s]\n",
      "/Users/noemilucchi/miniforge3/envs/new/lib/python3.10/site-packages/huggingface_hub/file_download.py:896: FutureWarning: `resume_download` is deprecated and will be removed in version 1.0.0. Downloads always resume when possible. If you want to force a new download, use `force_download=True`.\n",
      "  warnings.warn(\n"
     ]
    },
    {
     "name": "stdout",
     "output_type": "stream",
     "text": [
      "\n",
      "Analyzing Aguascalientes (19 posts)...\n"
     ]
    },
    {
     "name": "stderr",
     "output_type": "stream",
     "text": [
      "Classifying Aguascalientes: 100%|██████████| 19/19 [00:02<00:00,  8.17it/s]\n"
     ]
    },
    {
     "name": "stdout",
     "output_type": "stream",
     "text": [
      "\n",
      "Results for Aguascalientes:\n",
      "Total posts: 19\n",
      "\n",
      "Distribution of posts across poverty dimensions:\n",
      "- INCOME: 4 posts (21.1%)\n",
      "- ACCESS TO HEALTH SERVICES: 5 posts (26.3%)\n",
      "- EDUCATIONAL_LAG: 2 posts (10.5%)\n",
      "- ACCESS TO SOCIAL SECURITY: 7 posts (36.8%)\n",
      "- HOUSING: 0 posts (0.0%)\n",
      "- ACCESS TO FOOD: 0 posts (0.0%)\n",
      "- SOCIAL_COHESION: 0 posts (0.0%)\n",
      "- Non-poverty posts: 1 posts (5.3%)\n",
      "\n",
      "Analyzing Baja California (35 posts)...\n"
     ]
    },
    {
     "name": "stderr",
     "output_type": "stream",
     "text": [
      "Classifying Baja California: 100%|██████████| 35/35 [00:06<00:00,  5.12it/s]\n"
     ]
    },
    {
     "name": "stdout",
     "output_type": "stream",
     "text": [
      "\n",
      "Results for Baja California:\n",
      "Total posts: 35\n",
      "\n",
      "Distribution of posts across poverty dimensions:\n",
      "- INCOME: 8 posts (22.9%)\n",
      "- ACCESS TO HEALTH SERVICES: 13 posts (37.1%)\n",
      "- EDUCATIONAL_LAG: 0 posts (0.0%)\n",
      "- ACCESS TO SOCIAL SECURITY: 9 posts (25.7%)\n",
      "- HOUSING: 0 posts (0.0%)\n",
      "- ACCESS TO FOOD: 0 posts (0.0%)\n",
      "- SOCIAL_COHESION: 0 posts (0.0%)\n",
      "- Non-poverty posts: 5 posts (14.3%)\n",
      "\n",
      "Analyzing Baja California Sur (7 posts)...\n"
     ]
    },
    {
     "name": "stderr",
     "output_type": "stream",
     "text": [
      "Classifying Baja California Sur: 100%|██████████| 7/7 [00:00<00:00, 15.02it/s]\n"
     ]
    },
    {
     "name": "stdout",
     "output_type": "stream",
     "text": [
      "\n",
      "Results for Baja California Sur:\n",
      "Total posts: 7\n",
      "\n",
      "Distribution of posts across poverty dimensions:\n",
      "- INCOME: 0 posts (0.0%)\n",
      "- ACCESS TO HEALTH SERVICES: 4 posts (57.1%)\n",
      "- EDUCATIONAL_LAG: 0 posts (0.0%)\n",
      "- ACCESS TO SOCIAL SECURITY: 2 posts (28.6%)\n",
      "- HOUSING: 0 posts (0.0%)\n",
      "- ACCESS TO FOOD: 0 posts (0.0%)\n",
      "- SOCIAL_COHESION: 0 posts (0.0%)\n",
      "- Non-poverty posts: 1 posts (14.3%)\n",
      "\n",
      "Analyzing Campeche (45 posts)...\n"
     ]
    },
    {
     "name": "stderr",
     "output_type": "stream",
     "text": [
      "Classifying Campeche: 100%|██████████| 45/45 [00:04<00:00,  9.63it/s]\n"
     ]
    },
    {
     "name": "stdout",
     "output_type": "stream",
     "text": [
      "\n",
      "Results for Campeche:\n",
      "Total posts: 45\n",
      "\n",
      "Distribution of posts across poverty dimensions:\n",
      "- INCOME: 4 posts (8.9%)\n",
      "- ACCESS TO HEALTH SERVICES: 15 posts (33.3%)\n",
      "- EDUCATIONAL_LAG: 6 posts (13.3%)\n",
      "- ACCESS TO SOCIAL SECURITY: 11 posts (24.4%)\n",
      "- HOUSING: 0 posts (0.0%)\n",
      "- ACCESS TO FOOD: 2 posts (4.4%)\n",
      "- SOCIAL_COHESION: 0 posts (0.0%)\n",
      "- Non-poverty posts: 7 posts (15.6%)\n",
      "\n",
      "Analyzing Chiapas (94 posts)...\n"
     ]
    },
    {
     "name": "stderr",
     "output_type": "stream",
     "text": [
      "Classifying Chiapas: 100%|██████████| 94/94 [00:10<00:00,  8.60it/s]\n"
     ]
    },
    {
     "name": "stdout",
     "output_type": "stream",
     "text": [
      "\n",
      "Results for Chiapas:\n",
      "Total posts: 94\n",
      "\n",
      "Distribution of posts across poverty dimensions:\n",
      "- INCOME: 9 posts (9.6%)\n",
      "- ACCESS TO HEALTH SERVICES: 44 posts (46.8%)\n",
      "- EDUCATIONAL_LAG: 11 posts (11.7%)\n",
      "- ACCESS TO SOCIAL SECURITY: 19 posts (20.2%)\n",
      "- HOUSING: 1 posts (1.1%)\n",
      "- ACCESS TO FOOD: 6 posts (6.4%)\n",
      "- SOCIAL_COHESION: 1 posts (1.1%)\n",
      "- Non-poverty posts: 3 posts (3.2%)\n",
      "\n",
      "Analyzing Chihuahua (124 posts)...\n"
     ]
    },
    {
     "name": "stderr",
     "output_type": "stream",
     "text": [
      "Classifying Chihuahua: 100%|██████████| 124/124 [00:13<00:00,  9.04it/s]\n"
     ]
    },
    {
     "name": "stdout",
     "output_type": "stream",
     "text": [
      "\n",
      "Results for Chihuahua:\n",
      "Total posts: 124\n",
      "\n",
      "Distribution of posts across poverty dimensions:\n",
      "- INCOME: 16 posts (12.9%)\n",
      "- ACCESS TO HEALTH SERVICES: 42 posts (33.9%)\n",
      "- EDUCATIONAL_LAG: 7 posts (5.6%)\n",
      "- ACCESS TO SOCIAL SECURITY: 29 posts (23.4%)\n",
      "- HOUSING: 7 posts (5.6%)\n",
      "- ACCESS TO FOOD: 11 posts (8.9%)\n",
      "- SOCIAL_COHESION: 3 posts (2.4%)\n",
      "- Non-poverty posts: 9 posts (7.3%)\n",
      "\n",
      "Analyzing Ciudad de México (46 posts)...\n"
     ]
    },
    {
     "name": "stderr",
     "output_type": "stream",
     "text": [
      "Classifying Ciudad de México: 100%|██████████| 46/46 [00:08<00:00,  5.59it/s]\n"
     ]
    },
    {
     "name": "stdout",
     "output_type": "stream",
     "text": [
      "\n",
      "Results for Ciudad de México:\n",
      "Total posts: 46\n",
      "\n",
      "Distribution of posts across poverty dimensions:\n",
      "- INCOME: 12 posts (26.1%)\n",
      "- ACCESS TO HEALTH SERVICES: 19 posts (41.3%)\n",
      "- EDUCATIONAL_LAG: 2 posts (4.3%)\n",
      "- ACCESS TO SOCIAL SECURITY: 10 posts (21.7%)\n",
      "- HOUSING: 0 posts (0.0%)\n",
      "- ACCESS TO FOOD: 0 posts (0.0%)\n",
      "- SOCIAL_COHESION: 1 posts (2.2%)\n",
      "- Non-poverty posts: 2 posts (4.3%)\n",
      "\n",
      "Analyzing Coahuila (98 posts)...\n"
     ]
    },
    {
     "name": "stderr",
     "output_type": "stream",
     "text": [
      "Classifying Coahuila: 100%|██████████| 98/98 [00:09<00:00,  9.97it/s]\n"
     ]
    },
    {
     "name": "stdout",
     "output_type": "stream",
     "text": [
      "\n",
      "Results for Coahuila:\n",
      "Total posts: 98\n",
      "\n",
      "Distribution of posts across poverty dimensions:\n",
      "- INCOME: 13 posts (13.3%)\n",
      "- ACCESS TO HEALTH SERVICES: 37 posts (37.8%)\n",
      "- EDUCATIONAL_LAG: 5 posts (5.1%)\n",
      "- ACCESS TO SOCIAL SECURITY: 31 posts (31.6%)\n",
      "- HOUSING: 1 posts (1.0%)\n",
      "- ACCESS TO FOOD: 3 posts (3.1%)\n",
      "- SOCIAL_COHESION: 4 posts (4.1%)\n",
      "- Non-poverty posts: 4 posts (4.1%)\n",
      "\n",
      "Analyzing Colima (52 posts)...\n"
     ]
    },
    {
     "name": "stderr",
     "output_type": "stream",
     "text": [
      "Classifying Colima: 100%|██████████| 52/52 [00:05<00:00, 10.36it/s]\n"
     ]
    },
    {
     "name": "stdout",
     "output_type": "stream",
     "text": [
      "\n",
      "Results for Colima:\n",
      "Total posts: 52\n",
      "\n",
      "Distribution of posts across poverty dimensions:\n",
      "- INCOME: 11 posts (21.2%)\n",
      "- ACCESS TO HEALTH SERVICES: 19 posts (36.5%)\n",
      "- EDUCATIONAL_LAG: 0 posts (0.0%)\n",
      "- ACCESS TO SOCIAL SECURITY: 13 posts (25.0%)\n",
      "- HOUSING: 3 posts (5.8%)\n",
      "- ACCESS TO FOOD: 1 posts (1.9%)\n",
      "- SOCIAL_COHESION: 0 posts (0.0%)\n",
      "- Non-poverty posts: 5 posts (9.6%)\n",
      "\n",
      "Analyzing Durango (28 posts)...\n"
     ]
    },
    {
     "name": "stderr",
     "output_type": "stream",
     "text": [
      "Classifying Durango: 100%|██████████| 28/28 [00:03<00:00,  8.57it/s]\n"
     ]
    },
    {
     "name": "stdout",
     "output_type": "stream",
     "text": [
      "\n",
      "Results for Durango:\n",
      "Total posts: 28\n",
      "\n",
      "Distribution of posts across poverty dimensions:\n",
      "- INCOME: 8 posts (28.6%)\n",
      "- ACCESS TO HEALTH SERVICES: 10 posts (35.7%)\n",
      "- EDUCATIONAL_LAG: 3 posts (10.7%)\n",
      "- ACCESS TO SOCIAL SECURITY: 6 posts (21.4%)\n",
      "- HOUSING: 1 posts (3.6%)\n",
      "- ACCESS TO FOOD: 0 posts (0.0%)\n",
      "- SOCIAL_COHESION: 0 posts (0.0%)\n",
      "- Non-poverty posts: 0 posts (0.0%)\n",
      "\n",
      "Analyzing Estado de México (9 posts)...\n"
     ]
    },
    {
     "name": "stderr",
     "output_type": "stream",
     "text": [
      "Classifying Estado de México: 100%|██████████| 9/9 [00:00<00:00, 14.70it/s]\n"
     ]
    },
    {
     "name": "stdout",
     "output_type": "stream",
     "text": [
      "\n",
      "Results for Estado de México:\n",
      "Total posts: 9\n",
      "\n",
      "Distribution of posts across poverty dimensions:\n",
      "- INCOME: 2 posts (22.2%)\n",
      "- ACCESS TO HEALTH SERVICES: 4 posts (44.4%)\n",
      "- EDUCATIONAL_LAG: 0 posts (0.0%)\n",
      "- ACCESS TO SOCIAL SECURITY: 0 posts (0.0%)\n",
      "- HOUSING: 0 posts (0.0%)\n",
      "- ACCESS TO FOOD: 0 posts (0.0%)\n",
      "- SOCIAL_COHESION: 0 posts (0.0%)\n",
      "- Non-poverty posts: 3 posts (33.3%)\n",
      "\n",
      "Analyzing Guanajuato (205 posts)...\n"
     ]
    },
    {
     "name": "stderr",
     "output_type": "stream",
     "text": [
      "Classifying Guanajuato: 100%|██████████| 205/205 [00:14<00:00, 13.78it/s]\n"
     ]
    },
    {
     "name": "stdout",
     "output_type": "stream",
     "text": [
      "\n",
      "Results for Guanajuato:\n",
      "Total posts: 205\n",
      "\n",
      "Distribution of posts across poverty dimensions:\n",
      "- INCOME: 42 posts (20.5%)\n",
      "- ACCESS TO HEALTH SERVICES: 58 posts (28.3%)\n",
      "- EDUCATIONAL_LAG: 12 posts (5.9%)\n",
      "- ACCESS TO SOCIAL SECURITY: 56 posts (27.3%)\n",
      "- HOUSING: 11 posts (5.4%)\n",
      "- ACCESS TO FOOD: 4 posts (2.0%)\n",
      "- SOCIAL_COHESION: 2 posts (1.0%)\n",
      "- Non-poverty posts: 20 posts (9.8%)\n",
      "\n",
      "Analyzing Guerrero (103 posts)...\n"
     ]
    },
    {
     "name": "stderr",
     "output_type": "stream",
     "text": [
      "Classifying Guerrero: 100%|██████████| 103/103 [00:07<00:00, 14.32it/s]\n"
     ]
    },
    {
     "name": "stdout",
     "output_type": "stream",
     "text": [
      "\n",
      "Results for Guerrero:\n",
      "Total posts: 103\n",
      "\n",
      "Distribution of posts across poverty dimensions:\n",
      "- INCOME: 20 posts (19.4%)\n",
      "- ACCESS TO HEALTH SERVICES: 31 posts (30.1%)\n",
      "- EDUCATIONAL_LAG: 6 posts (5.8%)\n",
      "- ACCESS TO SOCIAL SECURITY: 31 posts (30.1%)\n",
      "- HOUSING: 8 posts (7.8%)\n",
      "- ACCESS TO FOOD: 1 posts (1.0%)\n",
      "- SOCIAL_COHESION: 1 posts (1.0%)\n",
      "- Non-poverty posts: 5 posts (4.9%)\n",
      "\n",
      "Analyzing Hidalgo (106 posts)...\n"
     ]
    },
    {
     "name": "stderr",
     "output_type": "stream",
     "text": [
      "Classifying Hidalgo: 100%|██████████| 106/106 [00:09<00:00, 11.68it/s]\n"
     ]
    },
    {
     "name": "stdout",
     "output_type": "stream",
     "text": [
      "\n",
      "Results for Hidalgo:\n",
      "Total posts: 106\n",
      "\n",
      "Distribution of posts across poverty dimensions:\n",
      "- INCOME: 14 posts (13.2%)\n",
      "- ACCESS TO HEALTH SERVICES: 30 posts (28.3%)\n",
      "- EDUCATIONAL_LAG: 1 posts (0.9%)\n",
      "- ACCESS TO SOCIAL SECURITY: 47 posts (44.3%)\n",
      "- HOUSING: 3 posts (2.8%)\n",
      "- ACCESS TO FOOD: 2 posts (1.9%)\n",
      "- SOCIAL_COHESION: 5 posts (4.7%)\n",
      "- Non-poverty posts: 4 posts (3.8%)\n",
      "\n",
      "Analyzing Jalisco (193 posts)...\n"
     ]
    },
    {
     "name": "stderr",
     "output_type": "stream",
     "text": [
      "Classifying Jalisco: 100%|██████████| 193/193 [00:14<00:00, 13.42it/s]\n"
     ]
    },
    {
     "name": "stdout",
     "output_type": "stream",
     "text": [
      "\n",
      "Results for Jalisco:\n",
      "Total posts: 193\n",
      "\n",
      "Distribution of posts across poverty dimensions:\n",
      "- INCOME: 48 posts (24.9%)\n",
      "- ACCESS TO HEALTH SERVICES: 82 posts (42.5%)\n",
      "- EDUCATIONAL_LAG: 8 posts (4.1%)\n",
      "- ACCESS TO SOCIAL SECURITY: 36 posts (18.7%)\n",
      "- HOUSING: 9 posts (4.7%)\n",
      "- ACCESS TO FOOD: 2 posts (1.0%)\n",
      "- SOCIAL_COHESION: 3 posts (1.6%)\n",
      "- Non-poverty posts: 5 posts (2.6%)\n",
      "\n",
      "Analyzing Michoacán (75 posts)...\n"
     ]
    },
    {
     "name": "stderr",
     "output_type": "stream",
     "text": [
      "Classifying Michoacán: 100%|██████████| 75/75 [00:04<00:00, 18.15it/s]\n"
     ]
    },
    {
     "name": "stdout",
     "output_type": "stream",
     "text": [
      "\n",
      "Results for Michoacán:\n",
      "Total posts: 75\n",
      "\n",
      "Distribution of posts across poverty dimensions:\n",
      "- INCOME: 17 posts (22.7%)\n",
      "- ACCESS TO HEALTH SERVICES: 30 posts (40.0%)\n",
      "- EDUCATIONAL_LAG: 5 posts (6.7%)\n",
      "- ACCESS TO SOCIAL SECURITY: 16 posts (21.3%)\n",
      "- HOUSING: 2 posts (2.7%)\n",
      "- ACCESS TO FOOD: 0 posts (0.0%)\n",
      "- SOCIAL_COHESION: 0 posts (0.0%)\n",
      "- Non-poverty posts: 5 posts (6.7%)\n",
      "\n",
      "Analyzing Morelos (76 posts)...\n"
     ]
    },
    {
     "name": "stderr",
     "output_type": "stream",
     "text": [
      "Classifying Morelos: 100%|██████████| 76/76 [00:03<00:00, 19.17it/s]\n"
     ]
    },
    {
     "name": "stdout",
     "output_type": "stream",
     "text": [
      "\n",
      "Results for Morelos:\n",
      "Total posts: 76\n",
      "\n",
      "Distribution of posts across poverty dimensions:\n",
      "- INCOME: 9 posts (11.8%)\n",
      "- ACCESS TO HEALTH SERVICES: 31 posts (40.8%)\n",
      "- EDUCATIONAL_LAG: 0 posts (0.0%)\n",
      "- ACCESS TO SOCIAL SECURITY: 26 posts (34.2%)\n",
      "- HOUSING: 3 posts (3.9%)\n",
      "- ACCESS TO FOOD: 0 posts (0.0%)\n",
      "- SOCIAL_COHESION: 3 posts (3.9%)\n",
      "- Non-poverty posts: 4 posts (5.3%)\n",
      "\n",
      "Analyzing Nayarit (30 posts)...\n"
     ]
    },
    {
     "name": "stderr",
     "output_type": "stream",
     "text": [
      "Classifying Nayarit: 100%|██████████| 30/30 [00:01<00:00, 19.52it/s]\n"
     ]
    },
    {
     "name": "stdout",
     "output_type": "stream",
     "text": [
      "\n",
      "Results for Nayarit:\n",
      "Total posts: 30\n",
      "\n",
      "Distribution of posts across poverty dimensions:\n",
      "- INCOME: 1 posts (3.3%)\n",
      "- ACCESS TO HEALTH SERVICES: 13 posts (43.3%)\n",
      "- EDUCATIONAL_LAG: 0 posts (0.0%)\n",
      "- ACCESS TO SOCIAL SECURITY: 10 posts (33.3%)\n",
      "- HOUSING: 2 posts (6.7%)\n",
      "- ACCESS TO FOOD: 0 posts (0.0%)\n",
      "- SOCIAL_COHESION: 0 posts (0.0%)\n",
      "- Non-poverty posts: 4 posts (13.3%)\n",
      "\n",
      "Analyzing Nuevo León (73 posts)...\n"
     ]
    },
    {
     "name": "stderr",
     "output_type": "stream",
     "text": [
      "Classifying Nuevo León: 100%|██████████| 73/73 [00:03<00:00, 19.67it/s]\n"
     ]
    },
    {
     "name": "stdout",
     "output_type": "stream",
     "text": [
      "\n",
      "Results for Nuevo León:\n",
      "Total posts: 73\n",
      "\n",
      "Distribution of posts across poverty dimensions:\n",
      "- INCOME: 15 posts (20.5%)\n",
      "- ACCESS TO HEALTH SERVICES: 38 posts (52.1%)\n",
      "- EDUCATIONAL_LAG: 1 posts (1.4%)\n",
      "- ACCESS TO SOCIAL SECURITY: 16 posts (21.9%)\n",
      "- HOUSING: 0 posts (0.0%)\n",
      "- ACCESS TO FOOD: 1 posts (1.4%)\n",
      "- SOCIAL_COHESION: 1 posts (1.4%)\n",
      "- Non-poverty posts: 1 posts (1.4%)\n",
      "\n",
      "Analyzing Oaxaca (130 posts)...\n"
     ]
    },
    {
     "name": "stderr",
     "output_type": "stream",
     "text": [
      "Classifying Oaxaca: 100%|██████████| 130/130 [00:07<00:00, 17.67it/s]\n"
     ]
    },
    {
     "name": "stdout",
     "output_type": "stream",
     "text": [
      "\n",
      "Results for Oaxaca:\n",
      "Total posts: 130\n",
      "\n",
      "Distribution of posts across poverty dimensions:\n",
      "- INCOME: 24 posts (18.5%)\n",
      "- ACCESS TO HEALTH SERVICES: 65 posts (50.0%)\n",
      "- EDUCATIONAL_LAG: 6 posts (4.6%)\n",
      "- ACCESS TO SOCIAL SECURITY: 26 posts (20.0%)\n",
      "- HOUSING: 3 posts (2.3%)\n",
      "- ACCESS TO FOOD: 2 posts (1.5%)\n",
      "- SOCIAL_COHESION: 1 posts (0.8%)\n",
      "- Non-poverty posts: 3 posts (2.3%)\n",
      "\n",
      "Analyzing Puebla (146 posts)...\n"
     ]
    },
    {
     "name": "stderr",
     "output_type": "stream",
     "text": [
      "Classifying Puebla: 100%|██████████| 146/146 [00:06<00:00, 21.11it/s]\n"
     ]
    },
    {
     "name": "stdout",
     "output_type": "stream",
     "text": [
      "\n",
      "Results for Puebla:\n",
      "Total posts: 146\n",
      "\n",
      "Distribution of posts across poverty dimensions:\n",
      "- INCOME: 25 posts (17.1%)\n",
      "- ACCESS TO HEALTH SERVICES: 49 posts (33.6%)\n",
      "- EDUCATIONAL_LAG: 12 posts (8.2%)\n",
      "- ACCESS TO SOCIAL SECURITY: 34 posts (23.3%)\n",
      "- HOUSING: 15 posts (10.3%)\n",
      "- ACCESS TO FOOD: 2 posts (1.4%)\n",
      "- SOCIAL_COHESION: 7 posts (4.8%)\n",
      "- Non-poverty posts: 2 posts (1.4%)\n",
      "\n",
      "Analyzing Querétaro (91 posts)...\n"
     ]
    },
    {
     "name": "stderr",
     "output_type": "stream",
     "text": [
      "Classifying Querétaro: 100%|██████████| 91/91 [00:04<00:00, 20.80it/s]\n"
     ]
    },
    {
     "name": "stdout",
     "output_type": "stream",
     "text": [
      "\n",
      "Results for Querétaro:\n",
      "Total posts: 91\n",
      "\n",
      "Distribution of posts across poverty dimensions:\n",
      "- INCOME: 27 posts (29.7%)\n",
      "- ACCESS TO HEALTH SERVICES: 25 posts (27.5%)\n",
      "- EDUCATIONAL_LAG: 2 posts (2.2%)\n",
      "- ACCESS TO SOCIAL SECURITY: 37 posts (40.7%)\n",
      "- HOUSING: 0 posts (0.0%)\n",
      "- ACCESS TO FOOD: 0 posts (0.0%)\n",
      "- SOCIAL_COHESION: 0 posts (0.0%)\n",
      "- Non-poverty posts: 0 posts (0.0%)\n",
      "\n",
      "Analyzing Quintana Roo (34 posts)...\n"
     ]
    },
    {
     "name": "stderr",
     "output_type": "stream",
     "text": [
      "Classifying Quintana Roo: 100%|██████████| 34/34 [00:02<00:00, 12.55it/s]\n"
     ]
    },
    {
     "name": "stdout",
     "output_type": "stream",
     "text": [
      "\n",
      "Results for Quintana Roo:\n",
      "Total posts: 34\n",
      "\n",
      "Distribution of posts across poverty dimensions:\n",
      "- INCOME: 10 posts (29.4%)\n",
      "- ACCESS TO HEALTH SERVICES: 13 posts (38.2%)\n",
      "- EDUCATIONAL_LAG: 0 posts (0.0%)\n",
      "- ACCESS TO SOCIAL SECURITY: 10 posts (29.4%)\n",
      "- HOUSING: 0 posts (0.0%)\n",
      "- ACCESS TO FOOD: 0 posts (0.0%)\n",
      "- SOCIAL_COHESION: 0 posts (0.0%)\n",
      "- Non-poverty posts: 1 posts (2.9%)\n",
      "\n",
      "Analyzing San Luis Potosí (6 posts)...\n"
     ]
    },
    {
     "name": "stderr",
     "output_type": "stream",
     "text": [
      "Classifying San Luis Potosí: 100%|██████████| 6/6 [00:00<00:00, 13.33it/s]\n"
     ]
    },
    {
     "name": "stdout",
     "output_type": "stream",
     "text": [
      "\n",
      "Results for San Luis Potosí:\n",
      "Total posts: 6\n",
      "\n",
      "Distribution of posts across poverty dimensions:\n",
      "- INCOME: 2 posts (33.3%)\n",
      "- ACCESS TO HEALTH SERVICES: 4 posts (66.7%)\n",
      "- EDUCATIONAL_LAG: 0 posts (0.0%)\n",
      "- ACCESS TO SOCIAL SECURITY: 0 posts (0.0%)\n",
      "- HOUSING: 0 posts (0.0%)\n",
      "- ACCESS TO FOOD: 0 posts (0.0%)\n",
      "- SOCIAL_COHESION: 0 posts (0.0%)\n",
      "- Non-poverty posts: 0 posts (0.0%)\n",
      "\n",
      "Analyzing Sinaloa (75 posts)...\n"
     ]
    },
    {
     "name": "stderr",
     "output_type": "stream",
     "text": [
      "Classifying Sinaloa: 100%|██████████| 75/75 [00:04<00:00, 18.07it/s]\n"
     ]
    },
    {
     "name": "stdout",
     "output_type": "stream",
     "text": [
      "\n",
      "Results for Sinaloa:\n",
      "Total posts: 75\n",
      "\n",
      "Distribution of posts across poverty dimensions:\n",
      "- INCOME: 14 posts (18.7%)\n",
      "- ACCESS TO HEALTH SERVICES: 28 posts (37.3%)\n",
      "- EDUCATIONAL_LAG: 1 posts (1.3%)\n",
      "- ACCESS TO SOCIAL SECURITY: 19 posts (25.3%)\n",
      "- HOUSING: 2 posts (2.7%)\n",
      "- ACCESS TO FOOD: 2 posts (2.7%)\n",
      "- SOCIAL_COHESION: 3 posts (4.0%)\n",
      "- Non-poverty posts: 6 posts (8.0%)\n",
      "\n",
      "Analyzing Sonora (74 posts)...\n"
     ]
    },
    {
     "name": "stderr",
     "output_type": "stream",
     "text": [
      "Classifying Sonora: 100%|██████████| 74/74 [00:04<00:00, 17.33it/s]\n"
     ]
    },
    {
     "name": "stdout",
     "output_type": "stream",
     "text": [
      "\n",
      "Results for Sonora:\n",
      "Total posts: 74\n",
      "\n",
      "Distribution of posts across poverty dimensions:\n",
      "- INCOME: 12 posts (16.2%)\n",
      "- ACCESS TO HEALTH SERVICES: 23 posts (31.1%)\n",
      "- EDUCATIONAL_LAG: 1 posts (1.4%)\n",
      "- ACCESS TO SOCIAL SECURITY: 28 posts (37.8%)\n",
      "- HOUSING: 4 posts (5.4%)\n",
      "- ACCESS TO FOOD: 0 posts (0.0%)\n",
      "- SOCIAL_COHESION: 3 posts (4.1%)\n",
      "- Non-poverty posts: 3 posts (4.1%)\n",
      "\n",
      "Analyzing Tabasco (134 posts)...\n"
     ]
    },
    {
     "name": "stderr",
     "output_type": "stream",
     "text": [
      "Classifying Tabasco: 100%|██████████| 134/134 [00:07<00:00, 17.06it/s]\n"
     ]
    },
    {
     "name": "stdout",
     "output_type": "stream",
     "text": [
      "\n",
      "Results for Tabasco:\n",
      "Total posts: 134\n",
      "\n",
      "Distribution of posts across poverty dimensions:\n",
      "- INCOME: 33 posts (24.6%)\n",
      "- ACCESS TO HEALTH SERVICES: 61 posts (45.5%)\n",
      "- EDUCATIONAL_LAG: 1 posts (0.7%)\n",
      "- ACCESS TO SOCIAL SECURITY: 26 posts (19.4%)\n",
      "- HOUSING: 3 posts (2.2%)\n",
      "- ACCESS TO FOOD: 6 posts (4.5%)\n",
      "- SOCIAL_COHESION: 0 posts (0.0%)\n",
      "- Non-poverty posts: 4 posts (3.0%)\n",
      "\n",
      "Analyzing Tamaulipas (73 posts)...\n"
     ]
    },
    {
     "name": "stderr",
     "output_type": "stream",
     "text": [
      "Classifying Tamaulipas: 100%|██████████| 73/73 [00:03<00:00, 19.20it/s]\n"
     ]
    },
    {
     "name": "stdout",
     "output_type": "stream",
     "text": [
      "\n",
      "Results for Tamaulipas:\n",
      "Total posts: 73\n",
      "\n",
      "Distribution of posts across poverty dimensions:\n",
      "- INCOME: 9 posts (12.3%)\n",
      "- ACCESS TO HEALTH SERVICES: 33 posts (45.2%)\n",
      "- EDUCATIONAL_LAG: 4 posts (5.5%)\n",
      "- ACCESS TO SOCIAL SECURITY: 19 posts (26.0%)\n",
      "- HOUSING: 0 posts (0.0%)\n",
      "- ACCESS TO FOOD: 5 posts (6.8%)\n",
      "- SOCIAL_COHESION: 1 posts (1.4%)\n",
      "- Non-poverty posts: 2 posts (2.7%)\n",
      "\n",
      "Analyzing Tlaxcala (28 posts)...\n"
     ]
    },
    {
     "name": "stderr",
     "output_type": "stream",
     "text": [
      "Classifying Tlaxcala: 100%|██████████| 28/28 [00:01<00:00, 20.37it/s]\n"
     ]
    },
    {
     "name": "stdout",
     "output_type": "stream",
     "text": [
      "\n",
      "Results for Tlaxcala:\n",
      "Total posts: 28\n",
      "\n",
      "Distribution of posts across poverty dimensions:\n",
      "- INCOME: 5 posts (17.9%)\n",
      "- ACCESS TO HEALTH SERVICES: 10 posts (35.7%)\n",
      "- EDUCATIONAL_LAG: 0 posts (0.0%)\n",
      "- ACCESS TO SOCIAL SECURITY: 12 posts (42.9%)\n",
      "- HOUSING: 0 posts (0.0%)\n",
      "- ACCESS TO FOOD: 0 posts (0.0%)\n",
      "- SOCIAL_COHESION: 1 posts (3.6%)\n",
      "- Non-poverty posts: 0 posts (0.0%)\n",
      "\n",
      "Analyzing Veracruz (110 posts)...\n"
     ]
    },
    {
     "name": "stderr",
     "output_type": "stream",
     "text": [
      "Classifying Veracruz: 100%|██████████| 110/110 [00:06<00:00, 18.27it/s]\n"
     ]
    },
    {
     "name": "stdout",
     "output_type": "stream",
     "text": [
      "\n",
      "Results for Veracruz:\n",
      "Total posts: 110\n",
      "\n",
      "Distribution of posts across poverty dimensions:\n",
      "- INCOME: 16 posts (14.5%)\n",
      "- ACCESS TO HEALTH SERVICES: 42 posts (38.2%)\n",
      "- EDUCATIONAL_LAG: 6 posts (5.5%)\n",
      "- ACCESS TO SOCIAL SECURITY: 36 posts (32.7%)\n",
      "- HOUSING: 4 posts (3.6%)\n",
      "- ACCESS TO FOOD: 3 posts (2.7%)\n",
      "- SOCIAL_COHESION: 1 posts (0.9%)\n",
      "- Non-poverty posts: 2 posts (1.8%)\n",
      "\n",
      "Analyzing Yucatán (58 posts)...\n"
     ]
    },
    {
     "name": "stderr",
     "output_type": "stream",
     "text": [
      "Classifying Yucatán: 100%|██████████| 58/58 [00:03<00:00, 16.72it/s]\n"
     ]
    },
    {
     "name": "stdout",
     "output_type": "stream",
     "text": [
      "\n",
      "Results for Yucatán:\n",
      "Total posts: 58\n",
      "\n",
      "Distribution of posts across poverty dimensions:\n",
      "- INCOME: 16 posts (27.6%)\n",
      "- ACCESS TO HEALTH SERVICES: 21 posts (36.2%)\n",
      "- EDUCATIONAL_LAG: 2 posts (3.4%)\n",
      "- ACCESS TO SOCIAL SECURITY: 16 posts (27.6%)\n",
      "- HOUSING: 1 posts (1.7%)\n",
      "- ACCESS TO FOOD: 1 posts (1.7%)\n",
      "- SOCIAL_COHESION: 0 posts (0.0%)\n",
      "- Non-poverty posts: 1 posts (1.7%)\n",
      "\n",
      "Analyzing Zacatecas (54 posts)...\n"
     ]
    },
    {
     "name": "stderr",
     "output_type": "stream",
     "text": [
      "Classifying Zacatecas: 100%|██████████| 54/54 [00:04<00:00, 13.21it/s]\n"
     ]
    },
    {
     "name": "stdout",
     "output_type": "stream",
     "text": [
      "\n",
      "Results for Zacatecas:\n",
      "Total posts: 54\n",
      "\n",
      "Distribution of posts across poverty dimensions:\n",
      "- INCOME: 12 posts (22.2%)\n",
      "- ACCESS TO HEALTH SERVICES: 18 posts (33.3%)\n",
      "- EDUCATIONAL_LAG: 6 posts (11.1%)\n",
      "- ACCESS TO SOCIAL SECURITY: 12 posts (22.2%)\n",
      "- HOUSING: 0 posts (0.0%)\n",
      "- ACCESS TO FOOD: 2 posts (3.7%)\n",
      "- SOCIAL_COHESION: 4 posts (7.4%)\n",
      "- Non-poverty posts: 0 posts (0.0%)\n"
     ]
    }
   ],
   "source": [
    "# main function that implements the whole pipeline\n",
    "def main():\n",
    "    # load and geographically classify posts from MongoDB\n",
    "    state_posts = load_state_posts()\n",
    "    \n",
    "    # analyze posts for poverty dimensions\n",
    "    results = analyze_poverty_dimensions(state_posts)\n",
    "    \n",
    "    # export results to CSV for further analysis\n",
    "    results.to_csv(\"tg_2020.csv\", index=False)\n",
    "\n",
    "if __name__ == \"__main__\":\n",
    "    main()"
   ]
  }
 ],
 "metadata": {
  "kernelspec": {
   "display_name": "new",
   "language": "python",
   "name": "python3"
  },
  "language_info": {
   "codemirror_mode": {
    "name": "ipython",
    "version": 3
   },
   "file_extension": ".py",
   "mimetype": "text/x-python",
   "name": "python",
   "nbconvert_exporter": "python",
   "pygments_lexer": "ipython3",
   "version": "3.10.9"
  }
 },
 "nbformat": 4,
 "nbformat_minor": 2
}
