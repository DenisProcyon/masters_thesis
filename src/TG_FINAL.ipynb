{
 "cells": [
  {
   "cell_type": "code",
   "execution_count": 1,
   "metadata": {},
   "outputs": [
    {
     "name": "stderr",
     "output_type": "stream",
     "text": [
      "2025-05-12 11:14:10,564 WARNING Logger Mongo was configured with True console stream\n",
      "2025-05-12 11:14:10,968 INFO Connected to thesis database on 206.81.16.39\n",
      "loading channels:   0%|          | 0/8 [00:00<?, ?it/s]"
     ]
    },
    {
     "name": "stdout",
     "output_type": "stream",
     "text": [
      "channel: elpaismexico - 1750 post found\n"
     ]
    },
    {
     "name": "stderr",
     "output_type": "stream",
     "text": [
      "loading channels:  12%|█▎        | 1/8 [00:00<00:04,  1.63it/s]"
     ]
    },
    {
     "name": "stdout",
     "output_type": "stream",
     "text": [
      "channel: ElUniversalOnline - 2435 post found\n"
     ]
    },
    {
     "name": "stderr",
     "output_type": "stream",
     "text": [
      "loading channels:  25%|██▌       | 2/8 [00:02<00:06,  1.13s/it]"
     ]
    },
    {
     "name": "stdout",
     "output_type": "stream",
     "text": [
      "channel: proceso_unofficial - 3141 post found\n"
     ]
    },
    {
     "name": "stderr",
     "output_type": "stream",
     "text": [
      "loading channels:  38%|███▊      | 3/8 [00:02<00:03,  1.37it/s]"
     ]
    },
    {
     "name": "stdout",
     "output_type": "stream",
     "text": [
      "channel: politicomx - 5103 post found\n"
     ]
    },
    {
     "name": "stderr",
     "output_type": "stream",
     "text": [
      "loading channels:  50%|█████     | 4/8 [00:02<00:02,  1.64it/s]"
     ]
    },
    {
     "name": "stdout",
     "output_type": "stream",
     "text": [
      "channel: lajornada_unofficial - 18673 post found\n"
     ]
    },
    {
     "name": "stderr",
     "output_type": "stream",
     "text": [
      "loading channels:  62%|██████▎   | 5/8 [00:03<00:02,  1.44it/s]"
     ]
    },
    {
     "name": "stdout",
     "output_type": "stream",
     "text": [
      "channel: larazondemexico - 4248 post found\n"
     ]
    },
    {
     "name": "stderr",
     "output_type": "stream",
     "text": [
      "loading channels:  75%|███████▌  | 6/8 [00:04<00:01,  1.32it/s]"
     ]
    },
    {
     "name": "stdout",
     "output_type": "stream",
     "text": [
      "channel: sinembargomx - 9525 post found\n"
     ]
    },
    {
     "name": "stderr",
     "output_type": "stream",
     "text": [
      "loading channels:  88%|████████▊ | 7/8 [00:05<00:00,  1.27it/s]"
     ]
    },
    {
     "name": "stdout",
     "output_type": "stream",
     "text": [
      "channel: elpaisamerica - 1411 post found\n"
     ]
    },
    {
     "name": "stderr",
     "output_type": "stream",
     "text": [
      "loading channels: 100%|██████████| 8/8 [00:05<00:00,  1.39it/s]\n",
      "/Users/noemilucchi/miniforge3/envs/new/lib/python3.10/site-packages/huggingface_hub/file_download.py:896: FutureWarning: `resume_download` is deprecated and will be removed in version 1.0.0. Downloads always resume when possible. If you want to force a new download, use `force_download=True`.\n",
      "  warnings.warn(\n"
     ]
    },
    {
     "name": "stdout",
     "output_type": "stream",
     "text": [
      "\n",
      "analyzing Guanajuato (219 posts)...\n"
     ]
    },
    {
     "name": "stderr",
     "output_type": "stream",
     "text": [
      "Classifying Guanajuato: 100%|██████████| 219/219 [00:23<00:00,  9.35it/s]\n"
     ]
    },
    {
     "name": "stdout",
     "output_type": "stream",
     "text": [
      "\n",
      "results for Guanajuato:\n",
      "total posts: 219\n",
      "\n",
      "distribution of posts across dimensions of poverty:\n",
      "- INCOME: 49 post (22.4%)\n",
      "- ACCESS TO HEALTH SERVICES: 46 post (21.0%)\n",
      "- EDUCATIONAL_LAG: 14 post (6.4%)\n",
      "- ACCESS TO SOCIAL SECURITY: 29 post (13.2%)\n",
      "- HOUSING: 31 post (14.2%)\n",
      "- ACCESS TO FOOD: 7 post (3.2%)\n",
      "- SOCIAL_COHESION: 13 post (5.9%)\n",
      "- non-poverty posts: 30 post (13.7%)\n",
      "\n",
      "analyzing Michoacán (317 posts)...\n"
     ]
    },
    {
     "name": "stderr",
     "output_type": "stream",
     "text": [
      "Classifying Michoacán: 100%|██████████| 317/317 [00:35<00:00,  8.95it/s]\n"
     ]
    },
    {
     "name": "stdout",
     "output_type": "stream",
     "text": [
      "\n",
      "results for Michoacán:\n",
      "total posts: 317\n",
      "\n",
      "distribution of posts across dimensions of poverty:\n",
      "- INCOME: 69 post (21.8%)\n",
      "- ACCESS TO HEALTH SERVICES: 66 post (20.8%)\n",
      "- EDUCATIONAL_LAG: 17 post (5.4%)\n",
      "- ACCESS TO SOCIAL SECURITY: 38 post (12.0%)\n",
      "- HOUSING: 51 post (16.1%)\n",
      "- ACCESS TO FOOD: 13 post (4.1%)\n",
      "- SOCIAL_COHESION: 34 post (10.7%)\n",
      "- non-poverty posts: 29 post (9.1%)\n",
      "\n",
      "analyzing Sinaloa (265 posts)...\n"
     ]
    },
    {
     "name": "stderr",
     "output_type": "stream",
     "text": [
      "Classifying Sinaloa: 100%|██████████| 265/265 [00:36<00:00,  7.26it/s]\n"
     ]
    },
    {
     "name": "stdout",
     "output_type": "stream",
     "text": [
      "\n",
      "results for Sinaloa:\n",
      "total posts: 265\n",
      "\n",
      "distribution of posts across dimensions of poverty:\n",
      "- INCOME: 57 post (21.5%)\n",
      "- ACCESS TO HEALTH SERVICES: 62 post (23.4%)\n",
      "- EDUCATIONAL_LAG: 11 post (4.2%)\n",
      "- ACCESS TO SOCIAL SECURITY: 57 post (21.5%)\n",
      "- HOUSING: 21 post (7.9%)\n",
      "- ACCESS TO FOOD: 17 post (6.4%)\n",
      "- SOCIAL_COHESION: 13 post (4.9%)\n",
      "- non-poverty posts: 27 post (10.2%)\n",
      "\n",
      "analyzing Chihuahua (230 posts)...\n"
     ]
    },
    {
     "name": "stderr",
     "output_type": "stream",
     "text": [
      "Classifying Chihuahua: 100%|██████████| 230/230 [00:30<00:00,  7.60it/s]\n"
     ]
    },
    {
     "name": "stdout",
     "output_type": "stream",
     "text": [
      "\n",
      "results for Chihuahua:\n",
      "total posts: 230\n",
      "\n",
      "distribution of posts across dimensions of poverty:\n",
      "- INCOME: 17 post (7.4%)\n",
      "- ACCESS TO HEALTH SERVICES: 47 post (20.4%)\n",
      "- EDUCATIONAL_LAG: 30 post (13.0%)\n",
      "- ACCESS TO SOCIAL SECURITY: 39 post (17.0%)\n",
      "- HOUSING: 34 post (14.8%)\n",
      "- ACCESS TO FOOD: 13 post (5.7%)\n",
      "- SOCIAL_COHESION: 18 post (7.8%)\n",
      "- non-poverty posts: 32 post (13.9%)\n",
      "\n",
      "analyzing Guerrero (343 posts)...\n"
     ]
    },
    {
     "name": "stderr",
     "output_type": "stream",
     "text": [
      "Classifying Guerrero: 100%|██████████| 343/343 [11:55<00:00,  2.09s/it]  \n"
     ]
    },
    {
     "name": "stdout",
     "output_type": "stream",
     "text": [
      "\n",
      "results for Guerrero:\n",
      "total posts: 343\n",
      "\n",
      "distribution of posts across dimensions of poverty:\n",
      "- INCOME: 80 post (23.3%)\n",
      "- ACCESS TO HEALTH SERVICES: 56 post (16.3%)\n",
      "- EDUCATIONAL_LAG: 20 post (5.8%)\n",
      "- ACCESS TO SOCIAL SECURITY: 57 post (16.6%)\n",
      "- HOUSING: 49 post (14.3%)\n",
      "- ACCESS TO FOOD: 9 post (2.6%)\n",
      "- SOCIAL_COHESION: 44 post (12.8%)\n",
      "- non-poverty posts: 28 post (8.2%)\n",
      "\n",
      "analyzing Tamaulipas (328 posts)...\n"
     ]
    },
    {
     "name": "stderr",
     "output_type": "stream",
     "text": [
      "Classifying Tamaulipas: 100%|██████████| 328/328 [00:38<00:00,  8.48it/s]\n"
     ]
    },
    {
     "name": "stdout",
     "output_type": "stream",
     "text": [
      "\n",
      "results for Tamaulipas:\n",
      "total posts: 328\n",
      "\n",
      "distribution of posts across dimensions of poverty:\n",
      "- INCOME: 68 post (20.7%)\n",
      "- ACCESS TO HEALTH SERVICES: 57 post (17.4%)\n",
      "- EDUCATIONAL_LAG: 9 post (2.7%)\n",
      "- ACCESS TO SOCIAL SECURITY: 55 post (16.8%)\n",
      "- HOUSING: 28 post (8.5%)\n",
      "- ACCESS TO FOOD: 14 post (4.3%)\n",
      "- SOCIAL_COHESION: 31 post (9.5%)\n",
      "- non-poverty posts: 66 post (20.1%)\n",
      "\n",
      "analyzing Baja California (72 posts)...\n"
     ]
    },
    {
     "name": "stderr",
     "output_type": "stream",
     "text": [
      "Classifying Baja California: 100%|██████████| 72/72 [00:03<00:00, 20.26it/s]\n"
     ]
    },
    {
     "name": "stdout",
     "output_type": "stream",
     "text": [
      "\n",
      "results for Baja California:\n",
      "total posts: 72\n",
      "\n",
      "distribution of posts across dimensions of poverty:\n",
      "- INCOME: 20 post (27.8%)\n",
      "- ACCESS TO HEALTH SERVICES: 25 post (34.7%)\n",
      "- EDUCATIONAL_LAG: 1 post (1.4%)\n",
      "- ACCESS TO SOCIAL SECURITY: 5 post (6.9%)\n",
      "- HOUSING: 10 post (13.9%)\n",
      "- ACCESS TO FOOD: 1 post (1.4%)\n",
      "- SOCIAL_COHESION: 3 post (4.2%)\n",
      "- non-poverty posts: 7 post (9.7%)\n",
      "\n",
      "analyzing Zacatecas (299 posts)...\n"
     ]
    },
    {
     "name": "stderr",
     "output_type": "stream",
     "text": [
      "Classifying Zacatecas: 100%|██████████| 299/299 [00:56<00:00,  5.31it/s]\n"
     ]
    },
    {
     "name": "stdout",
     "output_type": "stream",
     "text": [
      "\n",
      "results for Zacatecas:\n",
      "total posts: 299\n",
      "\n",
      "distribution of posts across dimensions of poverty:\n",
      "- INCOME: 69 post (23.1%)\n",
      "- ACCESS TO HEALTH SERVICES: 60 post (20.1%)\n",
      "- EDUCATIONAL_LAG: 25 post (8.4%)\n",
      "- ACCESS TO SOCIAL SECURITY: 26 post (8.7%)\n",
      "- HOUSING: 65 post (21.7%)\n",
      "- ACCESS TO FOOD: 10 post (3.3%)\n",
      "- SOCIAL_COHESION: 30 post (10.0%)\n",
      "- non-poverty posts: 14 post (4.7%)\n",
      "\n",
      "analyzing Colima (143 posts)...\n"
     ]
    },
    {
     "name": "stderr",
     "output_type": "stream",
     "text": [
      "Classifying Colima: 100%|██████████| 143/143 [00:07<00:00, 18.80it/s]\n"
     ]
    },
    {
     "name": "stdout",
     "output_type": "stream",
     "text": [
      "\n",
      "results for Colima:\n",
      "total posts: 143\n",
      "\n",
      "distribution of posts across dimensions of poverty:\n",
      "- INCOME: 31 post (21.7%)\n",
      "- ACCESS TO HEALTH SERVICES: 51 post (35.7%)\n",
      "- EDUCATIONAL_LAG: 9 post (6.3%)\n",
      "- ACCESS TO SOCIAL SECURITY: 10 post (7.0%)\n",
      "- HOUSING: 4 post (2.8%)\n",
      "- ACCESS TO FOOD: 10 post (7.0%)\n",
      "- SOCIAL_COHESION: 9 post (6.3%)\n",
      "- non-poverty posts: 19 post (13.3%)\n",
      "\n",
      "analyzing Jalisco (317 posts)...\n"
     ]
    },
    {
     "name": "stderr",
     "output_type": "stream",
     "text": [
      "Classifying Jalisco: 100%|██████████| 317/317 [00:28<00:00, 10.98it/s]\n"
     ]
    },
    {
     "name": "stdout",
     "output_type": "stream",
     "text": [
      "\n",
      "results for Jalisco:\n",
      "total posts: 317\n",
      "\n",
      "distribution of posts across dimensions of poverty:\n",
      "- INCOME: 91 post (28.7%)\n",
      "- ACCESS TO HEALTH SERVICES: 88 post (27.8%)\n",
      "- EDUCATIONAL_LAG: 17 post (5.4%)\n",
      "- ACCESS TO SOCIAL SECURITY: 33 post (10.4%)\n",
      "- HOUSING: 32 post (10.1%)\n",
      "- ACCESS TO FOOD: 10 post (3.2%)\n",
      "- SOCIAL_COHESION: 28 post (8.8%)\n",
      "- non-poverty posts: 18 post (5.7%)\n",
      "\n",
      "analyzing Aguascalientes (165 posts)...\n"
     ]
    },
    {
     "name": "stderr",
     "output_type": "stream",
     "text": [
      "Classifying Aguascalientes: 100%|██████████| 165/165 [00:15<00:00, 10.74it/s]\n"
     ]
    },
    {
     "name": "stdout",
     "output_type": "stream",
     "text": [
      "\n",
      "results for Aguascalientes:\n",
      "total posts: 165\n",
      "\n",
      "distribution of posts across dimensions of poverty:\n",
      "- INCOME: 29 post (17.6%)\n",
      "- ACCESS TO HEALTH SERVICES: 29 post (17.6%)\n",
      "- EDUCATIONAL_LAG: 5 post (3.0%)\n",
      "- ACCESS TO SOCIAL SECURITY: 30 post (18.2%)\n",
      "- HOUSING: 21 post (12.7%)\n",
      "- ACCESS TO FOOD: 12 post (7.3%)\n",
      "- SOCIAL_COHESION: 7 post (4.2%)\n",
      "- non-poverty posts: 32 post (19.4%)\n",
      "\n",
      "analyzing Baja California Sur (13 posts)...\n"
     ]
    },
    {
     "name": "stderr",
     "output_type": "stream",
     "text": [
      "Classifying Baja California Sur: 100%|██████████| 13/13 [00:00<00:00, 26.69it/s]\n"
     ]
    },
    {
     "name": "stdout",
     "output_type": "stream",
     "text": [
      "\n",
      "results for Baja California Sur:\n",
      "total posts: 13\n",
      "\n",
      "distribution of posts across dimensions of poverty:\n",
      "- INCOME: 4 post (30.8%)\n",
      "- ACCESS TO HEALTH SERVICES: 5 post (38.5%)\n",
      "- EDUCATIONAL_LAG: 0 post (0.0%)\n",
      "- ACCESS TO SOCIAL SECURITY: 1 post (7.7%)\n",
      "- HOUSING: 1 post (7.7%)\n",
      "- ACCESS TO FOOD: 1 post (7.7%)\n",
      "- SOCIAL_COHESION: 0 post (0.0%)\n",
      "- non-poverty posts: 1 post (7.7%)\n",
      "\n",
      "analyzing Campeche (81 posts)...\n"
     ]
    },
    {
     "name": "stderr",
     "output_type": "stream",
     "text": [
      "Classifying Campeche: 100%|██████████| 81/81 [00:09<00:00,  8.84it/s]\n"
     ]
    },
    {
     "name": "stdout",
     "output_type": "stream",
     "text": [
      "\n",
      "results for Campeche:\n",
      "total posts: 81\n",
      "\n",
      "distribution of posts across dimensions of poverty:\n",
      "- INCOME: 17 post (21.0%)\n",
      "- ACCESS TO HEALTH SERVICES: 16 post (19.8%)\n",
      "- EDUCATIONAL_LAG: 6 post (7.4%)\n",
      "- ACCESS TO SOCIAL SECURITY: 24 post (29.6%)\n",
      "- HOUSING: 9 post (11.1%)\n",
      "- ACCESS TO FOOD: 0 post (0.0%)\n",
      "- SOCIAL_COHESION: 4 post (4.9%)\n",
      "- non-poverty posts: 5 post (6.2%)\n",
      "\n",
      "analyzing Coahuila (396 posts)...\n"
     ]
    },
    {
     "name": "stderr",
     "output_type": "stream",
     "text": [
      "Classifying Coahuila: 100%|██████████| 396/396 [00:23<00:00, 16.93it/s]\n"
     ]
    },
    {
     "name": "stdout",
     "output_type": "stream",
     "text": [
      "\n",
      "results for Coahuila:\n",
      "total posts: 396\n",
      "\n",
      "distribution of posts across dimensions of poverty:\n",
      "- INCOME: 82 post (20.7%)\n",
      "- ACCESS TO HEALTH SERVICES: 43 post (10.9%)\n",
      "- EDUCATIONAL_LAG: 7 post (1.8%)\n",
      "- ACCESS TO SOCIAL SECURITY: 118 post (29.8%)\n",
      "- HOUSING: 23 post (5.8%)\n",
      "- ACCESS TO FOOD: 8 post (2.0%)\n",
      "- SOCIAL_COHESION: 63 post (15.9%)\n",
      "- non-poverty posts: 52 post (13.1%)\n",
      "\n",
      "analyzing Durango (184 posts)...\n"
     ]
    },
    {
     "name": "stderr",
     "output_type": "stream",
     "text": [
      "Classifying Durango: 100%|██████████| 184/184 [00:05<00:00, 30.81it/s]\n"
     ]
    },
    {
     "name": "stdout",
     "output_type": "stream",
     "text": [
      "\n",
      "results for Durango:\n",
      "total posts: 184\n",
      "\n",
      "distribution of posts across dimensions of poverty:\n",
      "- INCOME: 41 post (22.3%)\n",
      "- ACCESS TO HEALTH SERVICES: 42 post (22.8%)\n",
      "- EDUCATIONAL_LAG: 11 post (6.0%)\n",
      "- ACCESS TO SOCIAL SECURITY: 36 post (19.6%)\n",
      "- HOUSING: 14 post (7.6%)\n",
      "- ACCESS TO FOOD: 1 post (0.5%)\n",
      "- SOCIAL_COHESION: 15 post (8.2%)\n",
      "- non-poverty posts: 24 post (13.0%)\n",
      "\n",
      "analyzing Hidalgo (196 posts)...\n"
     ]
    },
    {
     "name": "stderr",
     "output_type": "stream",
     "text": [
      "Classifying Hidalgo: 100%|██████████| 196/196 [00:08<00:00, 22.24it/s]\n"
     ]
    },
    {
     "name": "stdout",
     "output_type": "stream",
     "text": [
      "\n",
      "results for Hidalgo:\n",
      "total posts: 196\n",
      "\n",
      "distribution of posts across dimensions of poverty:\n",
      "- INCOME: 51 post (26.0%)\n",
      "- ACCESS TO HEALTH SERVICES: 25 post (12.8%)\n",
      "- EDUCATIONAL_LAG: 7 post (3.6%)\n",
      "- ACCESS TO SOCIAL SECURITY: 48 post (24.5%)\n",
      "- HOUSING: 27 post (13.8%)\n",
      "- ACCESS TO FOOD: 1 post (0.5%)\n",
      "- SOCIAL_COHESION: 17 post (8.7%)\n",
      "- non-poverty posts: 20 post (10.2%)\n",
      "\n",
      "analyzing Estado de México (94 posts)...\n"
     ]
    },
    {
     "name": "stderr",
     "output_type": "stream",
     "text": [
      "Classifying Estado de México: 100%|██████████| 94/94 [00:06<00:00, 14.53it/s]\n"
     ]
    },
    {
     "name": "stdout",
     "output_type": "stream",
     "text": [
      "\n",
      "results for Estado de México:\n",
      "total posts: 94\n",
      "\n",
      "distribution of posts across dimensions of poverty:\n",
      "- INCOME: 26 post (27.7%)\n",
      "- ACCESS TO HEALTH SERVICES: 24 post (25.5%)\n",
      "- EDUCATIONAL_LAG: 1 post (1.1%)\n",
      "- ACCESS TO SOCIAL SECURITY: 11 post (11.7%)\n",
      "- HOUSING: 8 post (8.5%)\n",
      "- ACCESS TO FOOD: 2 post (2.1%)\n",
      "- SOCIAL_COHESION: 6 post (6.4%)\n",
      "- non-poverty posts: 16 post (17.0%)\n",
      "\n",
      "analyzing Ciudad de México (275 posts)...\n"
     ]
    },
    {
     "name": "stderr",
     "output_type": "stream",
     "text": [
      "Classifying Ciudad de México: 100%|██████████| 275/275 [00:14<00:00, 19.37it/s]\n"
     ]
    },
    {
     "name": "stdout",
     "output_type": "stream",
     "text": [
      "\n",
      "results for Ciudad de México:\n",
      "total posts: 275\n",
      "\n",
      "distribution of posts across dimensions of poverty:\n",
      "- INCOME: 55 post (20.0%)\n",
      "- ACCESS TO HEALTH SERVICES: 105 post (38.2%)\n",
      "- EDUCATIONAL_LAG: 9 post (3.3%)\n",
      "- ACCESS TO SOCIAL SECURITY: 21 post (7.6%)\n",
      "- HOUSING: 31 post (11.3%)\n",
      "- ACCESS TO FOOD: 1 post (0.4%)\n",
      "- SOCIAL_COHESION: 18 post (6.5%)\n",
      "- non-poverty posts: 35 post (12.7%)\n",
      "\n",
      "analyzing Morelos (228 posts)...\n"
     ]
    },
    {
     "name": "stderr",
     "output_type": "stream",
     "text": [
      "Classifying Morelos: 100%|██████████| 228/228 [00:17<00:00, 13.37it/s]\n"
     ]
    },
    {
     "name": "stdout",
     "output_type": "stream",
     "text": [
      "\n",
      "results for Morelos:\n",
      "total posts: 228\n",
      "\n",
      "distribution of posts across dimensions of poverty:\n",
      "- INCOME: 68 post (29.8%)\n",
      "- ACCESS TO HEALTH SERVICES: 40 post (17.5%)\n",
      "- EDUCATIONAL_LAG: 12 post (5.3%)\n",
      "- ACCESS TO SOCIAL SECURITY: 37 post (16.2%)\n",
      "- HOUSING: 22 post (9.6%)\n",
      "- ACCESS TO FOOD: 5 post (2.2%)\n",
      "- SOCIAL_COHESION: 25 post (11.0%)\n",
      "- non-poverty posts: 19 post (8.3%)\n",
      "\n",
      "analyzing Nayarit (79 posts)...\n"
     ]
    },
    {
     "name": "stderr",
     "output_type": "stream",
     "text": [
      "Classifying Nayarit: 100%|██████████| 79/79 [00:02<00:00, 26.79it/s]\n"
     ]
    },
    {
     "name": "stdout",
     "output_type": "stream",
     "text": [
      "\n",
      "results for Nayarit:\n",
      "total posts: 79\n",
      "\n",
      "distribution of posts across dimensions of poverty:\n",
      "- INCOME: 16 post (20.3%)\n",
      "- ACCESS TO HEALTH SERVICES: 36 post (45.6%)\n",
      "- EDUCATIONAL_LAG: 4 post (5.1%)\n",
      "- ACCESS TO SOCIAL SECURITY: 15 post (19.0%)\n",
      "- HOUSING: 5 post (6.3%)\n",
      "- ACCESS TO FOOD: 0 post (0.0%)\n",
      "- SOCIAL_COHESION: 2 post (2.5%)\n",
      "- non-poverty posts: 1 post (1.3%)\n",
      "\n",
      "analyzing Nuevo León (179 posts)...\n"
     ]
    },
    {
     "name": "stderr",
     "output_type": "stream",
     "text": [
      "Classifying Nuevo León: 100%|██████████| 179/179 [00:08<00:00, 19.90it/s]\n"
     ]
    },
    {
     "name": "stdout",
     "output_type": "stream",
     "text": [
      "\n",
      "results for Nuevo León:\n",
      "total posts: 179\n",
      "\n",
      "distribution of posts across dimensions of poverty:\n",
      "- INCOME: 42 post (23.5%)\n",
      "- ACCESS TO HEALTH SERVICES: 37 post (20.7%)\n",
      "- EDUCATIONAL_LAG: 8 post (4.5%)\n",
      "- ACCESS TO SOCIAL SECURITY: 43 post (24.0%)\n",
      "- HOUSING: 22 post (12.3%)\n",
      "- ACCESS TO FOOD: 8 post (4.5%)\n",
      "- SOCIAL_COHESION: 4 post (2.2%)\n",
      "- non-poverty posts: 15 post (8.4%)\n",
      "\n",
      "analyzing Oaxaca (330 posts)...\n"
     ]
    },
    {
     "name": "stderr",
     "output_type": "stream",
     "text": [
      "Classifying Oaxaca: 100%|██████████| 330/330 [00:18<00:00, 18.01it/s]\n"
     ]
    },
    {
     "name": "stdout",
     "output_type": "stream",
     "text": [
      "\n",
      "results for Oaxaca:\n",
      "total posts: 330\n",
      "\n",
      "distribution of posts across dimensions of poverty:\n",
      "- INCOME: 61 post (18.5%)\n",
      "- ACCESS TO HEALTH SERVICES: 75 post (22.7%)\n",
      "- EDUCATIONAL_LAG: 17 post (5.2%)\n",
      "- ACCESS TO SOCIAL SECURITY: 65 post (19.7%)\n",
      "- HOUSING: 37 post (11.2%)\n",
      "- ACCESS TO FOOD: 7 post (2.1%)\n",
      "- SOCIAL_COHESION: 37 post (11.2%)\n",
      "- non-poverty posts: 31 post (9.4%)\n",
      "\n",
      "analyzing Puebla (315 posts)...\n"
     ]
    },
    {
     "name": "stderr",
     "output_type": "stream",
     "text": [
      "Classifying Puebla: 100%|██████████| 315/315 [00:12<00:00, 26.15it/s]\n"
     ]
    },
    {
     "name": "stdout",
     "output_type": "stream",
     "text": [
      "\n",
      "results for Puebla:\n",
      "total posts: 315\n",
      "\n",
      "distribution of posts across dimensions of poverty:\n",
      "- INCOME: 69 post (21.9%)\n",
      "- ACCESS TO HEALTH SERVICES: 53 post (16.8%)\n",
      "- EDUCATIONAL_LAG: 29 post (9.2%)\n",
      "- ACCESS TO SOCIAL SECURITY: 52 post (16.5%)\n",
      "- HOUSING: 34 post (10.8%)\n",
      "- ACCESS TO FOOD: 6 post (1.9%)\n",
      "- SOCIAL_COHESION: 23 post (7.3%)\n",
      "- non-poverty posts: 49 post (15.6%)\n",
      "\n",
      "analyzing Querétaro (181 posts)...\n"
     ]
    },
    {
     "name": "stderr",
     "output_type": "stream",
     "text": [
      "Classifying Querétaro: 100%|██████████| 181/181 [00:05<00:00, 33.47it/s]\n"
     ]
    },
    {
     "name": "stdout",
     "output_type": "stream",
     "text": [
      "\n",
      "results for Querétaro:\n",
      "total posts: 181\n",
      "\n",
      "distribution of posts across dimensions of poverty:\n",
      "- INCOME: 35 post (19.3%)\n",
      "- ACCESS TO HEALTH SERVICES: 54 post (29.8%)\n",
      "- EDUCATIONAL_LAG: 16 post (8.8%)\n",
      "- ACCESS TO SOCIAL SECURITY: 25 post (13.8%)\n",
      "- HOUSING: 11 post (6.1%)\n",
      "- ACCESS TO FOOD: 4 post (2.2%)\n",
      "- SOCIAL_COHESION: 16 post (8.8%)\n",
      "- non-poverty posts: 20 post (11.0%)\n",
      "\n",
      "analyzing Quintana Roo (136 posts)...\n"
     ]
    },
    {
     "name": "stderr",
     "output_type": "stream",
     "text": [
      "Classifying Quintana Roo: 100%|██████████| 136/136 [00:06<00:00, 21.35it/s]\n"
     ]
    },
    {
     "name": "stdout",
     "output_type": "stream",
     "text": [
      "\n",
      "results for Quintana Roo:\n",
      "total posts: 136\n",
      "\n",
      "distribution of posts across dimensions of poverty:\n",
      "- INCOME: 37 post (27.2%)\n",
      "- ACCESS TO HEALTH SERVICES: 30 post (22.1%)\n",
      "- EDUCATIONAL_LAG: 3 post (2.2%)\n",
      "- ACCESS TO SOCIAL SECURITY: 28 post (20.6%)\n",
      "- HOUSING: 13 post (9.6%)\n",
      "- ACCESS TO FOOD: 1 post (0.7%)\n",
      "- SOCIAL_COHESION: 7 post (5.1%)\n",
      "- non-poverty posts: 17 post (12.5%)\n",
      "\n",
      "analyzing San Luis Potosí (32 posts)...\n"
     ]
    },
    {
     "name": "stderr",
     "output_type": "stream",
     "text": [
      "Classifying San Luis Potosí: 100%|██████████| 32/32 [00:01<00:00, 25.81it/s]\n"
     ]
    },
    {
     "name": "stdout",
     "output_type": "stream",
     "text": [
      "\n",
      "results for San Luis Potosí:\n",
      "total posts: 32\n",
      "\n",
      "distribution of posts across dimensions of poverty:\n",
      "- INCOME: 6 post (18.8%)\n",
      "- ACCESS TO HEALTH SERVICES: 14 post (43.8%)\n",
      "- EDUCATIONAL_LAG: 2 post (6.2%)\n",
      "- ACCESS TO SOCIAL SECURITY: 0 post (0.0%)\n",
      "- HOUSING: 1 post (3.1%)\n",
      "- ACCESS TO FOOD: 0 post (0.0%)\n",
      "- SOCIAL_COHESION: 2 post (6.2%)\n",
      "- non-poverty posts: 7 post (21.9%)\n",
      "\n",
      "analyzing Sonora (241 posts)...\n"
     ]
    },
    {
     "name": "stderr",
     "output_type": "stream",
     "text": [
      "Classifying Sonora: 100%|██████████| 241/241 [00:35<00:00,  6.83it/s]\n"
     ]
    },
    {
     "name": "stdout",
     "output_type": "stream",
     "text": [
      "\n",
      "results for Sonora:\n",
      "total posts: 241\n",
      "\n",
      "distribution of posts across dimensions of poverty:\n",
      "- INCOME: 68 post (28.2%)\n",
      "- ACCESS TO HEALTH SERVICES: 44 post (18.3%)\n",
      "- EDUCATIONAL_LAG: 12 post (5.0%)\n",
      "- ACCESS TO SOCIAL SECURITY: 66 post (27.4%)\n",
      "- HOUSING: 23 post (9.5%)\n",
      "- ACCESS TO FOOD: 9 post (3.7%)\n",
      "- SOCIAL_COHESION: 7 post (2.9%)\n",
      "- non-poverty posts: 12 post (5.0%)\n",
      "\n",
      "analyzing Tabasco (79 posts)...\n"
     ]
    },
    {
     "name": "stderr",
     "output_type": "stream",
     "text": [
      "Classifying Tabasco: 100%|██████████| 79/79 [00:02<00:00, 26.86it/s]\n"
     ]
    },
    {
     "name": "stdout",
     "output_type": "stream",
     "text": [
      "\n",
      "results for Tabasco:\n",
      "total posts: 79\n",
      "\n",
      "distribution of posts across dimensions of poverty:\n",
      "- INCOME: 25 post (31.6%)\n",
      "- ACCESS TO HEALTH SERVICES: 19 post (24.1%)\n",
      "- EDUCATIONAL_LAG: 2 post (2.5%)\n",
      "- ACCESS TO SOCIAL SECURITY: 11 post (13.9%)\n",
      "- HOUSING: 11 post (13.9%)\n",
      "- ACCESS TO FOOD: 0 post (0.0%)\n",
      "- SOCIAL_COHESION: 3 post (3.8%)\n",
      "- non-poverty posts: 8 post (10.1%)\n",
      "\n",
      "analyzing Tlaxcala (39 posts)...\n"
     ]
    },
    {
     "name": "stderr",
     "output_type": "stream",
     "text": [
      "Classifying Tlaxcala: 100%|██████████| 39/39 [00:09<00:00,  3.91it/s]\n"
     ]
    },
    {
     "name": "stdout",
     "output_type": "stream",
     "text": [
      "\n",
      "results for Tlaxcala:\n",
      "total posts: 39\n",
      "\n",
      "distribution of posts across dimensions of poverty:\n",
      "- INCOME: 2 post (5.1%)\n",
      "- ACCESS TO HEALTH SERVICES: 9 post (23.1%)\n",
      "- EDUCATIONAL_LAG: 2 post (5.1%)\n",
      "- ACCESS TO SOCIAL SECURITY: 7 post (17.9%)\n",
      "- HOUSING: 2 post (5.1%)\n",
      "- ACCESS TO FOOD: 0 post (0.0%)\n",
      "- SOCIAL_COHESION: 10 post (25.6%)\n",
      "- non-poverty posts: 7 post (17.9%)\n",
      "\n",
      "analyzing Veracruz (264 posts)...\n"
     ]
    },
    {
     "name": "stderr",
     "output_type": "stream",
     "text": [
      "Classifying Veracruz: 100%|██████████| 264/264 [00:09<00:00, 27.19it/s]\n"
     ]
    },
    {
     "name": "stdout",
     "output_type": "stream",
     "text": [
      "\n",
      "results for Veracruz:\n",
      "total posts: 264\n",
      "\n",
      "distribution of posts across dimensions of poverty:\n",
      "- INCOME: 72 post (27.3%)\n",
      "- ACCESS TO HEALTH SERVICES: 52 post (19.7%)\n",
      "- EDUCATIONAL_LAG: 15 post (5.7%)\n",
      "- ACCESS TO SOCIAL SECURITY: 51 post (19.3%)\n",
      "- HOUSING: 27 post (10.2%)\n",
      "- ACCESS TO FOOD: 2 post (0.8%)\n",
      "- SOCIAL_COHESION: 19 post (7.2%)\n",
      "- non-poverty posts: 26 post (9.8%)\n",
      "\n",
      "analyzing Yucatán (74 posts)...\n"
     ]
    },
    {
     "name": "stderr",
     "output_type": "stream",
     "text": [
      "Classifying Yucatán: 100%|██████████| 74/74 [00:02<00:00, 31.50it/s]\n"
     ]
    },
    {
     "name": "stdout",
     "output_type": "stream",
     "text": [
      "\n",
      "results for Yucatán:\n",
      "total posts: 74\n",
      "\n",
      "distribution of posts across dimensions of poverty:\n",
      "- INCOME: 13 post (17.6%)\n",
      "- ACCESS TO HEALTH SERVICES: 13 post (17.6%)\n",
      "- EDUCATIONAL_LAG: 6 post (8.1%)\n",
      "- ACCESS TO SOCIAL SECURITY: 12 post (16.2%)\n",
      "- HOUSING: 11 post (14.9%)\n",
      "- ACCESS TO FOOD: 9 post (12.2%)\n",
      "- SOCIAL_COHESION: 6 post (8.1%)\n",
      "- non-poverty posts: 4 post (5.4%)\n",
      "\n",
      "analyzing Chiapas (219 posts)...\n"
     ]
    },
    {
     "name": "stderr",
     "output_type": "stream",
     "text": [
      "Classifying Chiapas: 100%|██████████| 219/219 [00:11<00:00, 19.37it/s]\n"
     ]
    },
    {
     "name": "stdout",
     "output_type": "stream",
     "text": [
      "\n",
      "results for Chiapas:\n",
      "total posts: 219\n",
      "\n",
      "distribution of posts across dimensions of poverty:\n",
      "- INCOME: 26 post (11.9%)\n",
      "- ACCESS TO HEALTH SERVICES: 64 post (29.2%)\n",
      "- EDUCATIONAL_LAG: 25 post (11.4%)\n",
      "- ACCESS TO SOCIAL SECURITY: 17 post (7.8%)\n",
      "- HOUSING: 29 post (13.2%)\n",
      "- ACCESS TO FOOD: 6 post (2.7%)\n",
      "- SOCIAL_COHESION: 37 post (16.9%)\n",
      "- non-poverty posts: 15 post (6.8%)\n",
      "\n",
      "count of posts per dimension:\n",
      "dimension            ACCESS TO FOOD  ACCESS TO HEALTH SERVICES  \\\n",
      "state                                                            \n",
      "Aguascalientes                   12                         29   \n",
      "Baja California                   1                         25   \n",
      "Baja California Sur               1                          5   \n",
      "Campeche                          0                         16   \n",
      "Chiapas                           6                         64   \n",
      "Chihuahua                        13                         47   \n",
      "Ciudad de México                  1                        105   \n",
      "Coahuila                          8                         43   \n",
      "Colima                           10                         51   \n",
      "Durango                           1                         42   \n",
      "Estado de México                  2                         24   \n",
      "Guanajuato                        7                         46   \n",
      "Guerrero                          9                         56   \n",
      "Hidalgo                           1                         25   \n",
      "Jalisco                          10                         88   \n",
      "Michoacán                        13                         66   \n",
      "Morelos                           5                         40   \n",
      "Nayarit                           0                         36   \n",
      "Nuevo León                        8                         37   \n",
      "Oaxaca                            7                         75   \n",
      "Puebla                            6                         53   \n",
      "Querétaro                         4                         54   \n",
      "Quintana Roo                      1                         30   \n",
      "San Luis Potosí                   0                         14   \n",
      "Sinaloa                          17                         62   \n",
      "Sonora                            9                         44   \n",
      "Tabasco                           0                         19   \n",
      "Tamaulipas                       14                         57   \n",
      "Tlaxcala                          0                          9   \n",
      "Veracruz                          2                         52   \n",
      "Yucatán                           9                         13   \n",
      "Zacatecas                        10                         60   \n",
      "\n",
      "dimension            ACCESS TO SOCIAL SECURITY  EDUCATIONAL_LAG  HOUSING  \\\n",
      "state                                                                      \n",
      "Aguascalientes                              30                5       21   \n",
      "Baja California                              5                1       10   \n",
      "Baja California Sur                          1                0        1   \n",
      "Campeche                                    24                6        9   \n",
      "Chiapas                                     17               25       29   \n",
      "Chihuahua                                   39               30       34   \n",
      "Ciudad de México                            21                9       31   \n",
      "Coahuila                                   118                7       23   \n",
      "Colima                                      10                9        4   \n",
      "Durango                                     36               11       14   \n",
      "Estado de México                            11                1        8   \n",
      "Guanajuato                                  29               14       31   \n",
      "Guerrero                                    57               20       49   \n",
      "Hidalgo                                     48                7       27   \n",
      "Jalisco                                     33               17       32   \n",
      "Michoacán                                   38               17       51   \n",
      "Morelos                                     37               12       22   \n",
      "Nayarit                                     15                4        5   \n",
      "Nuevo León                                  43                8       22   \n",
      "Oaxaca                                      65               17       37   \n",
      "Puebla                                      52               29       34   \n",
      "Querétaro                                   25               16       11   \n",
      "Quintana Roo                                28                3       13   \n",
      "San Luis Potosí                              0                2        1   \n",
      "Sinaloa                                     57               11       21   \n",
      "Sonora                                      66               12       23   \n",
      "Tabasco                                     11                2       11   \n",
      "Tamaulipas                                  55                9       28   \n",
      "Tlaxcala                                     7                2        2   \n",
      "Veracruz                                    51               15       27   \n",
      "Yucatán                                     12                6       11   \n",
      "Zacatecas                                   26               25       65   \n",
      "\n",
      "dimension            INCOME  OTHER  SOCIAL_COHESION  \n",
      "state                                                \n",
      "Aguascalientes           29     32                7  \n",
      "Baja California          20      7                3  \n",
      "Baja California Sur       4      1                0  \n",
      "Campeche                 17      5                4  \n",
      "Chiapas                  26     15               37  \n",
      "Chihuahua                17     32               18  \n",
      "Ciudad de México         55     35               18  \n",
      "Coahuila                 82     52               63  \n",
      "Colima                   31     19                9  \n",
      "Durango                  41     24               15  \n",
      "Estado de México         26     16                6  \n",
      "Guanajuato               49     30               13  \n",
      "Guerrero                 80     28               44  \n",
      "Hidalgo                  51     20               17  \n",
      "Jalisco                  91     18               28  \n",
      "Michoacán                69     29               34  \n",
      "Morelos                  68     19               25  \n",
      "Nayarit                  16      1                2  \n",
      "Nuevo León               42     15                4  \n",
      "Oaxaca                   61     31               37  \n",
      "Puebla                   69     49               23  \n",
      "Querétaro                35     20               16  \n",
      "Quintana Roo             37     17                7  \n",
      "San Luis Potosí           6      7                2  \n",
      "Sinaloa                  57     27               13  \n",
      "Sonora                   68     12                7  \n",
      "Tabasco                  25      8                3  \n",
      "Tamaulipas               68     66               31  \n",
      "Tlaxcala                  2      7               10  \n",
      "Veracruz                 72     26               19  \n",
      "Yucatán                  13      4                6  \n",
      "Zacatecas                69     14               30  \n",
      "\n",
      "percentage of posts per dimension:\n",
      "dimension            ACCESS TO FOOD  ACCESS TO HEALTH SERVICES  \\\n",
      "state                                                            \n",
      "Aguascalientes                  7.3                       17.6   \n",
      "Baja California                 1.4                       34.7   \n",
      "Baja California Sur             7.7                       38.5   \n",
      "Campeche                        0.0                       19.8   \n",
      "Chiapas                         2.7                       29.2   \n",
      "Chihuahua                       5.7                       20.4   \n",
      "Ciudad de México                0.4                       38.2   \n",
      "Coahuila                        2.0                       10.9   \n",
      "Colima                          7.0                       35.7   \n",
      "Durango                         0.5                       22.8   \n",
      "Estado de México                2.1                       25.5   \n",
      "Guanajuato                      3.2                       21.0   \n",
      "Guerrero                        2.6                       16.3   \n",
      "Hidalgo                         0.5                       12.8   \n",
      "Jalisco                         3.2                       27.8   \n",
      "Michoacán                       4.1                       20.8   \n",
      "Morelos                         2.2                       17.5   \n",
      "Nayarit                         0.0                       45.6   \n",
      "Nuevo León                      4.5                       20.7   \n",
      "Oaxaca                          2.1                       22.7   \n",
      "Puebla                          1.9                       16.8   \n",
      "Querétaro                       2.2                       29.8   \n",
      "Quintana Roo                    0.7                       22.1   \n",
      "San Luis Potosí                 0.0                       43.8   \n",
      "Sinaloa                         6.4                       23.4   \n",
      "Sonora                          3.7                       18.3   \n",
      "Tabasco                         0.0                       24.1   \n",
      "Tamaulipas                      4.3                       17.4   \n",
      "Tlaxcala                        0.0                       23.1   \n",
      "Veracruz                        0.8                       19.7   \n",
      "Yucatán                        12.2                       17.6   \n",
      "Zacatecas                       3.3                       20.1   \n",
      "\n",
      "dimension            ACCESS TO SOCIAL SECURITY  EDUCATIONAL_LAG  HOUSING  \\\n",
      "state                                                                      \n",
      "Aguascalientes                            18.2              3.0     12.7   \n",
      "Baja California                            6.9              1.4     13.9   \n",
      "Baja California Sur                        7.7              0.0      7.7   \n",
      "Campeche                                  29.6              7.4     11.1   \n",
      "Chiapas                                    7.8             11.4     13.2   \n",
      "Chihuahua                                 17.0             13.0     14.8   \n",
      "Ciudad de México                           7.6              3.3     11.3   \n",
      "Coahuila                                  29.8              1.8      5.8   \n",
      "Colima                                     7.0              6.3      2.8   \n",
      "Durango                                   19.6              6.0      7.6   \n",
      "Estado de México                          11.7              1.1      8.5   \n",
      "Guanajuato                                13.2              6.4     14.2   \n",
      "Guerrero                                  16.6              5.8     14.3   \n",
      "Hidalgo                                   24.5              3.6     13.8   \n",
      "Jalisco                                   10.4              5.4     10.1   \n",
      "Michoacán                                 12.0              5.4     16.1   \n",
      "Morelos                                   16.2              5.3      9.6   \n",
      "Nayarit                                   19.0              5.1      6.3   \n",
      "Nuevo León                                24.0              4.5     12.3   \n",
      "Oaxaca                                    19.7              5.2     11.2   \n",
      "Puebla                                    16.5              9.2     10.8   \n",
      "Querétaro                                 13.8              8.8      6.1   \n",
      "Quintana Roo                              20.6              2.2      9.6   \n",
      "San Luis Potosí                            0.0              6.2      3.1   \n",
      "Sinaloa                                   21.5              4.2      7.9   \n",
      "Sonora                                    27.4              5.0      9.5   \n",
      "Tabasco                                   13.9              2.5     13.9   \n",
      "Tamaulipas                                16.8              2.7      8.5   \n",
      "Tlaxcala                                  17.9              5.1      5.1   \n",
      "Veracruz                                  19.3              5.7     10.2   \n",
      "Yucatán                                   16.2              8.1     14.9   \n",
      "Zacatecas                                  8.7              8.4     21.7   \n",
      "\n",
      "dimension            INCOME  OTHER  SOCIAL_COHESION  \n",
      "state                                                \n",
      "Aguascalientes         17.6   19.4              4.2  \n",
      "Baja California        27.8    9.7              4.2  \n",
      "Baja California Sur    30.8    7.7              0.0  \n",
      "Campeche               21.0    6.2              4.9  \n",
      "Chiapas                11.9    6.8             16.9  \n",
      "Chihuahua               7.4   13.9              7.8  \n",
      "Ciudad de México       20.0   12.7              6.5  \n",
      "Coahuila               20.7   13.1             15.9  \n",
      "Colima                 21.7   13.3              6.3  \n",
      "Durango                22.3   13.0              8.2  \n",
      "Estado de México       27.7   17.0              6.4  \n",
      "Guanajuato             22.4   13.7              5.9  \n",
      "Guerrero               23.3    8.2             12.8  \n",
      "Hidalgo                26.0   10.2              8.7  \n",
      "Jalisco                28.7    5.7              8.8  \n",
      "Michoacán              21.8    9.1             10.7  \n",
      "Morelos                29.8    8.3             11.0  \n",
      "Nayarit                20.3    1.3              2.5  \n",
      "Nuevo León             23.5    8.4              2.2  \n",
      "Oaxaca                 18.5    9.4             11.2  \n",
      "Puebla                 21.9   15.6              7.3  \n",
      "Querétaro              19.3   11.0              8.8  \n",
      "Quintana Roo           27.2   12.5              5.1  \n",
      "San Luis Potosí        18.8   21.9              6.2  \n",
      "Sinaloa                21.5   10.2              4.9  \n",
      "Sonora                 28.2    5.0              2.9  \n",
      "Tabasco                31.6   10.1              3.8  \n",
      "Tamaulipas             20.7   20.1              9.5  \n",
      "Tlaxcala                5.1   17.9             25.6  \n",
      "Veracruz               27.3    9.8              7.2  \n",
      "Yucatán                17.6    5.4              8.1  \n",
      "Zacatecas              23.1    4.7             10.0  \n"
     ]
    }
   ],
   "source": [
    "import pandas as pd\n",
    "import numpy as np\n",
    "import re\n",
    "from tqdm import tqdm\n",
    "import os\n",
    "from sentence_transformers import SentenceTransformer, util\n",
    "import torch\n",
    "from dotenv import load_dotenv\n",
    "from mongo_wrapper.mongo_wrapper import MongoWrapper\n",
    "\n",
    "# states to categorize\n",
    "STATES = [\n",
    "    \"Guanajuato\",\n",
    "    \"Michoacán\",\n",
    "    \"Sinaloa\",\n",
    "    \"Chihuahua\",\n",
    "    \"Guerrero\",\n",
    "    \"Tamaulipas\",\n",
    "    \"Baja California\",\n",
    "    \"Zacatecas\",\n",
    "    \"Colima\",\n",
    "    \"Jalisco\",\n",
    "    \"Aguascalientes\",\n",
    "    \"Baja California Sur\",\n",
    "    \"Campeche\",\n",
    "    \"Coahuila\",\n",
    "    \"Durango\",\n",
    "    \"Hidalgo\",\n",
    "    \"Estado de México\",\n",
    "    \"Ciudad de México\",\n",
    "    \"Morelos\",\n",
    "    \"Nayarit\",\n",
    "    \"Nuevo León\",\n",
    "    \"Oaxaca\",\n",
    "    \"Puebla\",\n",
    "    \"Querétaro\",\n",
    "    \"Quintana Roo\",\n",
    "    \"San Luis Potosí\",\n",
    "    \"Sonora\",\n",
    "    \"Tabasco\",\n",
    "    \"Tlaxcala\",\n",
    "    \"Veracruz\",\n",
    "    \"Yucatán\",\n",
    "    \"Chiapas\"]\n",
    "\n",
    "\n",
    "# channels to analyze \n",
    "TARGET_CHANNELS = [\n",
    "    \"elpaismexico\",\n",
    "    \"ElUniversalOnline\",\n",
    "    \"proceso_unofficial\",\n",
    "    \"politicomx\",\n",
    "    \"lajornada_unofficial\",\n",
    "    \"larazondemexico\",\n",
    "    \"sinembargomx\",\n",
    "    \"elpaisamerica\"]\n",
    "\n",
    "# define dimensions of poverty \n",
    "POVERTY_DIMENSIONS = {\n",
    "    \"INCOME\": \"\"\"\n",
    "    desempleo, salario mínimo, bajos ingresos, deudas familiares, pobreza laboral, \n",
    "    pérdida de empleo, ingreso insuficiente, precariedad laboral, empleo informal, \n",
    "    falta de oportunidades laborales, reducción de salario, inestabilidad económica, \n",
    "    recesión, subempleo, despidos masivos, contratos temporales, informalidad, \n",
    "    costos de vida elevados, falta de empleo formal, insuficiencia salarial\n",
    "    \"\"\",\n",
    "\n",
    "    \"ACCESS TO HEALTH SERVICES\": \"\"\"\n",
    "    falta de acceso a servicios de salud, hospitales saturados, escasez de medicamentos, \n",
    "    deficiencias en la atención médica, carencia de personal médico, emergencia sanitaria, \n",
    "    costos elevados de tratamientos, cierre de centros de salud, lista de espera prolongada, \n",
    "    equipos médicos inoperantes, desabasto de vacunas, falta de atención especializada, \n",
    "    dificultades para obtener citas médicas, crisis hospitalaria, cobertura médica limitada\n",
    "    \"\"\",\n",
    "\n",
    "    \"EDUCATIONAL_LAG\": \"\"\"\n",
    "    deserción escolar, suspensión de clases, carencia de docentes, infraestructura educativa deficiente, \n",
    "    dificultades de acceso a la educación, brecha digital, educación interrumpida, rezago académico, \n",
    "    falta de recursos escolares, inasistencia por motivos económicos, limitaciones en conectividad, \n",
    "    acceso desigual a la educación, deficiencias en formación básica, carencia de materiales educativos\n",
    "    \"\"\",\n",
    "\n",
    "    \"ACCESS TO SOCIAL SECURITY\": \"\"\"\n",
    "    empleo informal, ausencia de prestaciones sociales, falta de contrato laboral, \n",
    "    exclusión del sistema de pensiones, carencia de protección social, trabajo precario, \n",
    "    derechos laborales no garantizados, falta de cotización al sistema, desprotección estructural, \n",
    "    dificultades para acceder al seguro social, informalidad laboral, empleo sin afiliación\n",
    "    \"\"\",\n",
    "\n",
    "    \"HOUSING\": \"\"\"\n",
    "    vivienda precaria, hacinamiento, falta de servicios básicos, \n",
    "    infraestructura deteriorada, zonas marginadas, viviendas inseguras\n",
    "    \"\"\",\n",
    "    \n",
    "    \"ACCESS TO FOOD\": \"\"\"\n",
    "    inseguridad alimentaria, acceso limitado a alimentos, inflación, precios, \n",
    "    raciones insuficientes, pobreza alimentaria, aumento de precios, comeder comunitario, \n",
    "    canasta básica, crisis alimentaria, alza de precios, ayuda alimentaria, \n",
    "    insuficiencia nutricional, alimentación deficiente, encarecimiento de alimentos,\n",
    "    inflación en alimentos, carencia alimentaria, productos básicos, banco de alimentos, \n",
    "    alimentos inaccesibles, gasto alimentario elevado, programas alimentarios,\n",
    "    \"\"\",\n",
    "\n",
    "    \"SOCIAL_COHESION\": \"\"\"\n",
    "    discriminación étnica, marginación social, exclusión de comunidades vulnerables, \n",
    "    conflictos intercomunitarios, tensiones sociales, barreras sociales, \n",
    "    desigualdad estructural, aislamiento social\n",
    "    \"\"\"}\n",
    "\n",
    "\n",
    "class PovertyDimensionClassifier:\n",
    "    def __init__(self):\n",
    "        self.model = SentenceTransformer('hiiamsid/sentence_similarity_spanish_es')\n",
    "        self.dimension_embeddings = {}\n",
    "        \n",
    "        for dim_name, dim_terms in POVERTY_DIMENSIONS.items():\n",
    "            terms = [t.strip() for t in dim_terms.split(',') if t.strip()]\n",
    "            term_embeddings = self.model.encode(terms, convert_to_tensor=True)\n",
    "            avg_embedding = torch.mean(term_embeddings, dim=0)  \n",
    "            self.dimension_embeddings[dim_name] = avg_embedding\n",
    "    \n",
    "    def clean_text(self, text):\n",
    "        if not isinstance(text, str): \n",
    "            return \"\"\n",
    "        text = re.sub(r'<.*?>', ' ', text)\n",
    "        text = re.sub(r'http\\S+', '', text)\n",
    "        text = re.sub(r'[^\\w\\sáéíóúüñÁÉÍÓÚÜÑ]', ' ', text)\n",
    "        return re.sub(r'\\s+', ' ', text).strip().lower()\n",
    "    \n",
    "    def classify_text(self, text, threshold=0.10):\n",
    "        if not text:\n",
    "            return None, 0.0\n",
    "        \n",
    "        cleaned_text = self.clean_text(text)\n",
    "        if len(cleaned_text) < 10:\n",
    "            return None, 0.0\n",
    "        \n",
    "        text_embedding = self.model.encode(cleaned_text, convert_to_tensor=True)\n",
    "        \n",
    "        max_score = -1\n",
    "        best_dim = None\n",
    "        \n",
    "        for dim_name, dim_embedding in self.dimension_embeddings.items():\n",
    "            text_embed_2d = text_embedding.unsqueeze(0)\n",
    "            dim_embed_2d = dim_embedding.unsqueeze(0)\n",
    "            \n",
    "            cos_sim = util.cos_sim(text_embed_2d, dim_embed_2d).item()\n",
    "            \n",
    "            if cos_sim > max_score and cos_sim >= threshold:\n",
    "                max_score = cos_sim\n",
    "                best_dim = dim_name\n",
    "        \n",
    "        return (best_dim, max_score) if best_dim else (None, max_score)\n",
    "\n",
    "# load only data of interest from MongoDB\n",
    "def load_state_posts():\n",
    "    \n",
    "    MONGO_IP = os.getenv(\"MONGO_IP\")\n",
    "    MONGO_PORT = os.getenv(\"MONGO_PORT\")\n",
    "    MONGO_DB = os.getenv(\"MONGO_DB\")\n",
    "    MONGO_USERNAME = os.getenv(\"MONGO_USERNAME\")\n",
    "    MONGO_PASSWORD = os.getenv(\"MONGO_PASSWORD\")\n",
    "    \n",
    "    mongo_client = MongoWrapper(\n",
    "        db=MONGO_DB,\n",
    "        user=MONGO_USERNAME,\n",
    "        password=MONGO_PASSWORD,\n",
    "        ip=MONGO_IP,\n",
    "        port=MONGO_PORT)\n",
    "    \n",
    "    all_channels = mongo_client.get_all_collections()\n",
    "    available_target_channels = [channel for channel in TARGET_CHANNELS if channel in all_channels]\n",
    "    \n",
    "    # initialize a dictionary to store posts for each state\n",
    "    state_posts = {state: [] for state in STATES}\n",
    "    \n",
    "    # classify posts by using regex patterns - if a post contains a state name, it will be classified as that state\n",
    "    state_patterns = {state: re.compile(r'\\b' + re.escape(state) + r'\\b', re.IGNORECASE) for state in STATES}\n",
    "    \n",
    "    for channel in tqdm(available_target_channels, desc=\"loading channels\"):\n",
    "        posts = mongo_client.get_collection_entries(collection=channel)\n",
    "        \n",
    "        print(f\"channel: {channel} - {len(posts)} post found\")\n",
    "        \n",
    "        for post in tqdm(posts, desc=f\"analysis {channel}\", leave=False):\n",
    "            post_text = post.get('text', '')\n",
    "                \n",
    "            for state, pattern in state_patterns.items():\n",
    "                if pattern.search(post_text):\n",
    "                    state_posts[state].append({\n",
    "                        'text': post_text,\n",
    "                        'author': post.get('author', ''),\n",
    "                        'posting_ts': post.get('posting_ts', ''),\n",
    "                        'channel': channel})\n",
    "    \n",
    "    for state in STATES:\n",
    "        state_posts[state] = pd.DataFrame(state_posts[state])\n",
    "    \n",
    "    return state_posts\n",
    "\n",
    "# classify posts by dimensions of poverty \n",
    "def analyze_poverty_dimensions(state_posts):\n",
    "    classifier = PovertyDimensionClassifier()\n",
    "    \n",
    "    results = []\n",
    "\n",
    "    for state, df in state_posts.items():\n",
    "        print(f\"\\nanalyzing {state} ({len(df)} posts)...\")\n",
    "    \n",
    "        dimension_counts = {dim: 0 for dim in POVERTY_DIMENSIONS.keys()}\n",
    "        dimension_counts[\"OTHER\"] = 0  # other types of posts \n",
    "    \n",
    "        for idx, row in tqdm(df.iterrows(), total=len(df), desc=f\"Classifying {state}\"):\n",
    "            text = row['text']\n",
    "        \n",
    "            dimension, score = classifier.classify_text(text)\n",
    "        \n",
    "            if dimension:\n",
    "                dimension_counts[dimension] += 1\n",
    "            else:\n",
    "                dimension_counts[\"OTHER\"] += 1\n",
    "        \n",
    "        total_posts = len(df)\n",
    "        dimension_percentages = {dim: (count / total_posts) * 100 for dim, count in dimension_counts.items()}\n",
    "        \n",
    "        print(f\"\\nresults for {state}:\")\n",
    "        print(f\"total posts: {total_posts}\")\n",
    "        print(\"\\ndistribution of posts across dimensions of poverty:\")\n",
    "        \n",
    "        for dim, count in dimension_counts.items():\n",
    "            dim_name = dim if dim != \"OTHER\" else \"non-poverty posts\"\n",
    "            pct = dimension_percentages[dim]\n",
    "            print(f\"- {dim_name}: {count} post ({pct:.1f}%)\")\n",
    "        \n",
    "        for dim in list(POVERTY_DIMENSIONS.keys()) + [\"OTHER\"]:\n",
    "            results.append({\n",
    "                'state': state,\n",
    "                'dimension': dim,\n",
    "                'count': dimension_counts[dim],\n",
    "                'percentage': dimension_percentages[dim],\n",
    "                'total_posts': total_posts})\n",
    "    \n",
    "    results_df = pd.DataFrame(results)\n",
    "    return results_df\n",
    "\n",
    "def main():\n",
    "    state_posts = load_state_posts()\n",
    "    \n",
    "    results = analyze_poverty_dimensions(state_posts)\n",
    "    \n",
    "    results.to_csv(\"tg_results_improved.csv\", index=False)\n",
    "    \n",
    "    pivot_counts = results.pivot(index='state', columns='dimension', values='count')\n",
    "    print(\"\\ncount of posts per dimension:\")\n",
    "    print(pivot_counts)\n",
    "    \n",
    "    pivot_percentages = results.pivot(index='state', columns='dimension', values='percentage')\n",
    "    print(\"\\npercentage of posts per dimension:\")\n",
    "    print(pivot_percentages.round(1))\n",
    "\n",
    "if __name__ == \"__main__\":\n",
    "    main()"
   ]
  }
 ],
 "metadata": {
  "kernelspec": {
   "display_name": "new",
   "language": "python",
   "name": "python3"
  },
  "language_info": {
   "codemirror_mode": {
    "name": "ipython",
    "version": 3
   },
   "file_extension": ".py",
   "mimetype": "text/x-python",
   "name": "python",
   "nbconvert_exporter": "python",
   "pygments_lexer": "ipython3",
   "version": "3.10.9"
  }
 },
 "nbformat": 4,
 "nbformat_minor": 2
}
