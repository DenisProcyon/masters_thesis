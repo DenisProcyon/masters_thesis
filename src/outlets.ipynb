{
 "cells": [
  {
   "cell_type": "code",
   "execution_count": 14,
   "metadata": {},
   "outputs": [
    {
     "data": {
      "text/plain": [
       "True"
      ]
     },
     "execution_count": 14,
     "metadata": {},
     "output_type": "execute_result"
    }
   ],
   "source": [
    "import pandas as pd\n",
    "\n",
    "from mongo_wrapper.mongo_wrapper import MongoWrapper\n",
    "\n",
    "import os\n",
    "from dotenv import load_dotenv\n",
    "\n",
    "load_dotenv()"
   ]
  },
  {
   "cell_type": "code",
   "execution_count": 15,
   "metadata": {},
   "outputs": [],
   "source": [
    "MONGO_IP = os.getenv(\"MONGO_IP\")\n",
    "MONGO_PORT = os.getenv(\"MONGO_PORT\")\n",
    "MONGO_DB = \"news_outlets\"\n",
    "MONGO_USERNAME = os.getenv(\"MONGO_USERNAME\")\n",
    "MONGO_PASSWORD = os.getenv(\"MONGO_PASSWORD\")"
   ]
  },
  {
   "cell_type": "code",
   "execution_count": 16,
   "metadata": {},
   "outputs": [
    {
     "name": "stderr",
     "output_type": "stream",
     "text": [
      "2025-05-16 22:35:31,669 INFO Connected to news_outlets database on 206.81.16.39\n"
     ]
    }
   ],
   "source": [
    "mongo_client = MongoWrapper(\n",
    "    db=MONGO_DB,\n",
    "    user=MONGO_USERNAME,\n",
    "    password=MONGO_PASSWORD,\n",
    "    ip=MONGO_IP,\n",
    "    port=MONGO_PORT\n",
    ")"
   ]
  },
  {
   "cell_type": "code",
   "execution_count": 17,
   "metadata": {},
   "outputs": [],
   "source": [
    "states = [\n",
    "        \"Chiapas\", \"Chihuahua\", \"Coahuila\", \"Colima\", \"Durango\", \"Guerrero\",\n",
    "        \"Hidalgo\", \"Jalisco\", \"Mexico\", \"Michoacan\", \"Morelos\", \"Nayarit\",\n",
    "        \"Nuevo Leon\", \"Oaxaca\", \"Puebla\", \"Queretaro\", \"Quintana Roo\",\n",
    "        \"San Luis Potosi\", \"Sinaloa\", \"Sonora\", \"Tabasco\", \"Tamaulipas\",\n",
    "        \"Tlaxcala\", \"Veracruz\", \"Yucatan\", \"Ciudad de México\", \"Zacatecas\"\n",
    "    ]"
   ]
  },
  {
   "cell_type": "code",
   "execution_count": 18,
   "metadata": {},
   "outputs": [],
   "source": [
    "data = pd.DataFrame()\n",
    "for state in states:\n",
    "    # Get the collection for each state\n",
    "    gnews_collection = mongo_client.get_collection_entries(collection=f\"mediacloud_{state}\")\n",
    "\n",
    "    state_collection = pd.DataFrame(gnews_collection)\n",
    "\n",
    "    data = pd.concat([data, state_collection], ignore_index=True)"
   ]
  },
  {
   "cell_type": "code",
   "execution_count": 19,
   "metadata": {},
   "outputs": [
    {
     "data": {
      "text/html": [
       "<div>\n",
       "<style scoped>\n",
       "    .dataframe tbody tr th:only-of-type {\n",
       "        vertical-align: middle;\n",
       "    }\n",
       "\n",
       "    .dataframe tbody tr th {\n",
       "        vertical-align: top;\n",
       "    }\n",
       "\n",
       "    .dataframe thead th {\n",
       "        text-align: right;\n",
       "    }\n",
       "</style>\n",
       "<table border=\"1\" class=\"dataframe\">\n",
       "  <thead>\n",
       "    <tr style=\"text-align: right;\">\n",
       "      <th></th>\n",
       "      <th>_id</th>\n",
       "      <th>language</th>\n",
       "      <th>media_name</th>\n",
       "      <th>media_url</th>\n",
       "      <th>publish_date</th>\n",
       "      <th>title</th>\n",
       "      <th>url</th>\n",
       "      <th>content</th>\n",
       "    </tr>\n",
       "  </thead>\n",
       "  <tbody>\n",
       "    <tr>\n",
       "      <th>0</th>\n",
       "      <td>c1e18da40b3ea2815d3f45a5ae58ab6c99eb0678c30920...</td>\n",
       "      <td>es</td>\n",
       "      <td>noticiasdequeretaro.com.mx</td>\n",
       "      <td>noticiasdequeretaro.com.mx</td>\n",
       "      <td>2022-11-02</td>\n",
       "      <td>Lisa se convierte a huracán categoría 1</td>\n",
       "      <td>https://noticiasdequeretaro.com.mx/2022/11/02/...</td>\n",
       "      <td>Nacional\\nLisa se convierte a huracán categorí...</td>\n",
       "    </tr>\n",
       "    <tr>\n",
       "      <th>1</th>\n",
       "      <td>8c927bf19b6e8438d75a8975e3c7ad439ea35b98c8588e...</td>\n",
       "      <td>es</td>\n",
       "      <td>noticiasdequeretaro.com.mx</td>\n",
       "      <td>noticiasdequeretaro.com.mx</td>\n",
       "      <td>2023-10-27</td>\n",
       "      <td>El Frente Frío 8 traerá las primeras nevadas a...</td>\n",
       "      <td>https://noticiasdequeretaro.com.mx/2023/10/27/...</td>\n",
       "      <td>Nacional\\nEl Frente Frío 8 traerá las primeras...</td>\n",
       "    </tr>\n",
       "    <tr>\n",
       "      <th>2</th>\n",
       "      <td>5c5c05ec71650a0dc5ea6d4226fadc629403b720f552d5...</td>\n",
       "      <td>es</td>\n",
       "      <td>noticiasdequeretaro.com.mx</td>\n",
       "      <td>noticiasdequeretaro.com.mx</td>\n",
       "      <td>2022-08-01</td>\n",
       "      <td>Cubanas y venezolanas viven situación de riesg...</td>\n",
       "      <td>https://noticiasdequeretaro.com.mx/2022/08/01/...</td>\n",
       "      <td>Alertan sobre redes de trata de personas en el...</td>\n",
       "    </tr>\n",
       "    <tr>\n",
       "      <th>3</th>\n",
       "      <td>a73c7786a653cc36ce6d707533cdde74c18c9ca5026c48...</td>\n",
       "      <td>es</td>\n",
       "      <td>noticiasdequeretaro.com.mx</td>\n",
       "      <td>noticiasdequeretaro.com.mx</td>\n",
       "      <td>2022-10-27</td>\n",
       "      <td>El matrimonio igualitario ya es legal en todo ...</td>\n",
       "      <td>https://noticiasdequeretaro.com.mx/2022/10/27/...</td>\n",
       "      <td>NaN</td>\n",
       "    </tr>\n",
       "    <tr>\n",
       "      <th>4</th>\n",
       "      <td>fd1b7bb57d10f0c6bc6793e108c8c8d65a77459bdafa1a...</td>\n",
       "      <td>es</td>\n",
       "      <td>noticiasdequeretaro.com.mx</td>\n",
       "      <td>noticiasdequeretaro.com.mx</td>\n",
       "      <td>2022-09-07</td>\n",
       "      <td>Sigue fortaleciéndose “Kay”; Se convierte en h...</td>\n",
       "      <td>https://noticiasdequeretaro.com.mx/2022/09/07/...</td>\n",
       "      <td>NaN</td>\n",
       "    </tr>\n",
       "  </tbody>\n",
       "</table>\n",
       "</div>"
      ],
      "text/plain": [
       "                                                 _id language  \\\n",
       "0  c1e18da40b3ea2815d3f45a5ae58ab6c99eb0678c30920...       es   \n",
       "1  8c927bf19b6e8438d75a8975e3c7ad439ea35b98c8588e...       es   \n",
       "2  5c5c05ec71650a0dc5ea6d4226fadc629403b720f552d5...       es   \n",
       "3  a73c7786a653cc36ce6d707533cdde74c18c9ca5026c48...       es   \n",
       "4  fd1b7bb57d10f0c6bc6793e108c8c8d65a77459bdafa1a...       es   \n",
       "\n",
       "                   media_name                   media_url publish_date  \\\n",
       "0  noticiasdequeretaro.com.mx  noticiasdequeretaro.com.mx   2022-11-02   \n",
       "1  noticiasdequeretaro.com.mx  noticiasdequeretaro.com.mx   2023-10-27   \n",
       "2  noticiasdequeretaro.com.mx  noticiasdequeretaro.com.mx   2022-08-01   \n",
       "3  noticiasdequeretaro.com.mx  noticiasdequeretaro.com.mx   2022-10-27   \n",
       "4  noticiasdequeretaro.com.mx  noticiasdequeretaro.com.mx   2022-09-07   \n",
       "\n",
       "                                               title  \\\n",
       "0            Lisa se convierte a huracán categoría 1   \n",
       "1  El Frente Frío 8 traerá las primeras nevadas a...   \n",
       "2  Cubanas y venezolanas viven situación de riesg...   \n",
       "3  El matrimonio igualitario ya es legal en todo ...   \n",
       "4  Sigue fortaleciéndose “Kay”; Se convierte en h...   \n",
       "\n",
       "                                                 url  \\\n",
       "0  https://noticiasdequeretaro.com.mx/2022/11/02/...   \n",
       "1  https://noticiasdequeretaro.com.mx/2023/10/27/...   \n",
       "2  https://noticiasdequeretaro.com.mx/2022/08/01/...   \n",
       "3  https://noticiasdequeretaro.com.mx/2022/10/27/...   \n",
       "4  https://noticiasdequeretaro.com.mx/2022/09/07/...   \n",
       "\n",
       "                                             content  \n",
       "0  Nacional\\nLisa se convierte a huracán categorí...  \n",
       "1  Nacional\\nEl Frente Frío 8 traerá las primeras...  \n",
       "2  Alertan sobre redes de trata de personas en el...  \n",
       "3                                                NaN  \n",
       "4                                                NaN  "
      ]
     },
     "execution_count": 19,
     "metadata": {},
     "output_type": "execute_result"
    }
   ],
   "source": [
    "data.head()"
   ]
  },
  {
   "cell_type": "code",
   "execution_count": 23,
   "metadata": {},
   "outputs": [
    {
     "data": {
      "text/plain": [
       "np.int64(39324)"
      ]
     },
     "execution_count": 23,
     "metadata": {},
     "output_type": "execute_result"
    }
   ],
   "source": [
    "non_nan_content_rows = data['content'].notna().sum()\n",
    "non_nan_content_rows\n"
   ]
  }
 ],
 "metadata": {
  "kernelspec": {
   "display_name": "thesis_venv",
   "language": "python",
   "name": "python3"
  },
  "language_info": {
   "codemirror_mode": {
    "name": "ipython",
    "version": 3
   },
   "file_extension": ".py",
   "mimetype": "text/x-python",
   "name": "python",
   "nbconvert_exporter": "python",
   "pygments_lexer": "ipython3",
   "version": "3.12.2"
  }
 },
 "nbformat": 4,
 "nbformat_minor": 2
}
