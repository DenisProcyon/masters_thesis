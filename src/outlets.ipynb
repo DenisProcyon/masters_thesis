{
 "cells": [
  {
   "cell_type": "code",
   "execution_count": 9,
   "metadata": {},
   "outputs": [
    {
     "data": {
      "text/plain": [
       "True"
      ]
     },
     "execution_count": 9,
     "metadata": {},
     "output_type": "execute_result"
    }
   ],
   "source": [
    "import pandas as pd\n",
    "\n",
    "from mongo_wrapper.mongo_wrapper import MongoWrapper\n",
    "\n",
    "import os\n",
    "from dotenv import load_dotenv\n",
    "\n",
    "load_dotenv()"
   ]
  },
  {
   "cell_type": "code",
   "execution_count": 3,
   "metadata": {},
   "outputs": [],
   "source": [
    "MONGO_IP = os.getenv(\"MONGO_IP\")\n",
    "MONGO_PORT = os.getenv(\"MONGO_PORT\")\n",
    "MONGO_DB = \"news_outlets\"\n",
    "MONGO_USERNAME = os.getenv(\"MONGO_USERNAME\")\n",
    "MONGO_PASSWORD = os.getenv(\"MONGO_PASSWORD\")"
   ]
  },
  {
   "cell_type": "code",
   "execution_count": 4,
   "metadata": {},
   "outputs": [
    {
     "name": "stderr",
     "output_type": "stream",
     "text": [
      "2025-05-12 10:50:01,451 WARNING Logger Mongo was configured with True console stream\n",
      "2025-05-12 10:50:01,888 INFO Connected to news_outlets database on 206.81.16.39\n"
     ]
    }
   ],
   "source": [
    "mongo_client = MongoWrapper(\n",
    "    db=MONGO_DB,\n",
    "    user=MONGO_USERNAME,\n",
    "    password=MONGO_PASSWORD,\n",
    "    ip=MONGO_IP,\n",
    "    port=MONGO_PORT\n",
    ")"
   ]
  },
  {
   "cell_type": "code",
   "execution_count": 6,
   "metadata": {},
   "outputs": [],
   "source": [
    "mediacloud_desempleo_collection = mongo_client.get_collection_entries(collection=\"mediacloud_desempleo\")"
   ]
  },
  {
   "cell_type": "code",
   "execution_count": 11,
   "metadata": {},
   "outputs": [],
   "source": [
    "data = pd.DataFrame(mediacloud_desempleo_collection)"
   ]
  },
  {
   "cell_type": "code",
   "execution_count": 12,
   "metadata": {},
   "outputs": [
    {
     "data": {
      "text/html": [
       "<div>\n",
       "<style scoped>\n",
       "    .dataframe tbody tr th:only-of-type {\n",
       "        vertical-align: middle;\n",
       "    }\n",
       "\n",
       "    .dataframe tbody tr th {\n",
       "        vertical-align: top;\n",
       "    }\n",
       "\n",
       "    .dataframe thead th {\n",
       "        text-align: right;\n",
       "    }\n",
       "</style>\n",
       "<table border=\"1\" class=\"dataframe\">\n",
       "  <thead>\n",
       "    <tr style=\"text-align: right;\">\n",
       "      <th></th>\n",
       "      <th>_id</th>\n",
       "      <th>language</th>\n",
       "      <th>media_name</th>\n",
       "      <th>media_url</th>\n",
       "      <th>publish_date</th>\n",
       "      <th>title</th>\n",
       "      <th>url</th>\n",
       "      <th>content</th>\n",
       "    </tr>\n",
       "  </thead>\n",
       "  <tbody>\n",
       "    <tr>\n",
       "      <th>0</th>\n",
       "      <td>3aac93101bf98af51d6dd813d4f3c2d2f3ff4df0762d99...</td>\n",
       "      <td>es</td>\n",
       "      <td>siempre.mx</td>\n",
       "      <td>siempre.mx</td>\n",
       "      <td>2022-01-21</td>\n",
       "      <td>Un año de presidente</td>\n",
       "      <td>http://www.siempre.mx/2022/01/un-ano-de-presid...</td>\n",
       "      <td>A un año de ejercer la presidencia de los Esta...</td>\n",
       "    </tr>\n",
       "    <tr>\n",
       "      <th>1</th>\n",
       "      <td>7f91a8bae3b694f0723fded92cf368f99e0ddce8adb8ad...</td>\n",
       "      <td>es</td>\n",
       "      <td>elsoldechilpancingo.mx</td>\n",
       "      <td>elsoldechilpancingo.mx</td>\n",
       "      <td>2022-01-25</td>\n",
       "      <td>“La calor” y “una mala alimentación”, causas d...</td>\n",
       "      <td>https://www.elsoldechilpancingo.mx/2022/01/25/...</td>\n",
       "      <td>- La alcaldesa de Acapulco consideró que esos ...</td>\n",
       "    </tr>\n",
       "    <tr>\n",
       "      <th>2</th>\n",
       "      <td>22a79fdb52079465989eb8cfec75329c266b279a45d085...</td>\n",
       "      <td>es</td>\n",
       "      <td>diarioeyipantla.com</td>\n",
       "      <td>diarioeyipantla.com</td>\n",
       "      <td>2022-01-25</td>\n",
       "      <td>Diario Eyipantla Milenio</td>\n",
       "      <td>https://www.diarioeyipantla.com/descarrilada-4t/</td>\n",
       "      <td>Lo único que el gobierno de Veracruz ha ofreci...</td>\n",
       "    </tr>\n",
       "    <tr>\n",
       "      <th>3</th>\n",
       "      <td>a99e04f9cc07bf8693c2a42c6cfc7596e2e00282b6446a...</td>\n",
       "      <td>es</td>\n",
       "      <td>elheraldodechihuahua.com.mx</td>\n",
       "      <td>elheraldodechihuahua.com.mx</td>\n",
       "      <td>2022-01-25</td>\n",
       "      <td>Cita Comisión de Trabajo y Previsión Social a ...</td>\n",
       "      <td>https://www.elheraldodechihuahua.com.mx/local/...</td>\n",
       "      <td>Cita Comisión de Trabajo y Previsión Social a ...</td>\n",
       "    </tr>\n",
       "    <tr>\n",
       "      <th>4</th>\n",
       "      <td>92107c41b45288fbd7ddcb77cdfc00cd0dc10dca0d63e5...</td>\n",
       "      <td>es</td>\n",
       "      <td>noreste.net</td>\n",
       "      <td>noreste.net</td>\n",
       "      <td>2022-01-25</td>\n",
       "      <td>Carlos Jesús R. – Del Río Virgen podría salir ...</td>\n",
       "      <td>https://noreste.net/carlos-jesus-r-del-rio-vir...</td>\n",
       "      <td>NaN</td>\n",
       "    </tr>\n",
       "  </tbody>\n",
       "</table>\n",
       "</div>"
      ],
      "text/plain": [
       "                                                 _id language  \\\n",
       "0  3aac93101bf98af51d6dd813d4f3c2d2f3ff4df0762d99...       es   \n",
       "1  7f91a8bae3b694f0723fded92cf368f99e0ddce8adb8ad...       es   \n",
       "2  22a79fdb52079465989eb8cfec75329c266b279a45d085...       es   \n",
       "3  a99e04f9cc07bf8693c2a42c6cfc7596e2e00282b6446a...       es   \n",
       "4  92107c41b45288fbd7ddcb77cdfc00cd0dc10dca0d63e5...       es   \n",
       "\n",
       "                    media_name                    media_url publish_date  \\\n",
       "0                   siempre.mx                   siempre.mx   2022-01-21   \n",
       "1       elsoldechilpancingo.mx       elsoldechilpancingo.mx   2022-01-25   \n",
       "2          diarioeyipantla.com          diarioeyipantla.com   2022-01-25   \n",
       "3  elheraldodechihuahua.com.mx  elheraldodechihuahua.com.mx   2022-01-25   \n",
       "4                  noreste.net                  noreste.net   2022-01-25   \n",
       "\n",
       "                                               title  \\\n",
       "0                               Un año de presidente   \n",
       "1  “La calor” y “una mala alimentación”, causas d...   \n",
       "2                           Diario Eyipantla Milenio   \n",
       "3  Cita Comisión de Trabajo y Previsión Social a ...   \n",
       "4  Carlos Jesús R. – Del Río Virgen podría salir ...   \n",
       "\n",
       "                                                 url  \\\n",
       "0  http://www.siempre.mx/2022/01/un-ano-de-presid...   \n",
       "1  https://www.elsoldechilpancingo.mx/2022/01/25/...   \n",
       "2   https://www.diarioeyipantla.com/descarrilada-4t/   \n",
       "3  https://www.elheraldodechihuahua.com.mx/local/...   \n",
       "4  https://noreste.net/carlos-jesus-r-del-rio-vir...   \n",
       "\n",
       "                                             content  \n",
       "0  A un año de ejercer la presidencia de los Esta...  \n",
       "1  - La alcaldesa de Acapulco consideró que esos ...  \n",
       "2  Lo único que el gobierno de Veracruz ha ofreci...  \n",
       "3  Cita Comisión de Trabajo y Previsión Social a ...  \n",
       "4                                                NaN  "
      ]
     },
     "execution_count": 12,
     "metadata": {},
     "output_type": "execute_result"
    }
   ],
   "source": [
    "data.head()"
   ]
  },
  {
   "cell_type": "code",
   "execution_count": 13,
   "metadata": {},
   "outputs": [
    {
     "data": {
      "text/plain": [
       "'A un año de ejercer la presidencia de los Estados Unidos, Joe Biden, no ha logrado superar la profunda polarización social que priva en un país que vive una compleja situación económica que, desde hace 40 no se registraba, con una inflación del 7 por ciento y, un desempleo superior a los 11 millones. Por si esto no fuera suficiente, una pandemia que no ha dado tregua, con más de 68 millones de contagios y cerca de 859 mil fallecimientos.\\nSin duda que Biden nunca llegó a imaginar que la aprobación a su trabajo fuera tan baja, sólo un 40 por ciento, lo reconocen.\\nEn el balance a un año el presidente, Joe Biden, dijo que su cargo ha tenido “desafíos” pero también “enormes progresos” y, aseguró que no previó una obstrucción republicana tan fuerte contra su gobierno, reconoció también los pasos en falso dados ante una pandemia que está en su apogeo, pero elogió los avances en materia económica…”ha sido un año de desafíos, pero también ha sido un año de enormes progresos”, así es como respondió a la infinidad de preguntas sobre muy diversos temas.\\nSobre el manejo de la pandemia, exaltó los avances en materia de vacunación, “Pasamos de dos millones de personas vacunadas en el momento en que presté juramento a 210 millones de estadounidenses totalmente vacunados hoy”.\\nAsimismo, celebró que “creamos 6 millones de nuevos puestos de trabajo, más puestos de trabajo en un año que en cualquier otro momento anterior”.\\nEn el tema de lucha contra la inflación, Biden, advirtió que requerirá un esfuerzo “a largo plazo” y atribuyó la vertiginosa subida de precios a los problemas en las cadenas de suministro provocados por la pandemia.\\nLlevar a un nivel razonable la inflación, actualmente en su nivel más alto en casi 40 años, “será difícil”, insistió y previó que “hasta entonces, será doloroso para mucha gente”.\\nSobre la tensión en la frontera ucraniana, Biden, también anticipó que Rusia pagaría un alto precio si decidiera invadir a Ucrania incluyendo un elevado costo humano y un profundo daño a su economía.\\n“Va a ser un desastre para Rusia” dijo Biden y agregó que los rusos podrían finalmente prevalecer, pero que sus pérdidas “van a ser grandes”.\\nEl presidente demócrata recalcó, asimismo, que “no es hora de rendirse” en lo que respecta a las conversaciones con Irán para revivir el acuerdo nuclear de 2015. “Se están haciendo algunos progresos” celebró.\\nPor otra parte, anunció que la vicepresidenta, Kamala Harris, volverá a ser su compañera de fórmula en 2024.\\nTambién dijo confiar en que el Congreso aprobará “grandes porciones” de su estancado proyecto de ley de gasto social. Ese proyecto está estancado en el legislativo, pues genera división dentro del oficialista Partido Demócrata.\\nAsimismo, dijo aún tener esperanza de que el Senado apruebe nuevas leyes sobre el derecho al sufragio, las que a priori parecen condenadas al fracaso.\\nUna nueva encuesta de Gallup muestra a Biden con sólo un 40 por ciento de aprobación frente a un 57 por ciento del inicio de su mandato. Desde la Segunda Guerra Mundial, sólo los números del primer año de Trump fueron más bajos, dijo Gallup.\\nLa conferencia de prensa de Biden se produce en la víspera del primer aniversario de su investidura el 20 de enero del 2021.\\nCon el tradicional discurso del Estado de la Unión, una suerte de rendición de cuentas ante el Congreso programado para el 1 de marzo 2022 se agota el tiempo para que Biden cambie el estado de ánimo antes de las elecciones legislativas de noviembre, cuando se espera que los republicanos recuperen el control de la legislatura.\\nLa Casa Blanca espera que las buenas noticias superen un poco el pesimismo relacionado con la pandemia, con la economía recuperándose, la variante del coronavirus ómicron disminuyendo y los estadounidenses valorando logros de Biden como sus voluminosos gastos en infraestructura.\\nComo dijo el jefe de gabinete de la Casa Blanca, Ron Klain: “El presidente Biden fue elegido para un mandato de cuatro años, no de un año”.\\nPero el mismo Biden hasta ahora ha sido parco.\\nSi bien interactúa con los periodistas en sesiones breves y a menudo apresuradas de preguntas y respuestas en la Casa Blanca, su falta de conferencias de prensa llama la atención.\\nDesde que asumió su mandato y hasta el 31 de diciembre, sólo dio nueve conferencias contra 22 de Trump en su primer año y 27 de Barack Obama, según un estudio del Proyecto de Transición de la Casa Blanca.\\nLa escasez de entrevistas individuales es aún más elocuente: 22 de Biden, 92 de Trump y 156 de Obama.\\nCiertamente Joe Biden es una buena persona, como se dice en Washington, pero también lo es que en lo político parece que ha quedado a deber.\\n@laloampos03'"
      ]
     },
     "execution_count": 13,
     "metadata": {},
     "output_type": "execute_result"
    }
   ],
   "source": [
    "data[\"content\"].iloc[0]"
   ]
  }
 ],
 "metadata": {
  "kernelspec": {
   "display_name": "thesis_venv",
   "language": "python",
   "name": "python3"
  },
  "language_info": {
   "codemirror_mode": {
    "name": "ipython",
    "version": 3
   },
   "file_extension": ".py",
   "mimetype": "text/x-python",
   "name": "python",
   "nbconvert_exporter": "python",
   "pygments_lexer": "ipython3",
   "version": "3.12.2"
  }
 },
 "nbformat": 4,
 "nbformat_minor": 2
}
