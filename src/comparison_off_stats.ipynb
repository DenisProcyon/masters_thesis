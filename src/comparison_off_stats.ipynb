{
 "cells": [
  {
   "cell_type": "code",
   "execution_count": 1,
   "id": "30641a03",
   "metadata": {},
   "outputs": [],
   "source": [
    "import pandas as pd "
   ]
  },
  {
   "cell_type": "code",
   "execution_count": 2,
   "id": "61b2ea72",
   "metadata": {},
   "outputs": [],
   "source": [
    "df1 =  pd.read_csv(\"tg_results_1.csv\")\n",
    "df2 = pd.read_csv(\"tg_results_adj.csv\")"
   ]
  },
  {
   "cell_type": "code",
   "execution_count": 3,
   "id": "412e68ed",
   "metadata": {},
   "outputs": [
    {
     "data": {
      "text/html": [
       "<div>\n",
       "<style scoped>\n",
       "    .dataframe tbody tr th:only-of-type {\n",
       "        vertical-align: middle;\n",
       "    }\n",
       "\n",
       "    .dataframe tbody tr th {\n",
       "        vertical-align: top;\n",
       "    }\n",
       "\n",
       "    .dataframe thead th {\n",
       "        text-align: right;\n",
       "    }\n",
       "</style>\n",
       "<table border=\"1\" class=\"dataframe\">\n",
       "  <thead>\n",
       "    <tr style=\"text-align: right;\">\n",
       "      <th></th>\n",
       "      <th>state</th>\n",
       "      <th>dimension</th>\n",
       "      <th>count</th>\n",
       "      <th>percentage</th>\n",
       "      <th>total_posts</th>\n",
       "    </tr>\n",
       "  </thead>\n",
       "  <tbody>\n",
       "    <tr>\n",
       "      <th>0</th>\n",
       "      <td>Guanajuato</td>\n",
       "      <td>INCOME</td>\n",
       "      <td>80</td>\n",
       "      <td>36.529680</td>\n",
       "      <td>219</td>\n",
       "    </tr>\n",
       "    <tr>\n",
       "      <th>1</th>\n",
       "      <td>Guanajuato</td>\n",
       "      <td>ACCESS TO HEALTH SERVICES</td>\n",
       "      <td>6</td>\n",
       "      <td>2.739726</td>\n",
       "      <td>219</td>\n",
       "    </tr>\n",
       "    <tr>\n",
       "      <th>2</th>\n",
       "      <td>Guanajuato</td>\n",
       "      <td>EDUCATIONAL_LAG</td>\n",
       "      <td>11</td>\n",
       "      <td>5.022831</td>\n",
       "      <td>219</td>\n",
       "    </tr>\n",
       "    <tr>\n",
       "      <th>3</th>\n",
       "      <td>Guanajuato</td>\n",
       "      <td>ACCESS TO SOCIAL SECURITY</td>\n",
       "      <td>35</td>\n",
       "      <td>15.981735</td>\n",
       "      <td>219</td>\n",
       "    </tr>\n",
       "    <tr>\n",
       "      <th>4</th>\n",
       "      <td>Guanajuato</td>\n",
       "      <td>HOUSING</td>\n",
       "      <td>79</td>\n",
       "      <td>36.073059</td>\n",
       "      <td>219</td>\n",
       "    </tr>\n",
       "  </tbody>\n",
       "</table>\n",
       "</div>"
      ],
      "text/plain": [
       "        state                  dimension  count  percentage  total_posts\n",
       "0  Guanajuato                     INCOME     80   36.529680          219\n",
       "1  Guanajuato  ACCESS TO HEALTH SERVICES      6    2.739726          219\n",
       "2  Guanajuato            EDUCATIONAL_LAG     11    5.022831          219\n",
       "3  Guanajuato  ACCESS TO SOCIAL SECURITY     35   15.981735          219\n",
       "4  Guanajuato                    HOUSING     79   36.073059          219"
      ]
     },
     "execution_count": 3,
     "metadata": {},
     "output_type": "execute_result"
    }
   ],
   "source": [
    "df1.head()"
   ]
  },
  {
   "cell_type": "code",
   "execution_count": 4,
   "id": "011e454a",
   "metadata": {},
   "outputs": [
    {
     "data": {
      "text/plain": [
       "28.889515734037957"
      ]
     },
     "execution_count": 4,
     "metadata": {},
     "output_type": "execute_result"
    }
   ],
   "source": [
    "mean_income1 = df1[df1['dimension'] == 'INCOME']['percentage'].mean()\n",
    "mean_income1"
   ]
  },
  {
   "cell_type": "code",
   "execution_count": 5,
   "id": "b97f9a55",
   "metadata": {},
   "outputs": [
    {
     "data": {
      "text/plain": [
       "26.27454276995346"
      ]
     },
     "execution_count": 5,
     "metadata": {},
     "output_type": "execute_result"
    }
   ],
   "source": [
    "mean_income2 = df2[df2['dimension'] == 'INCOME']['percentage'].mean()\n",
    "mean_income2"
   ]
  },
  {
   "cell_type": "code",
   "execution_count": 6,
   "id": "c43cc588",
   "metadata": {},
   "outputs": [
    {
     "data": {
      "text/plain": [
       "7.741712169854683"
      ]
     },
     "execution_count": 6,
     "metadata": {},
     "output_type": "execute_result"
    }
   ],
   "source": [
    "mean_health1 = df1[df1['dimension'] == 'ACCESS TO HEALTH SERVICES']['percentage'].mean()\n",
    "mean_health1"
   ]
  },
  {
   "cell_type": "code",
   "execution_count": 7,
   "id": "c9a5febb",
   "metadata": {},
   "outputs": [
    {
     "data": {
      "text/plain": [
       "9.500040062864326"
      ]
     },
     "execution_count": 7,
     "metadata": {},
     "output_type": "execute_result"
    }
   ],
   "source": [
    "mean_health2 = df2[df2['dimension'] == 'ACCESS TO HEALTH SERVICES']['percentage'].mean()\n",
    "mean_health2"
   ]
  },
  {
   "cell_type": "code",
   "execution_count": 8,
   "id": "bc3bf497",
   "metadata": {},
   "outputs": [
    {
     "data": {
      "text/plain": [
       "6.4366112144845165"
      ]
     },
     "execution_count": 8,
     "metadata": {},
     "output_type": "execute_result"
    }
   ],
   "source": [
    "mean_edu1 = df1[df1['dimension'] == 'EDUCATIONAL_LAG']['percentage'].mean()\n",
    "mean_edu1"
   ]
  },
  {
   "cell_type": "code",
   "execution_count": 9,
   "id": "fe94251f",
   "metadata": {},
   "outputs": [
    {
     "data": {
      "text/plain": [
       "7.3376144299647"
      ]
     },
     "execution_count": 9,
     "metadata": {},
     "output_type": "execute_result"
    }
   ],
   "source": [
    "mean_edu2 = df2[df2['dimension'] == 'EDUCATIONAL_LAG']['percentage'].mean()\n",
    "mean_edu2"
   ]
  },
  {
   "cell_type": "code",
   "execution_count": 10,
   "id": "8eeed70c",
   "metadata": {},
   "outputs": [
    {
     "data": {
      "text/plain": [
       "30.512659548470513"
      ]
     },
     "execution_count": 10,
     "metadata": {},
     "output_type": "execute_result"
    }
   ],
   "source": [
    "mean_ss1 = df1[df1['dimension'] == 'ACCESS TO SOCIAL SECURITY']['percentage'].mean()\n",
    "mean_ss1"
   ]
  },
  {
   "cell_type": "code",
   "execution_count": 11,
   "id": "9ba26fc5",
   "metadata": {},
   "outputs": [
    {
     "data": {
      "text/plain": [
       "29.554081407412134"
      ]
     },
     "execution_count": 11,
     "metadata": {},
     "output_type": "execute_result"
    }
   ],
   "source": [
    "mean_ss1= df2[df2['dimension'] == 'ACCESS TO SOCIAL SECURITY']['percentage'].mean()\n",
    "mean_ss1"
   ]
  },
  {
   "cell_type": "code",
   "execution_count": 12,
   "id": "5e6fbf2e",
   "metadata": {},
   "outputs": [
    {
     "data": {
      "text/plain": [
       "20.830139713460525"
      ]
     },
     "execution_count": 12,
     "metadata": {},
     "output_type": "execute_result"
    }
   ],
   "source": [
    "mean_housing1 = df1[df1['dimension'] == 'HOUSING']['percentage'].mean()\n",
    "mean_housing1"
   ]
  },
  {
   "cell_type": "code",
   "execution_count": 13,
   "id": "c97b404a",
   "metadata": {},
   "outputs": [
    {
     "data": {
      "text/plain": [
       "19.82476855311034"
      ]
     },
     "execution_count": 13,
     "metadata": {},
     "output_type": "execute_result"
    }
   ],
   "source": [
    "mean_housing2 = df2[df2['dimension'] == 'HOUSING']['percentage'].mean()\n",
    "mean_housing2"
   ]
  },
  {
   "cell_type": "code",
   "execution_count": 14,
   "id": "08c0ef33",
   "metadata": {},
   "outputs": [
    {
     "data": {
      "text/plain": [
       "0.7390765775181504"
      ]
     },
     "execution_count": 14,
     "metadata": {},
     "output_type": "execute_result"
    }
   ],
   "source": [
    "mean_food1 = df1[df1['dimension'] == 'ACCESS TO FOOD']['percentage'].mean()\n",
    "mean_food1"
   ]
  },
  {
   "cell_type": "code",
   "execution_count": 15,
   "id": "0660dfef",
   "metadata": {},
   "outputs": [
    {
     "data": {
      "text/plain": [
       "2.3840712951552114"
      ]
     },
     "execution_count": 15,
     "metadata": {},
     "output_type": "execute_result"
    }
   ],
   "source": [
    "mean_food2 = df2[df2['dimension'] == 'ACCESS TO FOOD']['percentage'].mean()\n",
    "mean_food2"
   ]
  },
  {
   "cell_type": "code",
   "execution_count": 16,
   "id": "11c163e1",
   "metadata": {},
   "outputs": [],
   "source": [
    "df_val = pd.read_csv('official_data_2022.csv', delimiter=\";\")"
   ]
  },
  {
   "cell_type": "code",
   "execution_count": 17,
   "id": "6512e3bb",
   "metadata": {},
   "outputs": [
    {
     "data": {
      "text/html": [
       "<div>\n",
       "<style scoped>\n",
       "    .dataframe tbody tr th:only-of-type {\n",
       "        vertical-align: middle;\n",
       "    }\n",
       "\n",
       "    .dataframe tbody tr th {\n",
       "        vertical-align: top;\n",
       "    }\n",
       "\n",
       "    .dataframe thead th {\n",
       "        text-align: right;\n",
       "    }\n",
       "</style>\n",
       "<table border=\"1\" class=\"dataframe\">\n",
       "  <thead>\n",
       "    <tr style=\"text-align: right;\">\n",
       "      <th></th>\n",
       "      <th>year</th>\n",
       "      <th>state</th>\n",
       "      <th>education</th>\n",
       "      <th>health</th>\n",
       "      <th>social</th>\n",
       "      <th>housing1</th>\n",
       "      <th>housing2</th>\n",
       "      <th>food</th>\n",
       "      <th>poverty</th>\n",
       "      <th>ext_pov</th>\n",
       "    </tr>\n",
       "  </thead>\n",
       "  <tbody>\n",
       "    <tr>\n",
       "      <th>0</th>\n",
       "      <td>2022.0</td>\n",
       "      <td>Aguascalientes</td>\n",
       "      <td>16.5</td>\n",
       "      <td>26.2</td>\n",
       "      <td>34.7</td>\n",
       "      <td>4.7</td>\n",
       "      <td>2.5</td>\n",
       "      <td>15.6</td>\n",
       "      <td>33.0</td>\n",
       "      <td>6.1</td>\n",
       "    </tr>\n",
       "    <tr>\n",
       "      <th>1</th>\n",
       "      <td>2022.0</td>\n",
       "      <td>Baja California</td>\n",
       "      <td>15.5</td>\n",
       "      <td>28.4</td>\n",
       "      <td>34.7</td>\n",
       "      <td>6.1</td>\n",
       "      <td>4.1</td>\n",
       "      <td>10.0</td>\n",
       "      <td>18.8</td>\n",
       "      <td>2.8</td>\n",
       "    </tr>\n",
       "    <tr>\n",
       "      <th>2</th>\n",
       "      <td>2022.0</td>\n",
       "      <td>Baja California Sur</td>\n",
       "      <td>14.2</td>\n",
       "      <td>17.3</td>\n",
       "      <td>29.9</td>\n",
       "      <td>8.6</td>\n",
       "      <td>9.9</td>\n",
       "      <td>14.5</td>\n",
       "      <td>17.9</td>\n",
       "      <td>2.8</td>\n",
       "    </tr>\n",
       "    <tr>\n",
       "      <th>3</th>\n",
       "      <td>2022.0</td>\n",
       "      <td>Campeche</td>\n",
       "      <td>20.3</td>\n",
       "      <td>34.6</td>\n",
       "      <td>54.7</td>\n",
       "      <td>14.9</td>\n",
       "      <td>34.9</td>\n",
       "      <td>22.0</td>\n",
       "      <td>51.0</td>\n",
       "      <td>15.9</td>\n",
       "    </tr>\n",
       "    <tr>\n",
       "      <th>4</th>\n",
       "      <td>2022.0</td>\n",
       "      <td>Coahuila de Zaragoza</td>\n",
       "      <td>13.5</td>\n",
       "      <td>19.7</td>\n",
       "      <td>24.4</td>\n",
       "      <td>3.4</td>\n",
       "      <td>3.4</td>\n",
       "      <td>13.2</td>\n",
       "      <td>28.8</td>\n",
       "      <td>5.9</td>\n",
       "    </tr>\n",
       "  </tbody>\n",
       "</table>\n",
       "</div>"
      ],
      "text/plain": [
       "     year                 state  education  health  social  housing1  \\\n",
       "0  2022.0        Aguascalientes       16.5    26.2    34.7       4.7   \n",
       "1  2022.0       Baja California       15.5    28.4    34.7       6.1   \n",
       "2  2022.0   Baja California Sur       14.2    17.3    29.9       8.6   \n",
       "3  2022.0              Campeche       20.3    34.6    54.7      14.9   \n",
       "4  2022.0  Coahuila de Zaragoza       13.5    19.7    24.4       3.4   \n",
       "\n",
       "   housing2  food  poverty  ext_pov  \n",
       "0       2.5  15.6     33.0      6.1  \n",
       "1       4.1  10.0     18.8      2.8  \n",
       "2       9.9  14.5     17.9      2.8  \n",
       "3      34.9  22.0     51.0     15.9  \n",
       "4       3.4  13.2     28.8      5.9  "
      ]
     },
     "execution_count": 17,
     "metadata": {},
     "output_type": "execute_result"
    }
   ],
   "source": [
    "df_val.head()"
   ]
  },
  {
   "cell_type": "code",
   "execution_count": 18,
   "id": "3c10f0de",
   "metadata": {},
   "outputs": [
    {
     "data": {
      "text/plain": [
       "19.190625"
      ]
     },
     "execution_count": 18,
     "metadata": {},
     "output_type": "execute_result"
    }
   ],
   "source": [
    "df_val['education'].mean()"
   ]
  },
  {
   "cell_type": "code",
   "execution_count": 19,
   "id": "22654885",
   "metadata": {},
   "outputs": [
    {
     "data": {
      "text/plain": [
       "36.5"
      ]
     },
     "execution_count": 19,
     "metadata": {},
     "output_type": "execute_result"
    }
   ],
   "source": [
    "df_val['health'].mean()"
   ]
  },
  {
   "cell_type": "code",
   "execution_count": 20,
   "id": "c99d03d6",
   "metadata": {},
   "outputs": [
    {
     "data": {
      "text/plain": [
       "48.809375"
      ]
     },
     "execution_count": 20,
     "metadata": {},
     "output_type": "execute_result"
    }
   ],
   "source": [
    "df_val['social'].mean()"
   ]
  },
  {
   "cell_type": "code",
   "execution_count": 21,
   "id": "d2596e60",
   "metadata": {},
   "outputs": [
    {
     "data": {
      "text/plain": [
       "9.375"
      ]
     },
     "execution_count": 21,
     "metadata": {},
     "output_type": "execute_result"
    }
   ],
   "source": [
    "df_val['housing1'].mean()"
   ]
  },
  {
   "cell_type": "code",
   "execution_count": 22,
   "id": "a887bcd3",
   "metadata": {},
   "outputs": [
    {
     "data": {
      "text/plain": [
       "18.153125000000003"
      ]
     },
     "execution_count": 22,
     "metadata": {},
     "output_type": "execute_result"
    }
   ],
   "source": [
    "df_val['housing2'].mean()"
   ]
  },
  {
   "cell_type": "code",
   "execution_count": 23,
   "id": "ebc1e534",
   "metadata": {},
   "outputs": [
    {
     "data": {
      "text/plain": [
       "18.1875"
      ]
     },
     "execution_count": 23,
     "metadata": {},
     "output_type": "execute_result"
    }
   ],
   "source": [
    "df_val['food'].mean()"
   ]
  },
  {
   "cell_type": "code",
   "execution_count": 24,
   "id": "6c49d68a",
   "metadata": {},
   "outputs": [
    {
     "data": {
      "text/plain": [
       "41.443749999999994"
      ]
     },
     "execution_count": 24,
     "metadata": {},
     "output_type": "execute_result"
    }
   ],
   "source": [
    "df_val['poverty'].mean()"
   ]
  }
 ],
 "metadata": {
  "kernelspec": {
   "display_name": "new",
   "language": "python",
   "name": "python3"
  },
  "language_info": {
   "codemirror_mode": {
    "name": "ipython",
    "version": 3
   },
   "file_extension": ".py",
   "mimetype": "text/x-python",
   "name": "python",
   "nbconvert_exporter": "python",
   "pygments_lexer": "ipython3",
   "version": "3.10.9"
  }
 },
 "nbformat": 4,
 "nbformat_minor": 5
}
