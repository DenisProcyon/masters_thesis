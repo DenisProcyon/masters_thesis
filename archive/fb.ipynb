{
 "cells": [
  {
   "cell_type": "code",
   "execution_count": 8,
   "metadata": {},
   "outputs": [],
   "source": [
    "import requests"
   ]
  },
  {
   "cell_type": "code",
   "execution_count": 9,
   "metadata": {},
   "outputs": [],
   "source": [
    "# Токен доступа, который ты получил в Meta for Developers\n",
    "ACCESS_TOKEN = '1754421708810756|_9bN7ocIRCa54HFaQnmzmj657wE'\n",
    "\n",
    "# ID или username страницы, которую хочешь получить\n",
    "PAGE_ID = 'Mexico'\n",
    "\n",
    "# Какие поля ты хочешь получить\n",
    "FIELDS = 'id,name,about,fan_count,followers_count,website'"
   ]
  },
  {
   "cell_type": "code",
   "execution_count": 10,
   "metadata": {},
   "outputs": [
    {
     "name": "stdout",
     "output_type": "stream",
     "text": [
      "Ошибка 400: {\"error\":{\"message\":\"(#100) Object does not exist, cannot be loaded due to missing permission or reviewable feature, or does not support this operation. This endpoint requires the 'pages_read_engagement' permission or the 'Page Public Content Access' feature or the 'Page Public Metadata Access' feature. Refer to https:\\/\\/developers.facebook.com\\/docs\\/apps\\/review\\/login-permissions#manage-pages, https:\\/\\/developers.facebook.com\\/docs\\/apps\\/review\\/feature#reference-PAGES_ACCESS and https:\\/\\/developers.facebook.com\\/docs\\/apps\\/review\\/feature#page-public-metadata-access for details.\",\"type\":\"OAuthException\",\"code\":100,\"fbtrace_id\":\"AfTmwnBw2IrKQf3HIdTmXYK\"}}\n"
     ]
    }
   ],
   "source": [
    "# URL запроса\n",
    "url = f'https://graph.facebook.com/v18.0/{PAGE_ID}?fields={FIELDS}&access_token={ACCESS_TOKEN}'\n",
    "\n",
    "# Выполняем GET-запрос\n",
    "response = requests.get(url)\n",
    "\n",
    "# Обрабатываем ответ\n",
    "if response.status_code == 200:\n",
    "    data = response.json()\n",
    "    print(\"Данные страницы:\")\n",
    "    for key, value in data.items():\n",
    "        print(f\"{key}: {value}\")\n",
    "else:\n",
    "    print(f\"Ошибка {response.status_code}: {response.text}\")"
   ]
  }
 ],
 "metadata": {
  "kernelspec": {
   "display_name": "thesis_venv",
   "language": "python",
   "name": "python3"
  },
  "language_info": {
   "codemirror_mode": {
    "name": "ipython",
    "version": 3
   },
   "file_extension": ".py",
   "mimetype": "text/x-python",
   "name": "python",
   "nbconvert_exporter": "python",
   "pygments_lexer": "ipython3",
   "version": "3.12.2"
  }
 },
 "nbformat": 4,
 "nbformat_minor": 2
}
